{
 "cells": [
  {
   "cell_type": "markdown",
   "metadata": {},
   "source": [
    "# Projeto 1 - Ciência dos Dados"
   ]
  },
  {
   "attachments": {},
   "cell_type": "markdown",
   "metadata": {},
   "source": [
    "Nome: Mateus Marinheiro\n",
    "\n",
    "Nome: Henrique Albuquerque\n"
   ]
  },
  {
   "cell_type": "markdown",
   "metadata": {},
   "source": [
    "Atenção: Serão permitidos grupos de três pessoas, mas com uma rubrica mais exigente. Grupos deste tamanho precisarão fazer um questionário de avaliação de trabalho em equipe"
   ]
  },
  {
   "cell_type": "markdown",
   "metadata": {},
   "source": [
    "___\n",
    "Carregando algumas bibliotecas:"
   ]
  },
  {
   "cell_type": "code",
   "execution_count": 52,
   "metadata": {},
   "outputs": [],
   "source": [
    "%matplotlib inline\n",
    "import pandas as pd\n",
    "import matplotlib.pyplot as plt\n",
    "import numpy as np\n",
    "import os"
   ]
  },
  {
   "cell_type": "code",
   "execution_count": 53,
   "metadata": {
    "scrolled": false
   },
   "outputs": [
    {
     "name": "stdout",
     "output_type": "stream",
     "text": [
      "Esperamos trabalhar no diretório\n",
      "c:\\Users\\rique\\OneDrive\\Área de Trabalho\\INSPER\\2023\\2 semestre\\C dados\\Projeto-1-C-Dados\n"
     ]
    }
   ],
   "source": [
    "print('Esperamos trabalhar no diretório')\n",
    "print(os.getcwd())"
   ]
  },
  {
   "cell_type": "markdown",
   "metadata": {},
   "source": [
    "Carregando a base de dados com os tweets classificados manualmente:"
   ]
  },
  {
   "cell_type": "code",
   "execution_count": 54,
   "metadata": {},
   "outputs": [
    {
     "data": {
      "text/html": [
       "<div>\n",
       "<style scoped>\n",
       "    .dataframe tbody tr th:only-of-type {\n",
       "        vertical-align: middle;\n",
       "    }\n",
       "\n",
       "    .dataframe tbody tr th {\n",
       "        vertical-align: top;\n",
       "    }\n",
       "\n",
       "    .dataframe thead th {\n",
       "        text-align: right;\n",
       "    }\n",
       "</style>\n",
       "<table border=\"1\" class=\"dataframe\">\n",
       "  <thead>\n",
       "    <tr style=\"text-align: right;\">\n",
       "      <th></th>\n",
       "      <th>Mensagem</th>\n",
       "      <th>Target</th>\n",
       "    </tr>\n",
       "  </thead>\n",
       "  <tbody>\n",
       "    <tr>\n",
       "      <th>0</th>\n",
       "      <td>Fique atento na compra. Ainda está com problem...</td>\n",
       "      <td>Relevante</td>\n",
       "    </tr>\n",
       "    <tr>\n",
       "      <th>1</th>\n",
       "      <td>Talvez a tradução antiga tivesse um pouco mais...</td>\n",
       "      <td>Relevante</td>\n",
       "    </tr>\n",
       "    <tr>\n",
       "      <th>2</th>\n",
       "      <td>Sinceramente, também estou tentando entender c...</td>\n",
       "      <td>Relevante</td>\n",
       "    </tr>\n",
       "    <tr>\n",
       "      <th>3</th>\n",
       "      <td>Escolhi o livro por acreditar no tema e indica...</td>\n",
       "      <td>Irrelevante</td>\n",
       "    </tr>\n",
       "    <tr>\n",
       "      <th>4</th>\n",
       "      <td>Recebi o produto avariado, no mesmo dia reclam...</td>\n",
       "      <td>Relevante</td>\n",
       "    </tr>\n",
       "  </tbody>\n",
       "</table>\n",
       "</div>"
      ],
      "text/plain": [
       "                                            Mensagem       Target\n",
       "0  Fique atento na compra. Ainda está com problem...    Relevante\n",
       "1  Talvez a tradução antiga tivesse um pouco mais...    Relevante\n",
       "2  Sinceramente, também estou tentando entender c...    Relevante\n",
       "3  Escolhi o livro por acreditar no tema e indica...  Irrelevante\n",
       "4  Recebi o produto avariado, no mesmo dia reclam...    Relevante"
      ]
     },
     "execution_count": 54,
     "metadata": {},
     "output_type": "execute_result"
    }
   ],
   "source": [
    "train = pd.read_excel('dados_treino.xlsx')\n",
    "train.head(5)"
   ]
  },
  {
   "cell_type": "code",
   "execution_count": 55,
   "metadata": {},
   "outputs": [
    {
     "data": {
      "text/plain": [
       "Irrelevante    153\n",
       "Relevante      147\n",
       "Name: Target, dtype: int64"
      ]
     },
     "execution_count": 55,
     "metadata": {},
     "output_type": "execute_result"
    }
   ],
   "source": [
    "train.Target.value_counts()"
   ]
  },
  {
   "cell_type": "code",
   "execution_count": 56,
   "metadata": {},
   "outputs": [
    {
     "data": {
      "text/html": [
       "<div>\n",
       "<style scoped>\n",
       "    .dataframe tbody tr th:only-of-type {\n",
       "        vertical-align: middle;\n",
       "    }\n",
       "\n",
       "    .dataframe tbody tr th {\n",
       "        vertical-align: top;\n",
       "    }\n",
       "\n",
       "    .dataframe thead th {\n",
       "        text-align: right;\n",
       "    }\n",
       "</style>\n",
       "<table border=\"1\" class=\"dataframe\">\n",
       "  <thead>\n",
       "    <tr style=\"text-align: right;\">\n",
       "      <th></th>\n",
       "      <th>Mensagem</th>\n",
       "      <th>Target</th>\n",
       "    </tr>\n",
       "  </thead>\n",
       "  <tbody>\n",
       "    <tr>\n",
       "      <th>0</th>\n",
       "      <td>Não sou de desistir de livro, mas neste não te...</td>\n",
       "      <td>Irrelevante</td>\n",
       "    </tr>\n",
       "    <tr>\n",
       "      <th>1</th>\n",
       "      <td>EU NEM SE QUER RECEBI O PRODUTO! Voces são mui...</td>\n",
       "      <td>Relevante</td>\n",
       "    </tr>\n",
       "    <tr>\n",
       "      <th>2</th>\n",
       "      <td>Tao ruim quanto o primeiro. Fonte não justific...</td>\n",
       "      <td>Relevante</td>\n",
       "    </tr>\n",
       "    <tr>\n",
       "      <th>3</th>\n",
       "      <td>Sou fã do canal, estava na primeira sessão da ...</td>\n",
       "      <td>Irrelevante</td>\n",
       "    </tr>\n",
       "    <tr>\n",
       "      <th>4</th>\n",
       "      <td>Péssimo. O autor claramente tem um visão disto...</td>\n",
       "      <td>Irrelevante</td>\n",
       "    </tr>\n",
       "  </tbody>\n",
       "</table>\n",
       "</div>"
      ],
      "text/plain": [
       "                                            Mensagem       Target\n",
       "0  Não sou de desistir de livro, mas neste não te...  Irrelevante\n",
       "1  EU NEM SE QUER RECEBI O PRODUTO! Voces são mui...    Relevante\n",
       "2  Tao ruim quanto o primeiro. Fonte não justific...    Relevante\n",
       "3  Sou fã do canal, estava na primeira sessão da ...  Irrelevante\n",
       "4  Péssimo. O autor claramente tem um visão disto...  Irrelevante"
      ]
     },
     "execution_count": 56,
     "metadata": {},
     "output_type": "execute_result"
    }
   ],
   "source": [
    "test = pd.read_excel('dados_teste.xlsx')\n",
    "test.head(5)"
   ]
  },
  {
   "cell_type": "code",
   "execution_count": 57,
   "metadata": {},
   "outputs": [
    {
     "data": {
      "text/plain": [
       "Irrelevante    162\n",
       "Relevante       38\n",
       "Name: Target, dtype: int64"
      ]
     },
     "execution_count": 57,
     "metadata": {},
     "output_type": "execute_result"
    }
   ],
   "source": [
    "test.Target.value_counts()"
   ]
  },
  {
   "attachments": {},
   "cell_type": "markdown",
   "metadata": {},
   "source": [
    "___\n",
    "## Classificador automático de feedbacks de produtos da Amazon\n"
   ]
  },
  {
   "attachments": {},
   "cell_type": "markdown",
   "metadata": {},
   "source": [
    "Será criado um classificador segundo a teoria de probabilidade de Naïve Bayes, classificando notícias atuais sobre o mercado digital como:\n",
    "\n",
    "- Relevante: Mensagens consideradas como relevantes serão aqueles que trazem alguma crítica à direcionadas a Amazon, sejam elas, em relação à preços, envios e outros problemas. Também serão considerados relevantes críticas feitas às editoras, sendo assim, mensagens criticando a tradução, formatação do texto, qualidade do produto entre outros.</li>\n",
    "    \n",
    "- Irrelevante: Mensagens consideradas como Irrelevantes serão aquelas que trazem qualquer tipo de opinião sobre o livro, qualquer tipo de elogio e qualquer outra coisa que não se enquadra como relevante.  </li>\n",
    "    "
   ]
  },
  {
   "cell_type": "markdown",
   "metadata": {},
   "source": [
    "___\n",
    "## Montando um Classificador Naive-Bayes\n",
    "\n",
    "Considerando apenas as mensagens da planilha Treinamento, ensine  seu classificador."
   ]
  },
  {
   "attachments": {},
   "cell_type": "markdown",
   "metadata": {},
   "source": [
    "#### 1 - Funções de  _cleanup_"
   ]
  },
  {
   "attachments": {},
   "cell_type": "markdown",
   "metadata": {},
   "source": [
    "Função que irá retirar das mensagens recebidas todos os ruídos, sendo eles, pountuações e símbolos, e também retiramos emojis, e números, que foram considerados irrelevantes para o nosso classificador."
   ]
  },
  {
   "cell_type": "code",
   "execution_count": 58,
   "metadata": {},
   "outputs": [],
   "source": [
    "# https://docs.python.org/3/library/re.html#\n",
    "import re \n",
    "\n",
    "\n",
    "def cleanup(text):\n",
    "    \"\"\"\n",
    "        Função de limpeza muito simples que troca alguns sinais básicos por espaços\n",
    "    \"\"\"\n",
    "    #import string\n",
    "    punctuation = '[´\"!-.:?;$'']' # Note que os sinais [] são delimitadores de um conjunto.\n",
    "    pattern = re.compile(punctuation)\n",
    "    text_subbed = re.sub(pattern, '', text)\n",
    "    return text_subbed\n",
    "\n",
    "import re\n",
    "\n",
    "def remove_emojis(text):\n",
    "    # Define um padrão de regex para encontrar emojis\n",
    "    emoji_pattern = re.compile(\"[\"\n",
    "                               u\"\\U0001F600-\\U0001F64F\"  # Emoticons\n",
    "                               u\"\\U0001F300-\\U0001F5FF\"  # Símbolos e pictogramas diversos\n",
    "                               u\"\\U0001F680-\\U0001F6FF\"  # Transporte e símbolos de mapa\n",
    "                               u\"\\U0001F700-\\U0001F77F\"  # Símbolos de alquimia, religião e zodíaco\n",
    "                               u\"\\U0001F780-\\U0001F7FF\"  # Símbolos de traços diversos\n",
    "                               u\"\\U0001F800-\\U0001F8FF\"  # Símbolos de escrita linear abugida\n",
    "                               u\"\\U0001F900-\\U0001F9FF\"  # Símbolos suplementares de escrita linear abugida\n",
    "                               u\"\\U0001FA00-\\U0001FA6F\"  # Símbolos de xadrez\n",
    "                               u\"\\U0001FA70-\\U0001FAFF\"  # Símbolos de emojis adicionais\n",
    "                               u\"\\U0001F004-\\U0001F0CF\"  # Símbolos de cartas de baralho\n",
    "                               u\"\\U0001F170-\\U0001F251\"  # Símbolos de emojis de comemoração\n",
    "                               \"]+\", flags=re.UNICODE)\n",
    "\n",
    "    # Substitui os emojis por uma string vazia\n",
    "    clean_text = emoji_pattern.sub(r'', text)\n",
    "\n",
    "    return clean_text\n",
    "\n"
   ]
  },
  {
   "attachments": {},
   "cell_type": "markdown",
   "metadata": {},
   "source": [
    "#### 2 - Limpeza dos comentários\n",
    "##### A limpeza de dados é essencial para a criação do classificador, visto que ela retire todos caracteres que não interferem no sentido semântico de um comentário, evitando assim que eles sejam classificados por aspectos que não são o obejetivo e, consequentemente, aumentando a precisão dele"
   ]
  },
  {
   "cell_type": "code",
   "execution_count": 59,
   "metadata": {},
   "outputs": [
    {
     "name": "stdout",
     "output_type": "stream",
     "text": [
      "\n",
      " total de palavras coletadas de comentários relevantes: 8098 \n",
      " total de palavras coletadas de comentários irrelevantes: 8034 \n",
      " total de palavras coletadas: 16132 \n"
     ]
    }
   ],
   "source": [
    "palavras_relevantes = []             #Lista com as palvras de feedbacks relevantes.\n",
    "palavras_irrelevantes = []         #Lista com as palvras de feedbacks irrelevantes.\n",
    "\n",
    "train_relevantes = train.loc[train.Target == 'Relevante', :]        #base de dados relevante\n",
    "train_irrelevantes = train.loc[train.Target == 'Irrelevante', :]        #base de dados irrelevantes\n",
    "\n",
    "for i in range(len(train_relevantes)):      #Limpando os emojis e potuação da base de dados relevante e colocando as palavras em uma lista.\n",
    "    palavras_relevantes += cleanup(remove_emojis(train_relevantes.iloc[i, 0].lower())).split()\n",
    "\n",
    "for i in range(len(train_irrelevantes)):    #Limpando os emojis e pontuação da base de dados irrelevante e colocando as palavras em uma lista.\n",
    "    palavras_irrelevantes += cleanup(remove_emojis(train_irrelevantes.iloc[i, 0].lower())).split()\n",
    "\n",
    "#Tirando númreros das listas de palavras.\n",
    "\n",
    "for i in range(len(palavras_relevantes)):\n",
    "    for caractere in palavras_relevantes[i]:\n",
    "        if caractere.isdigit():\n",
    "            palavras_relevantes[i] = ''\n",
    "    \n",
    "for i in range(len(palavras_irrelevantes)):\n",
    "    for caractere in palavras_irrelevantes[i]:\n",
    "        if caractere.isdigit():\n",
    "            palavras_irrelevantes[i] = ''\n",
    "\n",
    "#Criando lista com todas as palavras\n",
    "total_palavras = palavras_relevantes + palavras_irrelevantes\n",
    "\n",
    "print( f'\\n total de palavras coletadas de comentários relevantes: {len(palavras_relevantes)} '\n",
    "      f'\\n total de palavras coletadas de comentários irrelevantes: {len(palavras_irrelevantes)} '\n",
    "      f'\\n total de palavras coletadas: {len(total_palavras)} ')\n"
   ]
  },
  {
   "cell_type": "code",
   "execution_count": 60,
   "metadata": {},
   "outputs": [],
   "source": [
    "def limpeza_relevantes (treino):\n",
    "    palavras_relevantes = []             #Lista com as palvras de feedbacks relevantes.\n",
    "\n",
    "    train_relevantes = train.loc[train.Target == 'Relevante', :]        #base de dados relevante\n",
    "\n",
    "    for i in range(len(train_relevantes)):      #Limpando os emojis e potuação da base de dados relevante e colocando as palavras em uma lista.\n",
    "        palavras_relevantes += cleanup(remove_emojis(train_relevantes.iloc[i, 0].lower())).split()\n",
    "\n",
    "    #Tirando númreros das listas de palavras.\n",
    "\n",
    "    for i in range(len(palavras_relevantes)):\n",
    "        for caractere in palavras_relevantes[i]:\n",
    "            if caractere.isdigit():\n",
    "                palavras_relevantes[i] = ''\n",
    "        \n",
    "    return palavras_relevantes\n",
    "\n",
    "def limpeza_irrelevante (treino):\n",
    "    palavras_irrelevantes = []         #Lista com as palvras de feedbacks irrelevantes.\n",
    "\n",
    "    train_irrelevantes = train.loc[train.Target == 'Irrelevante', :]        #base de dados irrelevantes\n",
    "\n",
    "    for i in range(len(train_irrelevantes)):    #Limpando os emojis e pontuação da base de dados irrelevante e colocando as palavras em uma lista.\n",
    "        palavras_irrelevantes += cleanup(remove_emojis(train_irrelevantes.iloc[i, 0].lower())).split()\n",
    "\n",
    "    #Tirando númreros das listas de palavras.\n",
    "\n",
    "    for i in range(len(palavras_irrelevantes)):\n",
    "        for caractere in palavras_irrelevantes[i]:\n",
    "            if caractere.isdigit():\n",
    "                palavras_irrelevantes[i] = ''\n",
    "\n",
    "    return palavras_irrelevantes"
   ]
  },
  {
   "attachments": {},
   "cell_type": "markdown",
   "metadata": {},
   "source": [
    "#### 3 - Criando pd.series para cada Target\n",
    "Aqui vamos transformar a lista de palavras em uma serié para poder utilizar algumas funcões que ajudam a tratar melhor os dados."
   ]
  },
  {
   "cell_type": "code",
   "execution_count": 61,
   "metadata": {},
   "outputs": [],
   "source": [
    "#Criando Série para palavras relevantes\n",
    "serie_relevantes = pd.Series(palavras_relevantes)\n",
    "\n",
    "#Criando Série para palavras não relevantes\n",
    "serie_irrelevantes = pd.Series(palavras_irrelevantes)\n",
    "\n",
    "#Criando série para todas as palavras:\n",
    "serie_total = pd.Series(total_palavras)"
   ]
  },
  {
   "attachments": {},
   "cell_type": "markdown",
   "metadata": {},
   "source": [
    "#### 4 - Gerando tabela de frequências para as Séries\n",
    "##### A tabela de frequêcia é essencial para o calculo, visto que ela gera a probabilidade de cada palavra aparecer, ou seja, ela gera a porcentagem que essa palavra apareceu em relação ao total de palavras. Essa porcentagem irá ser utilizada como uma variavel independente para calcular a chance de um comentário ser relevantes ou irrelevante."
   ]
  },
  {
   "cell_type": "code",
   "execution_count": 62,
   "metadata": {},
   "outputs": [
    {
     "name": "stdout",
     "output_type": "stream",
     "text": [
      "\n",
      " total de palavras diferente coletadas de comentários relevantes: 1994\n",
      " total de palavras diferente coletadas de comentários irrelevantes: 2219\n",
      " total de palavras diferente coletadas: 3486\n"
     ]
    }
   ],
   "source": [
    "#Tabela de frequência absoluto de palavras relevantes\n",
    "tabela_relevante_absoluto = serie_relevantes.value_counts()\n",
    "#Tabela de frequência relativa de palavras relevantes\n",
    "tabela_relevante_frequencia = serie_relevantes.value_counts(True)\n",
    "\n",
    "\n",
    "#Tabela de frequência absoluta de palavras não relevantes\n",
    "tabela_irrelevante_absoluto = serie_irrelevantes.value_counts()\n",
    "#Tabela de frequência relativa de palavras não relevantes\n",
    "tabela_irrelevante_frequencia = serie_irrelevantes.value_counts(True)\n",
    "\n",
    "\n",
    "#Tabela de frequência absoluta de todas as palavras\n",
    "tabela_total_absoluto = serie_total.value_counts()\n",
    "#Tabela de frequência relativa de todas as palavras\n",
    "tabela_total_frequencia = serie_total.value_counts(True)\n",
    "\n",
    "\n",
    "print( f'\\n total de palavras diferente coletadas de comentários relevantes: {len(tabela_relevante_absoluto)}' \n",
    "      f'\\n total de palavras diferente coletadas de comentários irrelevantes: {len(tabela_irrelevante_absoluto)}'\n",
    "      f'\\n total de palavras diferente coletadas: {len(tabela_total_absoluto)}')"
   ]
  },
  {
   "cell_type": "markdown",
   "metadata": {},
   "source": [
    "#### 5 - Suavilização de Laplace\n",
    "##### A suavilização de Laplace é utilizada para evitar que palavras que apareceram nos dados de testes, mas não nos de treinamento, acabem zerando a conta da probabilidade, que é feita pela multiplicação das variaveis independentes (no caso a probabilidade de cada palavra)."
   ]
  },
  {
   "cell_type": "code",
   "execution_count": 63,
   "metadata": {},
   "outputs": [],
   "source": [
    "def laplace_relevante (comentario):\n",
    "    if len(comentario) > 0:\n",
    "        palavras = comentario\n",
    "    P_i = 1\n",
    "    for i in palavras:\n",
    "        P_i *=  (tabela_relevante_absoluto[i] + 1) / (tabela_relevante_absoluto.sum() + len(tabela_total_absoluto))\n",
    "\n",
    "    return P_i\n",
    "\n",
    "def laplace_irrelevante (comentario):\n",
    "    if len(comentario) > 0:\n",
    "        palavras = comentario\n",
    "    P_i = 1\n",
    "    for i in palavras:\n",
    "        P_i *=  (tabela_irrelevante_absoluto[i] + 1) / (tabela_irrelevante_absoluto.sum() + len(tabela_total_absoluto))\n",
    "\n",
    "    return P_i\n"
   ]
  },
  {
   "cell_type": "markdown",
   "metadata": {},
   "source": [
    "___\n",
    "## Verificando a performance do Classificador\n",
    "\n",
    "Agora você deve testar o seu classificador com a base de Testes."
   ]
  },
  {
   "attachments": {},
   "cell_type": "markdown",
   "metadata": {},
   "source": [
    "#### Teoria\n",
    "\n",
    "Naive Bayes é um algoritmo de classificação probabilístico que utiliza o Teorema de Bayes para inferir a classe de uma amostra. Ele é frequentemente usado na área de Data Science para categorizar textos com base na frequência de palavras que aparecem nos mesmos. A grande vantagem do Naive Bayes é a sua simplicidade e a forma \"ingênua\" como ele trata as variáveis, assumindo que elas são independentes entre si.\n",
    "\n",
    "Para utilizar o algoritmo Naive Bayes na programação, é necessário seguir algumas etapas. Primeiro, são definidas algumas probabilidades como a probabilidade de um comentário em produtos da Amazon ser, ou relevante (como definimos anteriormente), ou irrelevante (como definido anteriormente também), bem como a probabilidade de um comentário ser classificado como um desses Targets, dada que foi classificada como uma delas. Em seguida, são calculadas essas probabilidades, utilizando técnicas como a suavização de Laplace para evitar casos em que uma palavra não esteja na base de dados.\n",
    "\n",
    "Para calcular a probabilidade de um comentário ser classificado como algum dos Targets, é necessário contar o número de palavras dos comentários classificados como esse Target e dividir pelo número total de palavras de todas as notícias.\n",
    "\n",
    "Por fim, para inferir a classe de uma amostra, é necessário calcular as probabilidades condicionais utilizando o Teorema de Bayes e escolher a classe com a maior probabilidade. É importante lembrar que o Naive Bayes assume que as variáveis são independentes entre si, o que pode levar a uma classificação incorreta em alguns casos. <strong>Segue abaixo um pouco do raciocínio matemático: </strong>\n",
    "\n",
    "###### Definindo algumas probabilidades:\n",
    "- $P(Comentário|Relevante)$: probabilidade de encontrar o comentário dado as palavras Relevantes;\n",
    "- $P(Comentário|Irrelevante)$: probabilidade de encontrar o comentário dado as palavras Irrelevantes;\n",
    "- $P(Relevante)$: probabilidade do comentário ser Relevante;\n",
    "- $P(Irrelevante)$: probabilidade do comentário ser Irrelevante;\n",
    "- $P(Comentário)$: probabilidade do comentário ocorrer.\n",
    "\n",
    "\n",
    "$$P(Relevante|Comentário) = \\frac{P(Comentário|Relevante) P(Relevante)}{P(Comentário)}$$\n",
    "\n",
    "<br>\n",
    "\n",
    "$$P(Irrelevante|Comentário) = \\frac{P(Comentário|Irrelevante) P(Irrelevante)}{P(Comentário)}$$\n",
    "\n",
    "<br>\n",
    "\n",
    "Primeiramente vamos calcular as seguintes probabilidades: $P(Relevante)$, $P(Irrelevante)$.\n",
    "\n",
    "\n",
    "- Número de palavras dos comentários relevantes: $Nr$\n",
    "- Número de palavras dos comentários irrelevantes: $Ni$\n",
    "- Número total de palavras: $Nt$\n",
    "\n",
    "<br>\n",
    "\n",
    "$$P(Relevante) = \\frac{Nr}{Nt}$$\n",
    "\n",
    "<br>\n",
    "\n",
    "<br>\n",
    "\n",
    "$$P(Irrelevante) = \\frac{Ni}{Nt}$$\n",
    "\n",
    "<br>\n",
    "\n",
    "\n",
    "Feito isso, vamos calcular as seguinte probabilidades: $P(Comentário|Relevante)$ , $P(Comentário|Irrelevante)$.\n",
    "\n",
    "Como calcular essa probabiilidades? Será necessário dividir as palavras de um comentário, e calcular a frequência absoluta de vezes que essa palavra aparece no total de palavras em cada Target, e dessa maneira, dividir pelo valor total de palavras que estão no conjunto de palavras dos comentários. Após feito isso é necessário multiplicar o valor obtido para cada palavra e assim temos a probabilidade $P()$ para um determinado comentário.\n",
    "\n",
    "Caso a palavras não esteja na nossa base de dados, utilizaremos a suavização de Laplace para prevenir casos como esse.\n",
    "\n",
    "### Suavização de Laplace:\n",
    "Esse método é utilizado para evitar que a probabilidade resulte em 0.\n",
    "Vamos mostrar isso com ajuda da matemática:\n",
    "\n",
    "- Se queremos calcular a probabilidade do comentário ser relevante dado que o comentário, porém, uma das palavras contidas nesse comentário não está na nossa base de dados. Usaremos portanto a suavização de Laplace.\n",
    "\n",
    "$$P(Palavra|Relevante) = \\frac{0}{Nr}$$\n",
    "\n",
    "Para que isso não aconteça nós somaremos 1 no numerador e para manter o equilíbrio somaremos a quantidade total de possíveis palavras da nossa base de dados:\n",
    "\n",
    "- Número total de possíveis palavras da nossa base de dados: $Npp$\n",
    "\n",
    "\n",
    "$$P(Palavra|Relevante) = \\frac{0 + 1}{Nr + Npp}$$\n",
    "\n",
    "<br>\n",
    "\n",
    "Sendo assim, nós teremos uma fórmula geral descrita da forma:\n",
    "\n",
    "- Frequência absoluta da palavra na lista de comentários relevantes: $Far$\n",
    "- Frequência absoluta da palavra na lista de comentários irrelevantes: $Fai$\n",
    "\n",
    "<br>\n",
    "\n",
    "$$P(Palavra|Relevante) = \\frac{Far + 1}{Nr + Npp}$$\n",
    "\n",
    "<br>\n",
    "\n",
    "$$P(Palavra|Irrelevante) = \\frac{Fai + 1}{Ni + Npp}$$\n",
    "\n",
    "<br>\n",
    "\n",
    "Com as duas fórmulas gerais, agora será necesséerio calcular a probabilidade de cada palavra, dado cada um dos dois Targetes, e multiplicar esses valores para obter a probabilidade de um comentário ser classificado como um dos dois Targets.\n",
    "Assim teremos, $P(Comentário|Relevante)$ e $P(Comentário|Irrelevante)$, das seguintes fórmulas:\n",
    "\n",
    "$$P(Relevante|Comentário) = \\frac{P(Comentário|Relevante) P(Relevante)}{P(Comentário)}$$\n",
    "\n",
    "<br>\n",
    "\n",
    "$$P(Irrelevante|Comentário) = \\frac{P(Comentário|Irrelevante) P(Irrelevante)}{P(Comentário)}$$\n",
    "\n",
    "<br>\n",
    "\n",
    "Como o denominador é o mesmo para as duas fórmulas, podemos simplificar e obter a seguinte fórmula:\n",
    "\n",
    "$$P(Relevante|Comentário) = P(Comentário|Relevante) P(Relevante)$$\n",
    "\n",
    "<br>\n",
    "\n",
    "$$P(Irrelevante|Comentário) = P(Comentário|Irrelevante) P(Irrelevante)$$\n",
    "\n",
    "<br>\n",
    "\n",
    "Agora, para inferir a classe de uma amostra, é necessário calcular as probabilidades condicionais utilizando o Teorema de Bayes e escolher a classe com a maior probabilidade. É importante lembrar que o Naive Bayes assume que as variáveis são independentes entre si, o que pode levar a uma classificação incorreta em alguns casos.\n",
    "\n"
   ]
  },
  {
   "attachments": {},
   "cell_type": "markdown",
   "metadata": {},
   "source": [
    "#### 1 - Criando um coluna no nosso dataframe de teste para guardar os resultados do nosso classificador"
   ]
  },
  {
   "cell_type": "code",
   "execution_count": 64,
   "metadata": {},
   "outputs": [],
   "source": [
    "#Criando coluna 'Classificador' na base de dados de teste\n",
    "test['Classificador'] = ''"
   ]
  },
  {
   "attachments": {},
   "cell_type": "markdown",
   "metadata": {},
   "source": [
    "#### 2 - Classificando os comentários do dataframe de teste"
   ]
  },
  {
   "cell_type": "code",
   "execution_count": 65,
   "metadata": {},
   "outputs": [],
   "source": [
    "test['Classificador'] = ''\n",
    "P_R = len(palavras_relevantes)/len(total_palavras)                                                                              # Probabilidade de ser relevante\n",
    "P_I = len(palavras_irrelevantes)/len(total_palavras)                                                                            # Probabilidade de ser irrelevante\n",
    "\n",
    "for i in range(len(test.Mensagem)):                                                                                             # Loop para percorrer todas as linhas da base de dados de teste\n",
    "    comentario = test.iloc[i,0]                                                                                                 # Comentário a ser classificado\n",
    "    comentario_limpo = cleanup(remove_emojis(comentario.lower())).split()                                                       # Comentário limpo\n",
    "    produto_prob_R = 1                                                                                                          # Variável que armazena o produto das probabilidades de ser relevante\n",
    "    produto_prob_I = 1                                                                                                          # Variável que armazena o produto das probabilidades de ser irrelevante\n",
    "    for palavra in comentario_limpo:                                                                                            # Loop para percorrer todas as palavras do comentário\n",
    "        \n",
    "        if palavra not in palavras_relevantes:                                                                                  # Se a palavra não estiver na lista de palavras relevantes, adiciona ela com frequência 0, necessária para a suavização de Laplace\n",
    "            tabela_relevante_absoluto[palavra] = 0                  \n",
    "        \n",
    "        if palavra not in palavras_irrelevantes:                                                                                # Se a palavra não estiver na lista de palavras irrelevantes, adiciona ela com frequência 0, necessária para a suavização de Laplace\n",
    "            tabela_irrelevante_absoluto[palavra] = 0\n",
    "            \n",
    "\n",
    "        produto_prob_R *= (tabela_relevante_absoluto[palavra] + 1)/(len(palavras_relevantes) + len(tabela_total_absoluto))      # Calculando o produto das probabilidades de ser relevante\n",
    "        produto_prob_I *= (tabela_irrelevante_absoluto[palavra] + 1)/(len(palavras_irrelevantes) + len(tabela_total_absoluto))  # Calculando o produto das probabilidades de ser irrelevante\n",
    "        \n",
    "\n",
    "    probabilidade_relevante = produto_prob_R * P_R                                                                              # Calculando a probabilidade de ser relevante\n",
    "    probabilidade_irrelevante = produto_prob_I * P_I                                                                            # Calculando a probabilidade de ser irrelevante\n",
    "\n",
    "    if probabilidade_relevante > probabilidade_irrelevante:                                                                     # Se a probabilidade de ser relevante for maior que a probabilidade de ser irrelevante, classifica como relevante\n",
    "        test.iloc[i,2] = 'Relevante'                                                                                            # Classifica como relevante\n",
    "    else:                                                                                                                       # Se a probabilidade de ser irrelevante for maior que a probabilidade de ser relevante, classifica como irrelevante\n",
    "        test.iloc[i,2] = 'Irrelevante'                                                                                          # Classifica como irrelevante\n",
    "\n"
   ]
  },
  {
   "attachments": {},
   "cell_type": "markdown",
   "metadata": {},
   "source": [
    "#### 3 - Verificando a performance do nosso classificador\n",
    "\n",
    "Coluna 'Target' são as classificações feitas manualmente\n",
    "\n",
    "Coluna 'Classificação' são as classificações feitas pelo nosso classificador"
   ]
  },
  {
   "cell_type": "code",
   "execution_count": 66,
   "metadata": {},
   "outputs": [
    {
     "data": {
      "text/html": [
       "<div>\n",
       "<style scoped>\n",
       "    .dataframe tbody tr th:only-of-type {\n",
       "        vertical-align: middle;\n",
       "    }\n",
       "\n",
       "    .dataframe tbody tr th {\n",
       "        vertical-align: top;\n",
       "    }\n",
       "\n",
       "    .dataframe thead th {\n",
       "        text-align: right;\n",
       "    }\n",
       "</style>\n",
       "<table border=\"1\" class=\"dataframe\">\n",
       "  <thead>\n",
       "    <tr style=\"text-align: right;\">\n",
       "      <th></th>\n",
       "      <th>Mensagem</th>\n",
       "      <th>Target</th>\n",
       "      <th>Classificador</th>\n",
       "    </tr>\n",
       "  </thead>\n",
       "  <tbody>\n",
       "    <tr>\n",
       "      <th>0</th>\n",
       "      <td>Não sou de desistir de livro, mas neste não te...</td>\n",
       "      <td>Irrelevante</td>\n",
       "      <td>Irrelevante</td>\n",
       "    </tr>\n",
       "    <tr>\n",
       "      <th>1</th>\n",
       "      <td>EU NEM SE QUER RECEBI O PRODUTO! Voces são mui...</td>\n",
       "      <td>Relevante</td>\n",
       "      <td>Relevante</td>\n",
       "    </tr>\n",
       "    <tr>\n",
       "      <th>2</th>\n",
       "      <td>Tao ruim quanto o primeiro. Fonte não justific...</td>\n",
       "      <td>Relevante</td>\n",
       "      <td>Relevante</td>\n",
       "    </tr>\n",
       "    <tr>\n",
       "      <th>3</th>\n",
       "      <td>Sou fã do canal, estava na primeira sessão da ...</td>\n",
       "      <td>Irrelevante</td>\n",
       "      <td>Irrelevante</td>\n",
       "    </tr>\n",
       "    <tr>\n",
       "      <th>4</th>\n",
       "      <td>Péssimo. O autor claramente tem um visão disto...</td>\n",
       "      <td>Irrelevante</td>\n",
       "      <td>Irrelevante</td>\n",
       "    </tr>\n",
       "    <tr>\n",
       "      <th>...</th>\n",
       "      <td>...</td>\n",
       "      <td>...</td>\n",
       "      <td>...</td>\n",
       "    </tr>\n",
       "    <tr>\n",
       "      <th>195</th>\n",
       "      <td>lixo de um astrólogo limítrofe</td>\n",
       "      <td>Irrelevante</td>\n",
       "      <td>Irrelevante</td>\n",
       "    </tr>\n",
       "    <tr>\n",
       "      <th>196</th>\n",
       "      <td>Achei ridículo! Eu realmente esperava uma hist...</td>\n",
       "      <td>Irrelevante</td>\n",
       "      <td>Irrelevante</td>\n",
       "    </tr>\n",
       "    <tr>\n",
       "      <th>197</th>\n",
       "      <td>As afirmações do autor, que é historiador, não...</td>\n",
       "      <td>Irrelevante</td>\n",
       "      <td>Irrelevante</td>\n",
       "    </tr>\n",
       "    <tr>\n",
       "      <th>198</th>\n",
       "      <td>Livro meio fantasioso , quer dizer que quase n...</td>\n",
       "      <td>Irrelevante</td>\n",
       "      <td>Irrelevante</td>\n",
       "    </tr>\n",
       "    <tr>\n",
       "      <th>199</th>\n",
       "      <td>Seria o ideal... E bebê,  nenê? Que mulher se ...</td>\n",
       "      <td>Irrelevante</td>\n",
       "      <td>Irrelevante</td>\n",
       "    </tr>\n",
       "  </tbody>\n",
       "</table>\n",
       "<p>200 rows × 3 columns</p>\n",
       "</div>"
      ],
      "text/plain": [
       "                                              Mensagem       Target  \\\n",
       "0    Não sou de desistir de livro, mas neste não te...  Irrelevante   \n",
       "1    EU NEM SE QUER RECEBI O PRODUTO! Voces são mui...    Relevante   \n",
       "2    Tao ruim quanto o primeiro. Fonte não justific...    Relevante   \n",
       "3    Sou fã do canal, estava na primeira sessão da ...  Irrelevante   \n",
       "4    Péssimo. O autor claramente tem um visão disto...  Irrelevante   \n",
       "..                                                 ...          ...   \n",
       "195                     lixo de um astrólogo limítrofe  Irrelevante   \n",
       "196  Achei ridículo! Eu realmente esperava uma hist...  Irrelevante   \n",
       "197  As afirmações do autor, que é historiador, não...  Irrelevante   \n",
       "198  Livro meio fantasioso , quer dizer que quase n...  Irrelevante   \n",
       "199  Seria o ideal... E bebê,  nenê? Que mulher se ...  Irrelevante   \n",
       "\n",
       "    Classificador  \n",
       "0     Irrelevante  \n",
       "1       Relevante  \n",
       "2       Relevante  \n",
       "3     Irrelevante  \n",
       "4     Irrelevante  \n",
       "..            ...  \n",
       "195   Irrelevante  \n",
       "196   Irrelevante  \n",
       "197   Irrelevante  \n",
       "198   Irrelevante  \n",
       "199   Irrelevante  \n",
       "\n",
       "[200 rows x 3 columns]"
      ]
     },
     "execution_count": 66,
     "metadata": {},
     "output_type": "execute_result"
    }
   ],
   "source": [
    "test"
   ]
  },
  {
   "cell_type": "code",
   "execution_count": 67,
   "metadata": {},
   "outputs": [
    {
     "data": {
      "text/html": [
       "<div>\n",
       "<style scoped>\n",
       "    .dataframe tbody tr th:only-of-type {\n",
       "        vertical-align: middle;\n",
       "    }\n",
       "\n",
       "    .dataframe tbody tr th {\n",
       "        vertical-align: top;\n",
       "    }\n",
       "\n",
       "    .dataframe thead th {\n",
       "        text-align: right;\n",
       "    }\n",
       "</style>\n",
       "<table border=\"1\" class=\"dataframe\">\n",
       "  <thead>\n",
       "    <tr style=\"text-align: right;\">\n",
       "      <th>Classificador</th>\n",
       "      <th>Irrelevante</th>\n",
       "      <th>Relevante</th>\n",
       "    </tr>\n",
       "    <tr>\n",
       "      <th>Target</th>\n",
       "      <th></th>\n",
       "      <th></th>\n",
       "    </tr>\n",
       "  </thead>\n",
       "  <tbody>\n",
       "    <tr>\n",
       "      <th>Irrelevante</th>\n",
       "      <td>76.0</td>\n",
       "      <td>5.0</td>\n",
       "    </tr>\n",
       "    <tr>\n",
       "      <th>Relevante</th>\n",
       "      <td>2.0</td>\n",
       "      <td>17.0</td>\n",
       "    </tr>\n",
       "  </tbody>\n",
       "</table>\n",
       "</div>"
      ],
      "text/plain": [
       "Classificador  Irrelevante  Relevante\n",
       "Target                               \n",
       "Irrelevante           76.0        5.0\n",
       "Relevante              2.0       17.0"
      ]
     },
     "execution_count": 67,
     "metadata": {},
     "output_type": "execute_result"
    }
   ],
   "source": [
    "pd.crosstab(test.Target, test.Classificador, normalize = 'all').round(2)*100"
   ]
  },
  {
   "attachments": {},
   "cell_type": "markdown",
   "metadata": {},
   "source": [
    "Porcentagem dos comentários relevantes classificados como relevantes (Verdadeiros positivos): 89.5% \n",
    "\n",
    "Porcentagem dos comentários relevantes classificados como irrelevantes (falsos negativos): 10.5%\n",
    "\n",
    "Porcentagem dos comentários irrelevantes classificados como relevantes (falsos positivos): 6.2%\n",
    "\n",
    "Porcentagem dos comentários irrelevantes classificados como irrelevantes (verdadeiros negativos): 93.8%"
   ]
  },
  {
   "cell_type": "code",
   "execution_count": 68,
   "metadata": {},
   "outputs": [
    {
     "name": "stdout",
     "output_type": "stream",
     "text": [
      "A acurácia do nosso classificador é de 91.65045%\n"
     ]
    }
   ],
   "source": [
    "#Acurácia do nosso classificador:\n",
    "\n",
    "acuracia = ((pd.crosstab(test.Target, test.Classificador, normalize = 'index').round(6)*100).iloc[0,0] + (pd.crosstab(test.Target, test.Classificador, normalize = 'index').round(6)*100).iloc[1,1])/2\n",
    "print('A acurácia do nosso classificador é de {}%'.format(acuracia))\n"
   ]
  },
  {
   "cell_type": "markdown",
   "metadata": {},
   "source": [
    "___\n",
    "## Concluindo:"
   ]
  },
  {
   "attachments": {},
   "cell_type": "markdown",
   "metadata": {},
   "source": [
    "### Após a análise do nosso classificador, podemos concluir que:\n",
    "\n",
    " Porcentagem de verdadeiros relevantes: 89.5%\n",
    "\n",
    "Porcentagem de falsos relevantes: 10.5%\n",
    "\n",
    "Porcentagem de verdadeiros irrelevantes: 93.8%\n",
    "\n",
    "Porcentagem de falsos irrelevantes: 6.2%\n",
    "\n",
    "O classificador teve uma acurácia de 91.6% na classificação dos comentários. \n"
   ]
  },
  {
   "attachments": {},
   "cell_type": "markdown",
   "metadata": {},
   "source": [
    "**Com base nessa porcentagens podemos concluir que o classficador gerou bons resultados como uma primeira hipótese, porém, ainda há espaço para melhorias, já que sua acurácia não é de 100%.**"
   ]
  },
  {
   "cell_type": "markdown",
   "metadata": {},
   "source": [
    "### Analise qualitativa dos resultados:\n",
    "\n",
    "Ao analisar os resultados conclui-se que a maioria dos comentários recebidos são irrelevantes (76%) e foram classificados dessa maneira, ou seja, são críticas sobre os livros e o conteúdo deles e, portanto, não agregam nada ao desenvolvimento das empresas, no caso a Amazon, editora e distribuidora, sendo assim, devem ser ignorados. Porém 17% dos cometários são classificados como Relevantes, e devem ser analisados por essas empresas para entender quais aspectos delas estão sendo elogiados e quais estão sendo problematizados, por exemplo, para a Amazon um aspecto que foi muito questionado foi o alto preço dos livros, já para a editora o material para da capa e das folhas do livros, enquanto para a distribuidora foi o estado que o livro chegou para o destinatário. Sendo assim, essas empresas devem analisar esses cometários para criar um plano que visa melhorar esses serviços. \n",
    "\n",
    "Em relação aos comentários que foram classificados de maneira incorreta (7% ao todo), por serem uma porcentagem pequena de erros eles não iram afetar muito a analise, visto que 5% são comentários irrelevantes que foram classificados como relevantes, o que não irá atrapalhar o desenvolvimento da empresa, somente demandar um pouco mais de tempo para ler todas mensagens. Entretanto os 2% restantes que são os falsos negativos, são preocupantes, pois são conteúdos que irão agragar para o desenvolvimento da empresa, mas nunca serão analisados já que foram classificados como irrelevantes. Entretanto esse porcentual é muito baixo, e com mais investimento no projeto ele pode diminuir ainda mais."
   ]
  },
  {
   "cell_type": "markdown",
   "metadata": {},
   "source": [
    "### Barreiras a serem superandas:"
   ]
  },
  {
   "cell_type": "markdown",
   "metadata": {},
   "source": [
    "#### Como ocorre o tratamento de mensagens com dupla negação e sacrsmo?\n",
    " Os comentários que possuem dupla negação ou sacarsmo são tratadas assim como todos os outros, por ser uma classificador que avalia o comentário baseado na frequência em que as palavras aparecem ele não compreende o sentido semântico das frases. Dessa forma, o caso de mensagens que dizem algo, mas possuem o intuito de se referirem ao sentido oposto, elas acabam possuindo mais chance de serem classificados inadequadamente, pois irão possuir palavras chaves que são de um grupo target oposto ao dela."
   ]
  },
  {
   "attachments": {},
   "cell_type": "markdown",
   "metadata": {},
   "source": [
    "#### Por quê não usar o próprio classificador para gerar mais amostras de treinamento?\n",
    "\n",
    "Não podemos usar o próprio classificador para gerar mais amostras de treinamento, pois o classificador não ia criar palavras novas, portanto ia criar mais frases com as mesmas palavras, somente diferentes combinações, e isso não iria ajudar a melhorar o classificador, pois não iria criar frases genéricas."
   ]
  },
  {
   "cell_type": "markdown",
   "metadata": {},
   "source": [
    "### Proximos passos:"
   ]
  },
  {
   "cell_type": "markdown",
   "metadata": {},
   "source": [
    "#### Importancia da empresa continuar investindo no nosso projeto:\n",
    "O projeto teve um alto nível de acurácia sem utilizar muitas melhorias, dessa forma o financiamento no projeto é essencial para continuar melhorando nosso classificador, é notavel que não se trata de um classificador muito sofisticado, porém existe algumas melhorais que podemos fazer com mais investimento, por exemplo uma incrementar seleção e limpeza de dados, em seguida encontrar novos meios para relacionar as diversas palavras e por ultimo maneiras de tratar comentários sarcasticos ou de dupla negação."
   ]
  },
  {
   "attachments": {},
   "cell_type": "markdown",
   "metadata": {},
   "source": [
    "#### Diferentes cenários para o classificador Naive-Bayes\n",
    "\n",
    "1. O classificador Naive-Bayes pode ser utilizado para classficar qual time uma pessoa torçe com base em comentários feitos em redes sociais a respeito de futebool, certas palavras chaves podem indicar qual time a pessoa torçe, como por exemplo, \"Flamengo\" e \"Mengão\" indicam que a pessoa torçe para o Flamengo, e assim por diante.\n",
    "\n",
    "2. O classificador Naive-Bayes, também pode ser utilizado para classificar artigos públicados, como por exemplo, artigos de opinião, artigos de notícias, artigos de entretenimento, artigos de esportes, etc. Para isso, basta criar uma base de dados com palavras chaves que indicam cada tipo de artigo, e assim, o classificador poderá classificar os artigos de acordo com as palavras chaves contidas neles."
   ]
  },
  {
   "attachments": {},
   "cell_type": "markdown",
   "metadata": {},
   "source": [
    "#### Melhorias reais com indicações concretas de como implementar\n",
    "\n",
    "1. Uma das inúmeras melhorias que podem ser aplicadas ao nosso classificador é a utilização de uma base de dados maior, com mais comentários, pois assim, o classificador terá mais palavras para trabalhar, e assim, terá uma maior acurácia.\n",
    "\n",
    "2. Outra melhoria que pode ser aplicada é uma limpeza mais abrangente de palavras e elementos irrelevantes para os comentários, assim teriamos uma base de dados mais limpa, com mais palvras-chaves e menos ruídos. Por exemplo, podem ser utilizados, lemmatization, que é a redução de palavras flexionadas à sua forma base, ou seja, ao lema. Por exemplo, a palavra \"correria\" seria reduzida para \"correr\", e assim por diante. Outra técnica que pode ser utilizada é a remoção de stopwords, que são palavras que não possuem significado, como por exemplo, \"a\", \"o\", \"de\", \"para\", etc. Essas técnicas foram apresentadas na rúbrica e mais aprofundada no site Geeks for Geeks.\n",
    "\n"
   ]
  },
  {
   "cell_type": "markdown",
   "metadata": {},
   "source": [
    "___\n",
    "### Qualidade do Classificador a partir de novas separações dos tweets entre Treinamento e Teste\n",
    "\n",
    "Caso for fazer esse item do Projeto"
   ]
  },
  {
   "cell_type": "code",
   "execution_count": 69,
   "metadata": {},
   "outputs": [],
   "source": [
    "from sklearn.model_selection import train_test_split\n"
   ]
  },
  {
   "cell_type": "code",
   "execution_count": 70,
   "metadata": {},
   "outputs": [
    {
     "data": {
      "text/html": [
       "<div>\n",
       "<style scoped>\n",
       "    .dataframe tbody tr th:only-of-type {\n",
       "        vertical-align: middle;\n",
       "    }\n",
       "\n",
       "    .dataframe tbody tr th {\n",
       "        vertical-align: top;\n",
       "    }\n",
       "\n",
       "    .dataframe thead th {\n",
       "        text-align: right;\n",
       "    }\n",
       "</style>\n",
       "<table border=\"1\" class=\"dataframe\">\n",
       "  <thead>\n",
       "    <tr style=\"text-align: right;\">\n",
       "      <th></th>\n",
       "      <th>Mensagem</th>\n",
       "      <th>Target</th>\n",
       "      <th>Classificador</th>\n",
       "    </tr>\n",
       "  </thead>\n",
       "  <tbody>\n",
       "    <tr>\n",
       "      <th>0</th>\n",
       "      <td>Fique atento na compra. Ainda está com problem...</td>\n",
       "      <td>Relevante</td>\n",
       "      <td>NaN</td>\n",
       "    </tr>\n",
       "    <tr>\n",
       "      <th>1</th>\n",
       "      <td>Talvez a tradução antiga tivesse um pouco mais...</td>\n",
       "      <td>Relevante</td>\n",
       "      <td>NaN</td>\n",
       "    </tr>\n",
       "    <tr>\n",
       "      <th>2</th>\n",
       "      <td>Sinceramente, também estou tentando entender c...</td>\n",
       "      <td>Relevante</td>\n",
       "      <td>NaN</td>\n",
       "    </tr>\n",
       "    <tr>\n",
       "      <th>3</th>\n",
       "      <td>Escolhi o livro por acreditar no tema e indica...</td>\n",
       "      <td>Irrelevante</td>\n",
       "      <td>NaN</td>\n",
       "    </tr>\n",
       "    <tr>\n",
       "      <th>4</th>\n",
       "      <td>Recebi o produto avariado, no mesmo dia reclam...</td>\n",
       "      <td>Relevante</td>\n",
       "      <td>NaN</td>\n",
       "    </tr>\n",
       "    <tr>\n",
       "      <th>...</th>\n",
       "      <td>...</td>\n",
       "      <td>...</td>\n",
       "      <td>...</td>\n",
       "    </tr>\n",
       "    <tr>\n",
       "      <th>495</th>\n",
       "      <td>lixo de um astrólogo limítrofe</td>\n",
       "      <td>Irrelevante</td>\n",
       "      <td>Irrelevante</td>\n",
       "    </tr>\n",
       "    <tr>\n",
       "      <th>496</th>\n",
       "      <td>Achei ridículo! Eu realmente esperava uma hist...</td>\n",
       "      <td>Irrelevante</td>\n",
       "      <td>Irrelevante</td>\n",
       "    </tr>\n",
       "    <tr>\n",
       "      <th>497</th>\n",
       "      <td>As afirmações do autor, que é historiador, não...</td>\n",
       "      <td>Irrelevante</td>\n",
       "      <td>Irrelevante</td>\n",
       "    </tr>\n",
       "    <tr>\n",
       "      <th>498</th>\n",
       "      <td>Livro meio fantasioso , quer dizer que quase n...</td>\n",
       "      <td>Irrelevante</td>\n",
       "      <td>Irrelevante</td>\n",
       "    </tr>\n",
       "    <tr>\n",
       "      <th>499</th>\n",
       "      <td>Seria o ideal... E bebê,  nenê? Que mulher se ...</td>\n",
       "      <td>Irrelevante</td>\n",
       "      <td>Irrelevante</td>\n",
       "    </tr>\n",
       "  </tbody>\n",
       "</table>\n",
       "<p>500 rows × 3 columns</p>\n",
       "</div>"
      ],
      "text/plain": [
       "                                              Mensagem       Target  \\\n",
       "0    Fique atento na compra. Ainda está com problem...    Relevante   \n",
       "1    Talvez a tradução antiga tivesse um pouco mais...    Relevante   \n",
       "2    Sinceramente, também estou tentando entender c...    Relevante   \n",
       "3    Escolhi o livro por acreditar no tema e indica...  Irrelevante   \n",
       "4    Recebi o produto avariado, no mesmo dia reclam...    Relevante   \n",
       "..                                                 ...          ...   \n",
       "495                     lixo de um astrólogo limítrofe  Irrelevante   \n",
       "496  Achei ridículo! Eu realmente esperava uma hist...  Irrelevante   \n",
       "497  As afirmações do autor, que é historiador, não...  Irrelevante   \n",
       "498  Livro meio fantasioso , quer dizer que quase n...  Irrelevante   \n",
       "499  Seria o ideal... E bebê,  nenê? Que mulher se ...  Irrelevante   \n",
       "\n",
       "    Classificador  \n",
       "0             NaN  \n",
       "1             NaN  \n",
       "2             NaN  \n",
       "3             NaN  \n",
       "4             NaN  \n",
       "..            ...  \n",
       "495   Irrelevante  \n",
       "496   Irrelevante  \n",
       "497   Irrelevante  \n",
       "498   Irrelevante  \n",
       "499   Irrelevante  \n",
       "\n",
       "[500 rows x 3 columns]"
      ]
     },
     "execution_count": 70,
     "metadata": {},
     "output_type": "execute_result"
    }
   ],
   "source": [
    "#Base de dados com todos os comentários\n",
    "dados_totais = pd.concat([train, test], ignore_index = True)\n",
    "dados_totais"
   ]
  },
  {
   "cell_type": "code",
   "execution_count": 71,
   "metadata": {},
   "outputs": [
    {
     "data": {
      "text/html": [
       "<div>\n",
       "<style scoped>\n",
       "    .dataframe tbody tr th:only-of-type {\n",
       "        vertical-align: middle;\n",
       "    }\n",
       "\n",
       "    .dataframe tbody tr th {\n",
       "        vertical-align: top;\n",
       "    }\n",
       "\n",
       "    .dataframe thead th {\n",
       "        text-align: right;\n",
       "    }\n",
       "</style>\n",
       "<table border=\"1\" class=\"dataframe\">\n",
       "  <thead>\n",
       "    <tr style=\"text-align: right;\">\n",
       "      <th></th>\n",
       "      <th>Mensagem</th>\n",
       "      <th>Target</th>\n",
       "    </tr>\n",
       "  </thead>\n",
       "  <tbody>\n",
       "    <tr>\n",
       "      <th>0</th>\n",
       "      <td>Fique atento na compra. Ainda está com problem...</td>\n",
       "      <td>Relevante</td>\n",
       "    </tr>\n",
       "    <tr>\n",
       "      <th>1</th>\n",
       "      <td>Talvez a tradução antiga tivesse um pouco mais...</td>\n",
       "      <td>Relevante</td>\n",
       "    </tr>\n",
       "    <tr>\n",
       "      <th>2</th>\n",
       "      <td>Sinceramente, também estou tentando entender c...</td>\n",
       "      <td>Relevante</td>\n",
       "    </tr>\n",
       "    <tr>\n",
       "      <th>3</th>\n",
       "      <td>Escolhi o livro por acreditar no tema e indica...</td>\n",
       "      <td>Irrelevante</td>\n",
       "    </tr>\n",
       "    <tr>\n",
       "      <th>4</th>\n",
       "      <td>Recebi o produto avariado, no mesmo dia reclam...</td>\n",
       "      <td>Relevante</td>\n",
       "    </tr>\n",
       "    <tr>\n",
       "      <th>...</th>\n",
       "      <td>...</td>\n",
       "      <td>...</td>\n",
       "    </tr>\n",
       "    <tr>\n",
       "      <th>495</th>\n",
       "      <td>lixo de um astrólogo limítrofe</td>\n",
       "      <td>Irrelevante</td>\n",
       "    </tr>\n",
       "    <tr>\n",
       "      <th>496</th>\n",
       "      <td>Achei ridículo! Eu realmente esperava uma hist...</td>\n",
       "      <td>Irrelevante</td>\n",
       "    </tr>\n",
       "    <tr>\n",
       "      <th>497</th>\n",
       "      <td>As afirmações do autor, que é historiador, não...</td>\n",
       "      <td>Irrelevante</td>\n",
       "    </tr>\n",
       "    <tr>\n",
       "      <th>498</th>\n",
       "      <td>Livro meio fantasioso , quer dizer que quase n...</td>\n",
       "      <td>Irrelevante</td>\n",
       "    </tr>\n",
       "    <tr>\n",
       "      <th>499</th>\n",
       "      <td>Seria o ideal... E bebê,  nenê? Que mulher se ...</td>\n",
       "      <td>Irrelevante</td>\n",
       "    </tr>\n",
       "  </tbody>\n",
       "</table>\n",
       "<p>500 rows × 2 columns</p>\n",
       "</div>"
      ],
      "text/plain": [
       "                                              Mensagem       Target\n",
       "0    Fique atento na compra. Ainda está com problem...    Relevante\n",
       "1    Talvez a tradução antiga tivesse um pouco mais...    Relevante\n",
       "2    Sinceramente, também estou tentando entender c...    Relevante\n",
       "3    Escolhi o livro por acreditar no tema e indica...  Irrelevante\n",
       "4    Recebi o produto avariado, no mesmo dia reclam...    Relevante\n",
       "..                                                 ...          ...\n",
       "495                     lixo de um astrólogo limítrofe  Irrelevante\n",
       "496  Achei ridículo! Eu realmente esperava uma hist...  Irrelevante\n",
       "497  As afirmações do autor, que é historiador, não...  Irrelevante\n",
       "498  Livro meio fantasioso , quer dizer que quase n...  Irrelevante\n",
       "499  Seria o ideal... E bebê,  nenê? Que mulher se ...  Irrelevante\n",
       "\n",
       "[500 rows x 2 columns]"
      ]
     },
     "execution_count": 71,
     "metadata": {},
     "output_type": "execute_result"
    }
   ],
   "source": [
    "#Apagando a coluna 'Classificador' da base de dados com todos os comentários\n",
    "dados_totais.drop('Classificador', axis= 1 , inplace = True)\n",
    "dados_totais"
   ]
  },
  {
   "cell_type": "code",
   "execution_count": 72,
   "metadata": {},
   "outputs": [
    {
     "name": "stdout",
     "output_type": "stream",
     "text": [
      "(300, 2) (200, 2)\n"
     ]
    },
    {
     "data": {
      "text/html": [
       "<div>\n",
       "<style scoped>\n",
       "    .dataframe tbody tr th:only-of-type {\n",
       "        vertical-align: middle;\n",
       "    }\n",
       "\n",
       "    .dataframe tbody tr th {\n",
       "        vertical-align: top;\n",
       "    }\n",
       "\n",
       "    .dataframe thead th {\n",
       "        text-align: right;\n",
       "    }\n",
       "</style>\n",
       "<table border=\"1\" class=\"dataframe\">\n",
       "  <thead>\n",
       "    <tr style=\"text-align: right;\">\n",
       "      <th></th>\n",
       "      <th>Mensagem</th>\n",
       "      <th>Target</th>\n",
       "    </tr>\n",
       "  </thead>\n",
       "  <tbody>\n",
       "    <tr>\n",
       "      <th>69</th>\n",
       "      <td>Neste mundo, o futuro é uma commodity em si me...</td>\n",
       "      <td>Irrelevante</td>\n",
       "    </tr>\n",
       "    <tr>\n",
       "      <th>29</th>\n",
       "      <td>Para quem gosta de poemas simples, esse é o li...</td>\n",
       "      <td>Irrelevante</td>\n",
       "    </tr>\n",
       "    <tr>\n",
       "      <th>471</th>\n",
       "      <td>Tão emocionante quanto o primeiro volume. Dand...</td>\n",
       "      <td>Irrelevante</td>\n",
       "    </tr>\n",
       "    <tr>\n",
       "      <th>344</th>\n",
       "      <td>Realmente. Deixou muito a desejar. Esperei um ...</td>\n",
       "      <td>Irrelevante</td>\n",
       "    </tr>\n",
       "    <tr>\n",
       "      <th>54</th>\n",
       "      <td>A obra de Arthur Conan Doyale é simplesmente e...</td>\n",
       "      <td>Relevante</td>\n",
       "    </tr>\n",
       "    <tr>\n",
       "      <th>...</th>\n",
       "      <td>...</td>\n",
       "      <td>...</td>\n",
       "    </tr>\n",
       "    <tr>\n",
       "      <th>117</th>\n",
       "      <td>infelizmente veio com a caixa toda detonada, o...</td>\n",
       "      <td>Relevante</td>\n",
       "    </tr>\n",
       "    <tr>\n",
       "      <th>271</th>\n",
       "      <td>Não recebi o livro falta de respeito com o cli...</td>\n",
       "      <td>Relevante</td>\n",
       "    </tr>\n",
       "    <tr>\n",
       "      <th>15</th>\n",
       "      <td>Há alguns dias atrás adquiri um produto na Ama...</td>\n",
       "      <td>Relevante</td>\n",
       "    </tr>\n",
       "    <tr>\n",
       "      <th>257</th>\n",
       "      <td>George Orwell tem um texto em que ele diz que ...</td>\n",
       "      <td>Irrelevante</td>\n",
       "    </tr>\n",
       "    <tr>\n",
       "      <th>60</th>\n",
       "      <td>Alguns livros vieram com cola na capa além de ...</td>\n",
       "      <td>Relevante</td>\n",
       "    </tr>\n",
       "  </tbody>\n",
       "</table>\n",
       "<p>200 rows × 2 columns</p>\n",
       "</div>"
      ],
      "text/plain": [
       "                                              Mensagem       Target\n",
       "69   Neste mundo, o futuro é uma commodity em si me...  Irrelevante\n",
       "29   Para quem gosta de poemas simples, esse é o li...  Irrelevante\n",
       "471  Tão emocionante quanto o primeiro volume. Dand...  Irrelevante\n",
       "344  Realmente. Deixou muito a desejar. Esperei um ...  Irrelevante\n",
       "54   A obra de Arthur Conan Doyale é simplesmente e...    Relevante\n",
       "..                                                 ...          ...\n",
       "117  infelizmente veio com a caixa toda detonada, o...    Relevante\n",
       "271  Não recebi o livro falta de respeito com o cli...    Relevante\n",
       "15   Há alguns dias atrás adquiri um produto na Ama...    Relevante\n",
       "257  George Orwell tem um texto em que ele diz que ...  Irrelevante\n",
       "60   Alguns livros vieram com cola na capa além de ...    Relevante\n",
       "\n",
       "[200 rows x 2 columns]"
      ]
     },
     "metadata": {},
     "output_type": "display_data"
    }
   ],
   "source": [
    "dados_treino_split, dados_teste_split = train_test_split(dados_totais, test_size=0.4, random_state=100)\n",
    "print(dados_treino_split.shape, dados_teste_split.shape)\n",
    "display(dados_teste_split)"
   ]
  },
  {
   "cell_type": "code",
   "execution_count": 73,
   "metadata": {},
   "outputs": [
    {
     "data": {
      "text/html": [
       "<div>\n",
       "<style scoped>\n",
       "    .dataframe tbody tr th:only-of-type {\n",
       "        vertical-align: middle;\n",
       "    }\n",
       "\n",
       "    .dataframe tbody tr th {\n",
       "        vertical-align: top;\n",
       "    }\n",
       "\n",
       "    .dataframe thead th {\n",
       "        text-align: right;\n",
       "    }\n",
       "</style>\n",
       "<table border=\"1\" class=\"dataframe\">\n",
       "  <thead>\n",
       "    <tr style=\"text-align: right;\">\n",
       "      <th></th>\n",
       "      <th>Mensagem</th>\n",
       "      <th>Target</th>\n",
       "    </tr>\n",
       "  </thead>\n",
       "  <tbody>\n",
       "    <tr>\n",
       "      <th>0</th>\n",
       "      <td>As ilustrações não corresponderam minhas espec...</td>\n",
       "      <td>Relevante</td>\n",
       "    </tr>\n",
       "    <tr>\n",
       "      <th>1</th>\n",
       "      <td>Que sistema horrível de vocês. EU NÃO COMPREI ...</td>\n",
       "      <td>Relevante</td>\n",
       "    </tr>\n",
       "    <tr>\n",
       "      <th>2</th>\n",
       "      <td>Com o box Harry Potter - Edição especial da Am...</td>\n",
       "      <td>Relevante</td>\n",
       "    </tr>\n",
       "    <tr>\n",
       "      <th>3</th>\n",
       "      <td>Nao terminei o livro, mas até os 40% do mesmo ...</td>\n",
       "      <td>Irrelevante</td>\n",
       "    </tr>\n",
       "    <tr>\n",
       "      <th>4</th>\n",
       "      <td>Desde que Harry Potter foi lançado escuto recl...</td>\n",
       "      <td>Relevante</td>\n",
       "    </tr>\n",
       "    <tr>\n",
       "      <th>...</th>\n",
       "      <td>...</td>\n",
       "      <td>...</td>\n",
       "    </tr>\n",
       "    <tr>\n",
       "      <th>495</th>\n",
       "      <td>Ganhei. E foi o único livro da minha vida que ...</td>\n",
       "      <td>Irrelevante</td>\n",
       "    </tr>\n",
       "    <tr>\n",
       "      <th>496</th>\n",
       "      <td>revoltada por não conseguir devolver este box....</td>\n",
       "      <td>Relevante</td>\n",
       "    </tr>\n",
       "    <tr>\n",
       "      <th>497</th>\n",
       "      <td>Um dos pouquíssimos livros que eu não consegui...</td>\n",
       "      <td>Irrelevante</td>\n",
       "    </tr>\n",
       "    <tr>\n",
       "      <th>498</th>\n",
       "      <td>Mal comecei a ler e já parei, é um livro que f...</td>\n",
       "      <td>Irrelevante</td>\n",
       "    </tr>\n",
       "    <tr>\n",
       "      <th>499</th>\n",
       "      <td>Adquiri a \"edição comemorativa\", na verdade um...</td>\n",
       "      <td>Relevante</td>\n",
       "    </tr>\n",
       "  </tbody>\n",
       "</table>\n",
       "<p>500 rows × 2 columns</p>\n",
       "</div>"
      ],
      "text/plain": [
       "                                              Mensagem       Target\n",
       "0    As ilustrações não corresponderam minhas espec...    Relevante\n",
       "1    Que sistema horrível de vocês. EU NÃO COMPREI ...    Relevante\n",
       "2    Com o box Harry Potter - Edição especial da Am...    Relevante\n",
       "3    Nao terminei o livro, mas até os 40% do mesmo ...  Irrelevante\n",
       "4    Desde que Harry Potter foi lançado escuto recl...    Relevante\n",
       "..                                                 ...          ...\n",
       "495  Ganhei. E foi o único livro da minha vida que ...  Irrelevante\n",
       "496  revoltada por não conseguir devolver este box....    Relevante\n",
       "497  Um dos pouquíssimos livros que eu não consegui...  Irrelevante\n",
       "498  Mal comecei a ler e já parei, é um livro que f...  Irrelevante\n",
       "499  Adquiri a \"edição comemorativa\", na verdade um...    Relevante\n",
       "\n",
       "[500 rows x 2 columns]"
      ]
     },
     "execution_count": 73,
     "metadata": {},
     "output_type": "execute_result"
    }
   ],
   "source": [
    "#Embaralhando a base de dados com todos os comentários\n",
    "dados_totais = dados_totais.sample(frac = 1).reset_index(drop = True)\n",
    "dados_totais"
   ]
  },
  {
   "cell_type": "code",
   "execution_count": 74,
   "metadata": {},
   "outputs": [
    {
     "data": {
      "text/html": [
       "<div>\n",
       "<style scoped>\n",
       "    .dataframe tbody tr th:only-of-type {\n",
       "        vertical-align: middle;\n",
       "    }\n",
       "\n",
       "    .dataframe tbody tr th {\n",
       "        vertical-align: top;\n",
       "    }\n",
       "\n",
       "    .dataframe thead th {\n",
       "        text-align: right;\n",
       "    }\n",
       "</style>\n",
       "<table border=\"1\" class=\"dataframe\">\n",
       "  <thead>\n",
       "    <tr style=\"text-align: right;\">\n",
       "      <th></th>\n",
       "      <th>Mensagem</th>\n",
       "      <th>Target</th>\n",
       "    </tr>\n",
       "  </thead>\n",
       "  <tbody>\n",
       "    <tr>\n",
       "      <th>0</th>\n",
       "      <td>As ilustrações não corresponderam minhas espec...</td>\n",
       "      <td>Relevante</td>\n",
       "    </tr>\n",
       "    <tr>\n",
       "      <th>1</th>\n",
       "      <td>Que sistema horrível de vocês. EU NÃO COMPREI ...</td>\n",
       "      <td>Relevante</td>\n",
       "    </tr>\n",
       "    <tr>\n",
       "      <th>2</th>\n",
       "      <td>Com o box Harry Potter - Edição especial da Am...</td>\n",
       "      <td>Relevante</td>\n",
       "    </tr>\n",
       "    <tr>\n",
       "      <th>3</th>\n",
       "      <td>Nao terminei o livro, mas até os 40% do mesmo ...</td>\n",
       "      <td>Irrelevante</td>\n",
       "    </tr>\n",
       "    <tr>\n",
       "      <th>4</th>\n",
       "      <td>Desde que Harry Potter foi lançado escuto recl...</td>\n",
       "      <td>Relevante</td>\n",
       "    </tr>\n",
       "    <tr>\n",
       "      <th>...</th>\n",
       "      <td>...</td>\n",
       "      <td>...</td>\n",
       "    </tr>\n",
       "    <tr>\n",
       "      <th>295</th>\n",
       "      <td>Alguns livros vieram com cola na capa além de ...</td>\n",
       "      <td>Relevante</td>\n",
       "    </tr>\n",
       "    <tr>\n",
       "      <th>296</th>\n",
       "      <td>Uma bosta completa. Sem qualquer fundamento ou...</td>\n",
       "      <td>Irrelevante</td>\n",
       "    </tr>\n",
       "    <tr>\n",
       "      <th>297</th>\n",
       "      <td>Li até a metade do livro ainda na empolgação a...</td>\n",
       "      <td>Irrelevante</td>\n",
       "    </tr>\n",
       "    <tr>\n",
       "      <th>298</th>\n",
       "      <td>Tenho muitos livros sobre a Segunda Guerra mun...</td>\n",
       "      <td>Irrelevante</td>\n",
       "    </tr>\n",
       "    <tr>\n",
       "      <th>299</th>\n",
       "      <td>Perdi tempo de ler autores como Gilberto Freyr...</td>\n",
       "      <td>Irrelevante</td>\n",
       "    </tr>\n",
       "  </tbody>\n",
       "</table>\n",
       "<p>300 rows × 2 columns</p>\n",
       "</div>"
      ],
      "text/plain": [
       "                                              Mensagem       Target\n",
       "0    As ilustrações não corresponderam minhas espec...    Relevante\n",
       "1    Que sistema horrível de vocês. EU NÃO COMPREI ...    Relevante\n",
       "2    Com o box Harry Potter - Edição especial da Am...    Relevante\n",
       "3    Nao terminei o livro, mas até os 40% do mesmo ...  Irrelevante\n",
       "4    Desde que Harry Potter foi lançado escuto recl...    Relevante\n",
       "..                                                 ...          ...\n",
       "295  Alguns livros vieram com cola na capa além de ...    Relevante\n",
       "296  Uma bosta completa. Sem qualquer fundamento ou...  Irrelevante\n",
       "297  Li até a metade do livro ainda na empolgação a...  Irrelevante\n",
       "298  Tenho muitos livros sobre a Segunda Guerra mun...  Irrelevante\n",
       "299  Perdi tempo de ler autores como Gilberto Freyr...  Irrelevante\n",
       "\n",
       "[300 rows x 2 columns]"
      ]
     },
     "execution_count": 74,
     "metadata": {},
     "output_type": "execute_result"
    }
   ],
   "source": [
    "#Separando a base de dados em 2 bases de dados, uma com 300 dos comentários e outra com 200 dos comentários\n",
    "dados_treino_2 = dados_totais.iloc[:300, :]\n",
    "dados_teste_2 = dados_totais.iloc[300:, :]\n",
    "dados_treino_2\n",
    "\n",
    "\n"
   ]
  },
  {
   "cell_type": "code",
   "execution_count": 75,
   "metadata": {},
   "outputs": [
    {
     "data": {
      "text/html": [
       "<div>\n",
       "<style scoped>\n",
       "    .dataframe tbody tr th:only-of-type {\n",
       "        vertical-align: middle;\n",
       "    }\n",
       "\n",
       "    .dataframe tbody tr th {\n",
       "        vertical-align: top;\n",
       "    }\n",
       "\n",
       "    .dataframe thead th {\n",
       "        text-align: right;\n",
       "    }\n",
       "</style>\n",
       "<table border=\"1\" class=\"dataframe\">\n",
       "  <thead>\n",
       "    <tr style=\"text-align: right;\">\n",
       "      <th></th>\n",
       "      <th>Mensagem</th>\n",
       "      <th>Target</th>\n",
       "    </tr>\n",
       "  </thead>\n",
       "  <tbody>\n",
       "    <tr>\n",
       "      <th>300</th>\n",
       "      <td>Um bom livro contando bela história.Mas o form...</td>\n",
       "      <td>Relevante</td>\n",
       "    </tr>\n",
       "    <tr>\n",
       "      <th>301</th>\n",
       "      <td>Eu amei o primeiro livro \"Como eu era antes de...</td>\n",
       "      <td>Irrelevante</td>\n",
       "    </tr>\n",
       "    <tr>\n",
       "      <th>302</th>\n",
       "      <td>O box Premium é lindo, porém a caixa veio rasg...</td>\n",
       "      <td>Relevante</td>\n",
       "    </tr>\n",
       "    <tr>\n",
       "      <th>303</th>\n",
       "      <td>Para quem tem um mínimo de conhecimento em fin...</td>\n",
       "      <td>Irrelevante</td>\n",
       "    </tr>\n",
       "    <tr>\n",
       "      <th>304</th>\n",
       "      <td>Bom livro e história envolvente. Porém, o leit...</td>\n",
       "      <td>Relevante</td>\n",
       "    </tr>\n",
       "    <tr>\n",
       "      <th>...</th>\n",
       "      <td>...</td>\n",
       "      <td>...</td>\n",
       "    </tr>\n",
       "    <tr>\n",
       "      <th>495</th>\n",
       "      <td>Ganhei. E foi o único livro da minha vida que ...</td>\n",
       "      <td>Irrelevante</td>\n",
       "    </tr>\n",
       "    <tr>\n",
       "      <th>496</th>\n",
       "      <td>revoltada por não conseguir devolver este box....</td>\n",
       "      <td>Relevante</td>\n",
       "    </tr>\n",
       "    <tr>\n",
       "      <th>497</th>\n",
       "      <td>Um dos pouquíssimos livros que eu não consegui...</td>\n",
       "      <td>Irrelevante</td>\n",
       "    </tr>\n",
       "    <tr>\n",
       "      <th>498</th>\n",
       "      <td>Mal comecei a ler e já parei, é um livro que f...</td>\n",
       "      <td>Irrelevante</td>\n",
       "    </tr>\n",
       "    <tr>\n",
       "      <th>499</th>\n",
       "      <td>Adquiri a \"edição comemorativa\", na verdade um...</td>\n",
       "      <td>Relevante</td>\n",
       "    </tr>\n",
       "  </tbody>\n",
       "</table>\n",
       "<p>200 rows × 2 columns</p>\n",
       "</div>"
      ],
      "text/plain": [
       "                                              Mensagem       Target\n",
       "300  Um bom livro contando bela história.Mas o form...    Relevante\n",
       "301  Eu amei o primeiro livro \"Como eu era antes de...  Irrelevante\n",
       "302  O box Premium é lindo, porém a caixa veio rasg...    Relevante\n",
       "303  Para quem tem um mínimo de conhecimento em fin...  Irrelevante\n",
       "304  Bom livro e história envolvente. Porém, o leit...    Relevante\n",
       "..                                                 ...          ...\n",
       "495  Ganhei. E foi o único livro da minha vida que ...  Irrelevante\n",
       "496  revoltada por não conseguir devolver este box....    Relevante\n",
       "497  Um dos pouquíssimos livros que eu não consegui...  Irrelevante\n",
       "498  Mal comecei a ler e já parei, é um livro que f...  Irrelevante\n",
       "499  Adquiri a \"edição comemorativa\", na verdade um...    Relevante\n",
       "\n",
       "[200 rows x 2 columns]"
      ]
     },
     "execution_count": 75,
     "metadata": {},
     "output_type": "execute_result"
    }
   ],
   "source": [
    "dados_teste_2"
   ]
  },
  {
   "cell_type": "code",
   "execution_count": 76,
   "metadata": {},
   "outputs": [],
   "source": [
    "# Qualidade do Classificador a partir de novas separações dos comentários entre treinamento e teste\n",
    "acuracia_100 = []\n",
    "\n",
    "for n in range(0,100):\n",
    "    # Separando todos comentários em dois df, um de teste e um de treino\n",
    "    dados_treino_100, dados_teste_100 = train_test_split(dados_totais, test_size=0.4, random_state= n)\n",
    "\n",
    "\n",
    "    palavras_relevantes_100 = limpeza_relevantes(dados_treino_100)\n",
    "    palavras_irrelevantes_100 = limpeza_irrelevante(dados_treino_100)\n",
    "\n",
    "    #Criando lista com todas as palavras\n",
    "    total_palavras_100 = palavras_relevantes_100 + palavras_irrelevantes_100\n",
    "\n",
    "    #Criando Série para palavras relevantes\n",
    "    serie_relevantes_100 = pd.Series(palavras_relevantes_100)\n",
    "\n",
    "    #Criando Série para palavras não relevantes\n",
    "    serie_irrelevantes_100 = pd.Series(palavras_irrelevantes_100)\n",
    "\n",
    "    #Criando série para todas as palavras:\n",
    "    serie_total_100 = pd.Series(total_palavras_100)\n",
    "\n",
    "\n",
    "    #Tabela de frequência absoluto de palavras relevantes\n",
    "    tabela_relevante_absoluto_100 = serie_relevantes_100.value_counts()\n",
    "    #Tabela de frequência relativa de palavras relevantes\n",
    "    tabela_relevante_frequencia_100 = serie_relevantes_100.value_counts(True)\n",
    "\n",
    "    #Tabela de frequência absoluta de palavras não relevantes\n",
    "    tabela_irrelevante_absoluto_100 = serie_irrelevantes_100.value_counts()\n",
    "    #Tabela de frequência relativa de palavras não relevantes\n",
    "    tabela_irrelevante_frequencia_100 = serie_irrelevantes_100.value_counts(True)\n",
    "\n",
    "\n",
    "    #Tabela de frequência absoluta de todas as palavras\n",
    "    tabela_total_absoluto_100 = serie_total_100.value_counts()\n",
    "    #Tabela de frequência relativa de todas as palavras\n",
    "    tabela_total_frequencia_100 = serie_total_100.value_counts(True)\n",
    "\n",
    "\n",
    "    dados_teste_100['Classificador'] = ''\n",
    "    P_R = len(palavras_relevantes_100)/len(total_palavras_100)    # Probabilidade de ser relevante\n",
    "    P_I = len(palavras_irrelevantes_100)/len(total_palavras_100)    # Probabilidade de ser irrelevante\n",
    "\n",
    "    for i in range(len(dados_teste_100.Mensagem)):         # Loop para percorrer todas as linhas da base de dados de teste\n",
    "        comentario = dados_teste_100.iloc[i,0]        # Comentário a ser classificado\n",
    "        comentario_limpo = cleanup(remove_emojis(comentario.lower())).split()                # Comentário limpo\n",
    "        produto_prob_R = 1                    # Variável que armazena o produto das probabilidades de ser relevante\n",
    "        produto_prob_I = 1                        # Variável que armazena o produto das probabilidades de ser irrelevante\n",
    "        for palavra in comentario_limpo:                # Loop para percorrer todas as palavras do comentário\n",
    "            \n",
    "            if palavra not in palavras_relevantes_100:      # Se a palavra não estiver na lista de palavras relevantes, adiciona ela com frequência 0, necessária para a suavização de Laplace\n",
    "                tabela_relevante_absoluto_100[palavra] = 0                  \n",
    "            \n",
    "            if palavra not in palavras_irrelevantes_100:     # Se a palavra não estiver na lista de palavras irrelevantes, adiciona ela com frequência 0, necessária para a suavização de Laplace\n",
    "                tabela_irrelevante_absoluto_100[palavra] = 0\n",
    "                \n",
    "\n",
    "            produto_prob_R *= (tabela_relevante_absoluto_100[palavra] + 1)/(len(palavras_relevantes_100) + len(tabela_total_absoluto_100))      # Calculando o produto das probabilidades de ser relevante\n",
    "            produto_prob_I *= (tabela_irrelevante_absoluto_100[palavra] + 1)/(len(palavras_irrelevantes_100) + len(tabela_total_absoluto_100))  # Calculando o produto das probabilidades de ser irrelevante\n",
    "            \n",
    "\n",
    "        probabilidade_relevante = produto_prob_R * P_R                                                                              # Calculando a probabilidade de ser relevante\n",
    "        probabilidade_irrelevante = produto_prob_I * P_I                                                                            # Calculando a probabilidade de ser irrelevante\n",
    "\n",
    "        if probabilidade_relevante > probabilidade_irrelevante:                                                                     # Se a probabilidade de ser relevante for maior que a probabilidade de ser irrelevante, classifica como relevante\n",
    "            dados_teste_100.iloc[i, 2] = 'Relevante'                                                                                            # Classifica como relevante\n",
    "        else:                                                                                                                       # Se a probabilidade de ser irrelevante for maior que a probabilidade de ser relevante, classifica como irrelevante\n",
    "            dados_teste_100.iloc[i, 2] = 'Irrelevante'   \n",
    "              \n",
    "    acertos = ((pd.crosstab(dados_teste_100.Target, dados_teste_100.Classificador, normalize = 'index').round(6)*100).iloc[0,0] + (pd.crosstab(dados_teste_100.Target, dados_teste_100.Classificador, normalize = 'index').round(6)*100).iloc[1,1])/2\n",
    "                                                                                         # Classifica como irrelevante\n",
    "    acuracia_100.append(acertos)\n",
    "\n"
   ]
  },
  {
   "cell_type": "code",
   "execution_count": 77,
   "metadata": {},
   "outputs": [
    {
     "name": "stdout",
     "output_type": "stream",
     "text": [
      "[93.36005, 92.1707, 91.37705, 92.7207, 87.76275, 91.53115, 92.61965000000001, 93.13239999999999, 93.17920000000001, 90.49475, 93.66489999999999, 92.4128, 92.70835, 93.73335, 92.0, 92.49135000000001, 93.33335, 91.53795, 92.11155, 94.5747, 93.6632, 91.19999999999999, 94.5719, 94.23505, 91.33335, 93.00125, 93.88025, 92.9846, 91.20205, 94.3156, 93.52, 89.50874999999999, 93.18555, 92.29475, 94.7593, 89.25715, 93.27235, 92.1593, 90.3743, 92.53335, 92.05109999999999, 91.39824999999999, 93.54165, 90.01735, 93.2, 93.53275000000001, 91.82600000000001, 91.80815, 94.92845, 92.3077, 93.12395, 92.792, 93.75, 94.18504999999999, 91.66665, 92.8964, 95.50084999999999, 91.73335, 89.04344999999999, 91.99025, 94.02420000000001, 90.0716, 95.2, 93.33335, 91.06665, 92.2608, 92.8133, 94.4, 88.13185, 90.13335000000001, 92.70835, 92.61045, 95.31604999999999, 93.40084999999999, 90.01735, 89.3229, 92.4496, 89.22370000000001, 89.94055, 89.43885, 92.55205000000001, 91.57985, 93.1212, 93.0692, 91.49305, 93.69485, 90.82464999999999, 95.44275, 90.89095, 90.4248, 93.50649999999999, 92.36345, 90.7118, 93.7912, 90.20835, 91.7033, 92.07374999999999, 90.88395, 92.8173, 92.246]\n"
     ]
    }
   ],
   "source": [
    "acuracia_series = pd.Series(acuracia_100)\n",
    "acuracia_series.describe().to_frame()\n",
    "print(acuracia_100)"
   ]
  },
  {
   "cell_type": "code",
   "execution_count": 78,
   "metadata": {},
   "outputs": [
    {
     "data": {
      "image/png": "[encoded data removed]",
      "text/plain": [
       "<Figure size 700x600 with 1 Axes>"
      ]
     },
     "metadata": {},
     "output_type": "display_data"
    }
   ],
   "source": [
    "# Definindo a figura\n",
    "plt.figure(figsize=(7, 6))\n",
    "\n",
    "# Plotando o gráfico\n",
    "plt.subplot(111)\n",
    "plt.hist(acuracia_100, density=True)\n",
    "plt.xlabel(\"Acurácias\")\n",
    "plt.ylabel(\"Densidade\")\n",
    "plt.title(\"Análise das acurácias\")\n",
    "\n",
    "# Mostrando o gráfico\n",
    "plt.show()"
   ]
  },
  {
   "cell_type": "markdown",
   "metadata": {},
   "source": [
    "___\n",
    "## Aperfeiçoamento:\n",
    "\n",
    "Trabalhos que conseguirem pelo menos conceito B vão evoluir em conceito dependendo da quantidade de itens avançados:\n",
    "\n",
    "* IMPLEMENTOU outras limpezas e transformações que não afetem a qualidade da informação contida nos tweets. Ex: stemming, lemmatization, stopwords\n",
    "* CONSIDEROU mais de duas categorias na variável Target e INCREMENTOU a quantidade de notícias, mantendo pelo menos 250 notícias por categoria (OBRIGATÓRIO PARA TRIOS, sem contar como item avançado)\n",
    "* Para Target com duas categorias: CRIOU pelo menos quatro categorias intermediárias de relevância baseadas na probabilidade: ex.: muito relevante, relevante, neutro, irrelevante, muito irrelevante\n",
    "* EXPLICOU porquê não pode usar o próprio classificador para gerar mais amostras de treinamento\n",
    "* PROPÔS diferentes cenários para Naïve Bayes fora do contexto do projeto (pelo menos dois cenários, exceto aqueles já apresentados em sala pelos professores: por exemplo, filtro de spam)\n",
    "* SUGERIU e EXPLICOU melhorias reais com indicações concretas de como implementar (indicar como fazer e indicar material de pesquisa)\n",
    "* FEZ o item Qualidade do Classificador a partir de novas separações das Notícias entre Treinamento e Teste descrito no enunciado do projeto (OBRIGATÓRIO para conceitos A ou A+)"
   ]
  },
  {
   "cell_type": "markdown",
   "metadata": {},
   "source": [
    "___\n",
    "## Referências"
   ]
  },
  {
   "cell_type": "markdown",
   "metadata": {},
   "source": [
    "[Naive Bayes and Text Classification](https://arxiv.org/pdf/1410.5329.pdf)  **Mais completo**\n",
    "\n",
    "[A practical explanation of a Naive Bayes Classifier](https://monkeylearn.com/blog/practical-explanation-naive-bayes-classifier/) **Mais simples**"
   ]
  }
 ],
 "metadata": {
  "kernelspec": {
   "display_name": "base",
   "language": "python",
   "name": "python3"
  },
  "language_info": {
   "codemirror_mode": {
    "name": "ipython",
    "version": 3
   },
   "file_extension": ".py",
   "mimetype": "text/x-python",
   "name": "python",
   "nbconvert_exporter": "python",
   "pygments_lexer": "ipython3",
   "version": "3.9.13"
  },
  "vscode": {
   "interpreter": {
    "hash": "5e519a5cf2e8f0955561b2ee7ea69bac76367187692ae83f9e046badc6f67ca5"
   }
  }
 },
 "nbformat": 4,
 "nbformat_minor": 4
}
