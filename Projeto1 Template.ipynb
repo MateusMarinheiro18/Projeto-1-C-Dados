{
 "cells": [
  {
   "cell_type": "markdown",
   "metadata": {},
   "source": [
    "# Projeto 1 - Ciência dos Dados"
   ]
  },
  {
   "attachments": {},
   "cell_type": "markdown",
   "metadata": {},
   "source": [
    "Nome: Mateus Marinheiro\n",
    "\n",
    "Nome: Henrique Albuquerque\n"
   ]
  },
  {
   "cell_type": "markdown",
   "metadata": {},
   "source": [
    "Atenção: Serão permitidos grupos de três pessoas, mas com uma rubrica mais exigente. Grupos deste tamanho precisarão fazer um questionário de avaliação de trabalho em equipe"
   ]
  },
  {
   "cell_type": "markdown",
   "metadata": {},
   "source": [
    "___\n",
    "Carregando algumas bibliotecas:"
   ]
  },
  {
   "cell_type": "code",
   "execution_count": 15,
   "metadata": {},
   "outputs": [],
   "source": [
    "%matplotlib inline\n",
    "import pandas as pd\n",
    "import matplotlib.pyplot as plt\n",
    "import numpy as np\n",
    "import os"
   ]
  },
  {
   "cell_type": "code",
   "execution_count": 16,
   "metadata": {
    "scrolled": false
   },
   "outputs": [
    {
     "name": "stdout",
     "output_type": "stream",
     "text": [
      "Esperamos trabalhar no diretório\n",
      "c:\\Users\\Mateus Marinhero\\Documents\\Insper\\2023\\2o Semestre\\Ciência dos Dados\\Projeto1\\Projeto-1-C-Dados\n"
     ]
    }
   ],
   "source": [
    "print('Esperamos trabalhar no diretório')\n",
    "print(os.getcwd())"
   ]
  },
  {
   "cell_type": "markdown",
   "metadata": {},
   "source": [
    "Carregando a base de dados com os tweets classificados manualmente:"
   ]
  },
  {
   "cell_type": "code",
   "execution_count": 17,
   "metadata": {},
   "outputs": [
    {
     "data": {
      "text/html": [
       "<div>\n",
       "<style scoped>\n",
       "    .dataframe tbody tr th:only-of-type {\n",
       "        vertical-align: middle;\n",
       "    }\n",
       "\n",
       "    .dataframe tbody tr th {\n",
       "        vertical-align: top;\n",
       "    }\n",
       "\n",
       "    .dataframe thead th {\n",
       "        text-align: right;\n",
       "    }\n",
       "</style>\n",
       "<table border=\"1\" class=\"dataframe\">\n",
       "  <thead>\n",
       "    <tr style=\"text-align: right;\">\n",
       "      <th></th>\n",
       "      <th>Mensagem</th>\n",
       "      <th>Target</th>\n",
       "    </tr>\n",
       "  </thead>\n",
       "  <tbody>\n",
       "    <tr>\n",
       "      <th>0</th>\n",
       "      <td>Fique atento na compra. Ainda está com problem...</td>\n",
       "      <td>Relevante</td>\n",
       "    </tr>\n",
       "    <tr>\n",
       "      <th>1</th>\n",
       "      <td>Talvez a tradução antiga tivesse um pouco mais...</td>\n",
       "      <td>Relevante</td>\n",
       "    </tr>\n",
       "    <tr>\n",
       "      <th>2</th>\n",
       "      <td>Sinceramente, também estou tentando entender c...</td>\n",
       "      <td>Relevante</td>\n",
       "    </tr>\n",
       "    <tr>\n",
       "      <th>3</th>\n",
       "      <td>Escolhi o livro por acreditar no tema e indica...</td>\n",
       "      <td>Irrelevante</td>\n",
       "    </tr>\n",
       "    <tr>\n",
       "      <th>4</th>\n",
       "      <td>Recebi o produto avariado, no mesmo dia reclam...</td>\n",
       "      <td>Relevante</td>\n",
       "    </tr>\n",
       "  </tbody>\n",
       "</table>\n",
       "</div>"
      ],
      "text/plain": [
       "                                            Mensagem       Target\n",
       "0  Fique atento na compra. Ainda está com problem...    Relevante\n",
       "1  Talvez a tradução antiga tivesse um pouco mais...    Relevante\n",
       "2  Sinceramente, também estou tentando entender c...    Relevante\n",
       "3  Escolhi o livro por acreditar no tema e indica...  Irrelevante\n",
       "4  Recebi o produto avariado, no mesmo dia reclam...    Relevante"
      ]
     },
     "execution_count": 17,
     "metadata": {},
     "output_type": "execute_result"
    }
   ],
   "source": [
    "train = pd.read_excel('dados_treino.xlsx')\n",
    "train.head(5)"
   ]
  },
  {
   "cell_type": "code",
   "execution_count": 18,
   "metadata": {},
   "outputs": [
    {
     "data": {
      "text/plain": [
       "Irrelevante    153\n",
       "Relevante      147\n",
       "Name: Target, dtype: int64"
      ]
     },
     "execution_count": 18,
     "metadata": {},
     "output_type": "execute_result"
    }
   ],
   "source": [
    "train.Target.value_counts()"
   ]
  },
  {
   "cell_type": "code",
   "execution_count": 19,
   "metadata": {},
   "outputs": [
    {
     "data": {
      "text/html": [
       "<div>\n",
       "<style scoped>\n",
       "    .dataframe tbody tr th:only-of-type {\n",
       "        vertical-align: middle;\n",
       "    }\n",
       "\n",
       "    .dataframe tbody tr th {\n",
       "        vertical-align: top;\n",
       "    }\n",
       "\n",
       "    .dataframe thead th {\n",
       "        text-align: right;\n",
       "    }\n",
       "</style>\n",
       "<table border=\"1\" class=\"dataframe\">\n",
       "  <thead>\n",
       "    <tr style=\"text-align: right;\">\n",
       "      <th></th>\n",
       "      <th>Mensagem</th>\n",
       "      <th>Target</th>\n",
       "    </tr>\n",
       "  </thead>\n",
       "  <tbody>\n",
       "    <tr>\n",
       "      <th>0</th>\n",
       "      <td>Não sou de desistir de livro, mas neste não te...</td>\n",
       "      <td>Irrelevante</td>\n",
       "    </tr>\n",
       "    <tr>\n",
       "      <th>1</th>\n",
       "      <td>EU NEM SE QUER RECEBI O PRODUTO! Voces são mui...</td>\n",
       "      <td>Relevante</td>\n",
       "    </tr>\n",
       "    <tr>\n",
       "      <th>2</th>\n",
       "      <td>Tao ruim quanto o primeiro. Fonte não justific...</td>\n",
       "      <td>Relevante</td>\n",
       "    </tr>\n",
       "    <tr>\n",
       "      <th>3</th>\n",
       "      <td>Sou fã do canal, estava na primeira sessão da ...</td>\n",
       "      <td>Irrelevante</td>\n",
       "    </tr>\n",
       "    <tr>\n",
       "      <th>4</th>\n",
       "      <td>Péssimo. O autor claramente tem um visão disto...</td>\n",
       "      <td>Irrelevante</td>\n",
       "    </tr>\n",
       "  </tbody>\n",
       "</table>\n",
       "</div>"
      ],
      "text/plain": [
       "                                            Mensagem       Target\n",
       "0  Não sou de desistir de livro, mas neste não te...  Irrelevante\n",
       "1  EU NEM SE QUER RECEBI O PRODUTO! Voces são mui...    Relevante\n",
       "2  Tao ruim quanto o primeiro. Fonte não justific...    Relevante\n",
       "3  Sou fã do canal, estava na primeira sessão da ...  Irrelevante\n",
       "4  Péssimo. O autor claramente tem um visão disto...  Irrelevante"
      ]
     },
     "execution_count": 19,
     "metadata": {},
     "output_type": "execute_result"
    }
   ],
   "source": [
    "test = pd.read_excel('dados_teste.xlsx')\n",
    "test.head(5)"
   ]
  },
  {
   "cell_type": "code",
   "execution_count": 20,
   "metadata": {},
   "outputs": [
    {
     "data": {
      "text/plain": [
       "Irrelevante    162\n",
       "Relevante       38\n",
       "Name: Target, dtype: int64"
      ]
     },
     "execution_count": 20,
     "metadata": {},
     "output_type": "execute_result"
    }
   ],
   "source": [
    "test.Target.value_counts()"
   ]
  },
  {
   "attachments": {},
   "cell_type": "markdown",
   "metadata": {},
   "source": [
    "___\n",
    "## Classificador automático de feedbacks de produtos da Amazon\n"
   ]
  },
  {
   "attachments": {},
   "cell_type": "markdown",
   "metadata": {},
   "source": [
    "Será criado um classificador segundo a teoria de probabilidade de Naïve Bayes, classificando notícias atuais sobre o mercado digital como:\n",
    "\n",
    "- Relevante: Mensagens consideradas como relevantes serão aqueles que trazem alguma crítica à direcionadas a Amazon, sejam elas, em relação à preços, envios e outros problemas. Também serão considerados relevantes críticas feitas às editoras, sendo assim, mensagens criticando a tradução, formatação do texto, qualidade do produto entre outros.</li>\n",
    "    \n",
    "- Irrelevante: Mensagens consideradas como Irrelevantes serão aquelas que trazem qualquer tipo de opinião sobre o livro, qualquer tipo de elogio e qualquer outra coisa que não se enquadra como relevante.  </li>\n",
    "    "
   ]
  },
  {
   "cell_type": "markdown",
   "metadata": {},
   "source": [
    "___\n",
    "### Montando um Classificador Naive-Bayes\n",
    "\n",
    "Considerando apenas as mensagens da planilha Treinamento, ensine  seu classificador."
   ]
  },
  {
   "attachments": {},
   "cell_type": "markdown",
   "metadata": {},
   "source": [
    "#### 1 - Funções de  _cleanup_"
   ]
  },
  {
   "attachments": {},
   "cell_type": "markdown",
   "metadata": {},
   "source": [
    "Função que irá retirar das mensagens recebidas todos os ruídos, sendo eles, pountuações e símbolos, e também retiramos emojis, e números, que foram considerados irrelevantes para o nosso classificador."
   ]
  },
  {
   "cell_type": "code",
   "execution_count": 28,
   "metadata": {},
   "outputs": [],
   "source": [
    "# https://docs.python.org/3/library/re.html#\n",
    "import re \n",
    "\n",
    "\n",
    "def cleanup(text):\n",
    "    \"\"\"\n",
    "        Função de limpeza muito simples que troca alguns sinais básicos por espaços\n",
    "    \"\"\"\n",
    "    #import string\n",
    "    punctuation = '[´\"!-.:?;$''/\\|]' # Note que os sinais [] são delimitadores de um conjunto.\n",
    "    pattern = re.compile(punctuation)\n",
    "    text_subbed = re.sub(pattern, '', text)\n",
    "    return text_subbed\n",
    "\n",
    "import re\n",
    "\n",
    "def remove_emojis(text):\n",
    "    # Define um padrão de regex para encontrar emojis\n",
    "    emoji_pattern = re.compile(\"[\"\n",
    "                               u\"\\U0001F600-\\U0001F64F\"  # Emoticons\n",
    "                               u\"\\U0001F300-\\U0001F5FF\"  # Símbolos e pictogramas diversos\n",
    "                               u\"\\U0001F680-\\U0001F6FF\"  # Transporte e símbolos de mapa\n",
    "                               u\"\\U0001F700-\\U0001F77F\"  # Símbolos de alquimia, religião e zodíaco\n",
    "                               u\"\\U0001F780-\\U0001F7FF\"  # Símbolos de traços diversos\n",
    "                               u\"\\U0001F800-\\U0001F8FF\"  # Símbolos de escrita linear abugida\n",
    "                               u\"\\U0001F900-\\U0001F9FF\"  # Símbolos suplementares de escrita linear abugida\n",
    "                               u\"\\U0001FA00-\\U0001FA6F\"  # Símbolos de xadrez\n",
    "                               u\"\\U0001FA70-\\U0001FAFF\"  # Símbolos de emojis adicionais\n",
    "                               u\"\\U0001F004-\\U0001F0CF\"  # Símbolos de cartas de baralho\n",
    "                               u\"\\U0001F170-\\U0001F251\"  # Símbolos de emojis de comemoração\n",
    "                               \"]+\", flags=re.UNICODE)\n",
    "\n",
    "    # Substitui os emojis por uma string vazia\n",
    "    clean_text = emoji_pattern.sub(r'', text)\n",
    "\n",
    "    return clean_text\n",
    "\n"
   ]
  },
  {
   "attachments": {},
   "cell_type": "markdown",
   "metadata": {},
   "source": [
    "#### 2 - Limpeza dos comentários"
   ]
  },
  {
   "cell_type": "code",
   "execution_count": 30,
   "metadata": {},
   "outputs": [],
   "source": [
    "palavras_relevantes = []             #Lista com as palvras de feedbacks relevantes.\n",
    "palavras_irrelevantes = []         #Lista com as palvras de feedbacks irrelevantes.\n",
    "\n",
    "train_relevantes = train.loc[train.Target == 'Relevante', :]        #base de dados relevante\n",
    "train_irrelevantes = train.loc[train.Target == 'Irrelevante', :]        #base de dados irrelevantes\n",
    "\n",
    "for i in range(len(train_relevantes)):      #Limpando os emojis e potuação da base de dados relevante e colocando as palavras em uma lista.\n",
    "    palavras_relevantes += cleanup(remove_emojis(train_relevantes.iloc[i, 0].lower())).split()\n",
    "\n",
    "for i in range(len(train_irrelevantes)):    #Limpando os emojis e pontuação da base de dados irrelevante e colocando as palavras em uma lista.\n",
    "    palavras_irrelevantes += cleanup(remove_emojis(train_irrelevantes.iloc[i, 0].lower())).split()\n",
    "\n",
    "#Tirando númreros das listas de palavras.\n",
    "\n",
    "for i in range(len(palavras_relevantes)):\n",
    "    for caractere in palavras_relevantes[i]:\n",
    "        if caractere.isdigit():\n",
    "            palavras_relevantes[i] = ''\n",
    "    \n",
    "for i in range(len(palavras_irrelevantes)):\n",
    "    for caractere in palavras_irrelevantes[i]:\n",
    "        if caractere.isdigit():\n",
    "            palavras_irrelevantes[i] = ''\n",
    "\n",
    "#Criando lista com todas as palavras\n",
    "total_palavras = palavras_relevantes + palavras_irrelevantes\n"
   ]
  },
  {
   "attachments": {},
   "cell_type": "markdown",
   "metadata": {},
   "source": [
    "#### 3 - Criando pd.series para cada Target"
   ]
  },
  {
   "cell_type": "code",
   "execution_count": 23,
   "metadata": {},
   "outputs": [],
   "source": [
    "#Criando Série para palavras relevantes\n",
    "serie_relevantes = pd.Series(palavras_relevantes)\n",
    "\n",
    "#Criando Série para palavras não relevantes\n",
    "serie_irrelevantes = pd.Series(palavras_irrelevantes)\n",
    "\n",
    "#Criando série para todas as palavras:\n",
    "serie_total = pd.Series(total_palavras)"
   ]
  },
  {
   "attachments": {},
   "cell_type": "markdown",
   "metadata": {},
   "source": [
    "#### 4 - Gerando tabela de frequências para as Séries"
   ]
  },
  {
   "cell_type": "code",
   "execution_count": 24,
   "metadata": {},
   "outputs": [],
   "source": [
    "#Tabela de frequência de palavras relevantes\n",
    "tabela_relevante = serie_relevantes.value_counts()\n",
    "\n",
    "#Tabela de frequência de palavras não relevantes\n",
    "tabela_irrelevante = serie_irrelevantes.value_counts()\n",
    "\n",
    "#Tabela de frequência de todas as palavras\n",
    "tabela_total = serie_total.value_counts()\n"
   ]
  },
  {
   "cell_type": "markdown",
   "metadata": {},
   "source": [
    "___\n",
    "### Verificando a performance do Classificador\n",
    "\n",
    "Agora você deve testar o seu classificador com a base de Testes."
   ]
  },
  {
   "attachments": {},
   "cell_type": "markdown",
   "metadata": {},
   "source": [
    "#### 1 - Comentários da base de  dados dos testes"
   ]
  },
  {
   "cell_type": "code",
   "execution_count": 36,
   "metadata": {},
   "outputs": [],
   "source": [
    "palavras_test = []                #Lista para armazenar os feedbacks de teste.\n",
    "palavras_relevantes_test = []      #Listas para armazenar as palavras relevantes dos feedbacks de teste.\n",
    "palavras_irrelevantes_test = []    #Listas para armazenar as palavras irrelevantes dos feedbacks de teste.\n",
    "\n",
    "test_relevantes = test.loc[train.Target == 'Relevante', :]        #base de dados de teste relevante\n",
    "test_irrelevantes = test.loc[train.Target == 'Irrelevante', :]        #base de dados de teste irrelevantes\n",
    "\n",
    "for i in range(len(test_relevantes)):      #Limpando os emojis e potuação da base de dados de teste relevante e colocando as palavras em uma lista.\n",
    "    palavras_relevantes_test += cleanup(remove_emojis(test_relevantes.iloc[i, 0].lower())).split()\n",
    "\n",
    "for i in range(len(test_irrelevantes)):    #Limpando os emojis e pontuação da base de dados de teste irrelevante e colocando as palavras em uma lista.\n",
    "    palavras_irrelevantes_test += cleanup(remove_emojis(test_irrelevantes.iloc[i, 0].lower())).split()\n",
    "\n",
    "#Tirando númreros das listas de palavras.\n",
    "\n",
    "for i in range(len(palavras_relevantes_test)):\n",
    "    for caractere in palavras_relevantes_test[i]:\n",
    "        if caractere.isdigit():\n",
    "            palavras_relevantes_test[i] = ''\n",
    "    \n",
    "for i in range(len(palavras_irrelevantes_test)):\n",
    "    for caractere in palavras_irrelevantes_test[i]:\n",
    "        if caractere.isdigit():\n",
    "            palavras_irrelevantes_test[i] = ''\n",
    "\n",
    "#Criando lista com todas as palavras da base de teste\n",
    "total_palavras_test = palavras_relevantes_test + palavras_irrelevantes_test\n"
   ]
  },
  {
   "attachments": {},
   "cell_type": "markdown",
   "metadata": {},
   "source": [
    "<div id=\"probabilidades\"></div>\n",
    "\n",
    "## Probabilidades\n",
    "\n",
    "Relembrando, queremos descobrir, dentre outras coisas, a probabilidade de uma frase ocorrer para um dos dois targets. Para isso, vamos assumir uma simplificação **bastante ingênua** de que a probabilidade de uma palavra da frase ocorrer em uma obra é independente da probabilidade de qualquer outra palavra. Assim, assumindo independência, **a probabilidade da frase é igual ao produto das probabilidades de cada palavra individualmente**.\n",
    "\n",
    "Vamos assumir para fins destas análises que **a frequência relativa observada nestes textos é igual à probabilidade**. Ou seja, que se quisermos encontrar $P(portugal|Lusíadas)$ basta checar a frequência da palavra `'portugal'`: `tabela_lusiadas_relativa[\"portugal\"]` (note que o acesso é semelhante ao acesso a um dicionário).\n",
    "\n",
    "Ou seja, a $P(portugal|Lusíadas)$  pode ser obtida buscando a frequência relativa da palavra `portugal` dentro da tabela do texto Os Lusíadas:"
   ]
  },
  {
   "cell_type": "code",
   "execution_count": null,
   "metadata": {},
   "outputs": [],
   "source": []
  },
  {
   "cell_type": "code",
   "execution_count": null,
   "metadata": {},
   "outputs": [],
   "source": []
  },
  {
   "cell_type": "markdown",
   "metadata": {},
   "source": [
    "___\n",
    "### Concluindo"
   ]
  },
  {
   "cell_type": "code",
   "execution_count": null,
   "metadata": {},
   "outputs": [],
   "source": []
  },
  {
   "cell_type": "code",
   "execution_count": null,
   "metadata": {},
   "outputs": [],
   "source": []
  },
  {
   "cell_type": "code",
   "execution_count": null,
   "metadata": {},
   "outputs": [],
   "source": []
  },
  {
   "cell_type": "markdown",
   "metadata": {},
   "source": [
    "___\n",
    "### Qualidade do Classificador a partir de novas separações dos tweets entre Treinamento e Teste\n",
    "\n",
    "Caso for fazer esse item do Projeto"
   ]
  },
  {
   "cell_type": "code",
   "execution_count": null,
   "metadata": {},
   "outputs": [],
   "source": []
  },
  {
   "cell_type": "code",
   "execution_count": null,
   "metadata": {},
   "outputs": [],
   "source": []
  },
  {
   "cell_type": "code",
   "execution_count": null,
   "metadata": {},
   "outputs": [],
   "source": []
  },
  {
   "cell_type": "markdown",
   "metadata": {},
   "source": [
    "___\n",
    "## Aperfeiçoamento:\n",
    "\n",
    "Trabalhos que conseguirem pelo menos conceito B vão evoluir em conceito dependendo da quantidade de itens avançados:\n",
    "\n",
    "* IMPLEMENTOU outras limpezas e transformações que não afetem a qualidade da informação contida nos tweets. Ex: stemming, lemmatization, stopwords\n",
    "* CONSIDEROU mais de duas categorias na variável Target e INCREMENTOU a quantidade de notícias, mantendo pelo menos 250 notícias por categoria (OBRIGATÓRIO PARA TRIOS, sem contar como item avançado)\n",
    "* Para Target com duas categorias: CRIOU pelo menos quatro categorias intermediárias de relevância baseadas na probabilidade: ex.: muito relevante, relevante, neutro, irrelevante, muito irrelevante\n",
    "* EXPLICOU porquê não pode usar o próprio classificador para gerar mais amostras de treinamento\n",
    "* PROPÔS diferentes cenários para Naïve Bayes fora do contexto do projeto (pelo menos dois cenários, exceto aqueles já apresentados em sala pelos professores: por exemplo, filtro de spam)\n",
    "* SUGERIU e EXPLICOU melhorias reais com indicações concretas de como implementar (indicar como fazer e indicar material de pesquisa)\n",
    "* FEZ o item Qualidade do Classificador a partir de novas separações das Notícias entre Treinamento e Teste descrito no enunciado do projeto (OBRIGATÓRIO para conceitos A ou A+)"
   ]
  },
  {
   "cell_type": "markdown",
   "metadata": {},
   "source": [
    "___\n",
    "## Referências"
   ]
  },
  {
   "cell_type": "markdown",
   "metadata": {},
   "source": [
    "[Naive Bayes and Text Classification](https://arxiv.org/pdf/1410.5329.pdf)  **Mais completo**\n",
    "\n",
    "[A practical explanation of a Naive Bayes Classifier](https://monkeylearn.com/blog/practical-explanation-naive-bayes-classifier/) **Mais simples**"
   ]
  },
  {
   "cell_type": "code",
   "execution_count": null,
   "metadata": {},
   "outputs": [],
   "source": []
  }
 ],
 "metadata": {
  "kernelspec": {
   "display_name": "base",
   "language": "python",
   "name": "python3"
  },
  "language_info": {
   "codemirror_mode": {
    "name": "ipython",
    "version": 3
   },
   "file_extension": ".py",
   "mimetype": "text/x-python",
   "name": "python",
   "nbconvert_exporter": "python",
   "pygments_lexer": "ipython3",
   "version": "3.9.13"
  },
  "vscode": {
   "interpreter": {
    "hash": "5e519a5cf2e8f0955561b2ee7ea69bac76367187692ae83f9e046badc6f67ca5"
   }
  }
 },
 "nbformat": 4,
 "nbformat_minor": 4
}
