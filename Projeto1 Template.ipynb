{
 "cells": [
  {
   "cell_type": "markdown",
   "metadata": {},
   "source": [
    "# Projeto 1 - Ciência dos Dados"
   ]
  },
  {
   "attachments": {},
   "cell_type": "markdown",
   "metadata": {},
   "source": [
    "Nome: Mateus Marinheiro\n",
    "\n",
    "Nome: Henrique Albuquerque\n"
   ]
  },
  {
   "cell_type": "markdown",
   "metadata": {},
   "source": [
    "Atenção: Serão permitidos grupos de três pessoas, mas com uma rubrica mais exigente. Grupos deste tamanho precisarão fazer um questionário de avaliação de trabalho em equipe"
   ]
  },
  {
   "cell_type": "markdown",
   "metadata": {},
   "source": [
    "___\n",
    "Carregando algumas bibliotecas:"
   ]
  },
  {
   "cell_type": "code",
   "execution_count": 15,
   "metadata": {},
   "outputs": [],
   "source": [
    "%matplotlib inline\n",
    "import pandas as pd\n",
    "import matplotlib.pyplot as plt\n",
    "import numpy as np\n",
    "import os"
   ]
  },
  {
   "cell_type": "code",
   "execution_count": 16,
   "metadata": {
    "scrolled": false
   },
   "outputs": [
    {
     "name": "stdout",
     "output_type": "stream",
     "text": [
      "Esperamos trabalhar no diretório\n",
      "c:\\Users\\Mateus Marinhero\\Documents\\Insper\\2023\\2o Semestre\\Ciência dos Dados\\Projeto1\\Projeto-1-C-Dados\n"
     ]
    }
   ],
   "source": [
    "print('Esperamos trabalhar no diretório')\n",
    "print(os.getcwd())"
   ]
  },
  {
   "cell_type": "markdown",
   "metadata": {},
   "source": [
    "Carregando a base de dados com os tweets classificados manualmente:"
   ]
  },
  {
   "cell_type": "code",
   "execution_count": 17,
   "metadata": {},
   "outputs": [
    {
     "data": {
      "text/html": [
       "<div>\n",
       "<style scoped>\n",
       "    .dataframe tbody tr th:only-of-type {\n",
       "        vertical-align: middle;\n",
       "    }\n",
       "\n",
       "    .dataframe tbody tr th {\n",
       "        vertical-align: top;\n",
       "    }\n",
       "\n",
       "    .dataframe thead th {\n",
       "        text-align: right;\n",
       "    }\n",
       "</style>\n",
       "<table border=\"1\" class=\"dataframe\">\n",
       "  <thead>\n",
       "    <tr style=\"text-align: right;\">\n",
       "      <th></th>\n",
       "      <th>Mensagem</th>\n",
       "      <th>Target</th>\n",
       "    </tr>\n",
       "  </thead>\n",
       "  <tbody>\n",
       "    <tr>\n",
       "      <th>0</th>\n",
       "      <td>Fique atento na compra. Ainda está com problem...</td>\n",
       "      <td>Relevante</td>\n",
       "    </tr>\n",
       "    <tr>\n",
       "      <th>1</th>\n",
       "      <td>Talvez a tradução antiga tivesse um pouco mais...</td>\n",
       "      <td>Relevante</td>\n",
       "    </tr>\n",
       "    <tr>\n",
       "      <th>2</th>\n",
       "      <td>Sinceramente, também estou tentando entender c...</td>\n",
       "      <td>Relevante</td>\n",
       "    </tr>\n",
       "    <tr>\n",
       "      <th>3</th>\n",
       "      <td>Escolhi o livro por acreditar no tema e indica...</td>\n",
       "      <td>Irrelevante</td>\n",
       "    </tr>\n",
       "    <tr>\n",
       "      <th>4</th>\n",
       "      <td>Recebi o produto avariado, no mesmo dia reclam...</td>\n",
       "      <td>Relevante</td>\n",
       "    </tr>\n",
       "  </tbody>\n",
       "</table>\n",
       "</div>"
      ],
      "text/plain": [
       "                                            Mensagem       Target\n",
       "0  Fique atento na compra. Ainda está com problem...    Relevante\n",
       "1  Talvez a tradução antiga tivesse um pouco mais...    Relevante\n",
       "2  Sinceramente, também estou tentando entender c...    Relevante\n",
       "3  Escolhi o livro por acreditar no tema e indica...  Irrelevante\n",
       "4  Recebi o produto avariado, no mesmo dia reclam...    Relevante"
      ]
     },
     "execution_count": 17,
     "metadata": {},
     "output_type": "execute_result"
    }
   ],
   "source": [
    "train = pd.read_excel('dados_treino.xlsx')\n",
    "train.head(5)"
   ]
  },
  {
   "cell_type": "code",
   "execution_count": 18,
   "metadata": {},
   "outputs": [
    {
     "data": {
      "text/plain": [
       "Irrelevante    153\n",
       "Relevante      147\n",
       "Name: Target, dtype: int64"
      ]
     },
     "execution_count": 18,
     "metadata": {},
     "output_type": "execute_result"
    }
   ],
   "source": [
    "train.Target.value_counts()"
   ]
  },
  {
   "cell_type": "code",
   "execution_count": 19,
   "metadata": {},
   "outputs": [
    {
     "data": {
      "text/html": [
       "<div>\n",
       "<style scoped>\n",
       "    .dataframe tbody tr th:only-of-type {\n",
       "        vertical-align: middle;\n",
       "    }\n",
       "\n",
       "    .dataframe tbody tr th {\n",
       "        vertical-align: top;\n",
       "    }\n",
       "\n",
       "    .dataframe thead th {\n",
       "        text-align: right;\n",
       "    }\n",
       "</style>\n",
       "<table border=\"1\" class=\"dataframe\">\n",
       "  <thead>\n",
       "    <tr style=\"text-align: right;\">\n",
       "      <th></th>\n",
       "      <th>Mensagem</th>\n",
       "      <th>Target</th>\n",
       "    </tr>\n",
       "  </thead>\n",
       "  <tbody>\n",
       "    <tr>\n",
       "      <th>0</th>\n",
       "      <td>Não sou de desistir de livro, mas neste não te...</td>\n",
       "      <td>Irrelevante</td>\n",
       "    </tr>\n",
       "    <tr>\n",
       "      <th>1</th>\n",
       "      <td>EU NEM SE QUER RECEBI O PRODUTO! Voces são mui...</td>\n",
       "      <td>Relevante</td>\n",
       "    </tr>\n",
       "    <tr>\n",
       "      <th>2</th>\n",
       "      <td>Tao ruim quanto o primeiro. Fonte não justific...</td>\n",
       "      <td>Relevante</td>\n",
       "    </tr>\n",
       "    <tr>\n",
       "      <th>3</th>\n",
       "      <td>Sou fã do canal, estava na primeira sessão da ...</td>\n",
       "      <td>Irrelevante</td>\n",
       "    </tr>\n",
       "    <tr>\n",
       "      <th>4</th>\n",
       "      <td>Péssimo. O autor claramente tem um visão disto...</td>\n",
       "      <td>Irrelevante</td>\n",
       "    </tr>\n",
       "  </tbody>\n",
       "</table>\n",
       "</div>"
      ],
      "text/plain": [
       "                                            Mensagem       Target\n",
       "0  Não sou de desistir de livro, mas neste não te...  Irrelevante\n",
       "1  EU NEM SE QUER RECEBI O PRODUTO! Voces são mui...    Relevante\n",
       "2  Tao ruim quanto o primeiro. Fonte não justific...    Relevante\n",
       "3  Sou fã do canal, estava na primeira sessão da ...  Irrelevante\n",
       "4  Péssimo. O autor claramente tem um visão disto...  Irrelevante"
      ]
     },
     "execution_count": 19,
     "metadata": {},
     "output_type": "execute_result"
    }
   ],
   "source": [
    "test = pd.read_excel('dados_teste.xlsx')\n",
    "test.head(5)"
   ]
  },
  {
   "cell_type": "code",
   "execution_count": 20,
   "metadata": {},
   "outputs": [
    {
     "data": {
      "text/plain": [
       "Irrelevante    162\n",
       "Relevante       38\n",
       "Name: Target, dtype: int64"
      ]
     },
     "execution_count": 20,
     "metadata": {},
     "output_type": "execute_result"
    }
   ],
   "source": [
    "test.Target.value_counts()"
   ]
  },
  {
   "attachments": {},
   "cell_type": "markdown",
   "metadata": {},
   "source": [
    "___\n",
    "## Classificador automático de feedbacks de produtos da Amazon\n"
   ]
  },
  {
   "attachments": {},
   "cell_type": "markdown",
   "metadata": {},
   "source": [
    "Será criado um classificador segundo a teoria de probabilidade de Naïve Bayes, classificando notícias atuais sobre o mercado digital como:\n",
    "\n",
    "- Relevante: Mensagens consideradas como relevantes serão aqueles que trazem alguma crítica à direcionadas a Amazon, sejam elas, em relação à preços, envios e outros problemas. Também serão considerados relevantes críticas feitas às editoras, sendo assim, mensagens criticando a tradução, formatação do texto, qualidade do produto entre outros.</li>\n",
    "    \n",
    "- Irrelevante: Mensagens consideradas como Irrelevantes serão aquelas que trazem qualquer tipo de opinião sobre o livro, qualquer tipo de elogio e qualquer outra coisa que não se enquadra como relevante.  </li>\n",
    "    "
   ]
  },
  {
   "cell_type": "markdown",
   "metadata": {},
   "source": [
    "___\n",
    "### Montando um Classificador Naive-Bayes\n",
    "\n",
    "Considerando apenas as mensagens da planilha Treinamento, ensine  seu classificador."
   ]
  },
  {
   "attachments": {},
   "cell_type": "markdown",
   "metadata": {},
   "source": [
    "#### 1 - Funções de  _cleanup_"
   ]
  },
  {
   "attachments": {},
   "cell_type": "markdown",
   "metadata": {},
   "source": [
    "Função que irá retirar das mensagens recebidas todas as pontuações."
   ]
  },
  {
   "cell_type": "code",
   "execution_count": 28,
   "metadata": {},
   "outputs": [],
   "source": [
    "# https://docs.python.org/3/library/re.html#\n",
    "import re \n",
    "\n",
    "\n",
    "def cleanup(text):\n",
    "    \"\"\"\n",
    "        Função de limpeza muito simples que troca alguns sinais básicos por espaços\n",
    "    \"\"\"\n",
    "    #import string\n",
    "    punctuation = '[´\"!-.:?;$''/\\|]' # Note que os sinais [] são delimitadores de um conjunto.\n",
    "    pattern = re.compile(punctuation)\n",
    "    text_subbed = re.sub(pattern, '', text)\n",
    "    return text_subbed\n",
    "\n",
    "import re\n",
    "\n",
    "def remove_emojis(text):\n",
    "    # Define um padrão de regex para encontrar emojis\n",
    "    emoji_pattern = re.compile(\"[\"\n",
    "                               u\"\\U0001F600-\\U0001F64F\"  # Emoticons\n",
    "                               u\"\\U0001F300-\\U0001F5FF\"  # Símbolos e pictogramas diversos\n",
    "                               u\"\\U0001F680-\\U0001F6FF\"  # Transporte e símbolos de mapa\n",
    "                               u\"\\U0001F700-\\U0001F77F\"  # Símbolos de alquimia, religião e zodíaco\n",
    "                               u\"\\U0001F780-\\U0001F7FF\"  # Símbolos de traços diversos\n",
    "                               u\"\\U0001F800-\\U0001F8FF\"  # Símbolos de escrita linear abugida\n",
    "                               u\"\\U0001F900-\\U0001F9FF\"  # Símbolos suplementares de escrita linear abugida\n",
    "                               u\"\\U0001FA00-\\U0001FA6F\"  # Símbolos de xadrez\n",
    "                               u\"\\U0001FA70-\\U0001FAFF\"  # Símbolos de emojis adicionais\n",
    "                               u\"\\U0001F004-\\U0001F0CF\"  # Símbolos de cartas de baralho\n",
    "                               u\"\\U0001F170-\\U0001F251\"  # Símbolos de emojis de comemoração\n",
    "                               \"]+\", flags=re.UNICODE)\n",
    "\n",
    "    # Substitui os emojis por uma string vazia\n",
    "    clean_text = emoji_pattern.sub(r'', text)\n",
    "\n",
    "    return clean_text\n",
    "\n"
   ]
  },
  {
   "attachments": {},
   "cell_type": "markdown",
   "metadata": {},
   "source": [
    "#### 2 - Limpeza dos comentários"
   ]
  },
  {
   "cell_type": "code",
   "execution_count": 29,
   "metadata": {},
   "outputs": [
    {
     "name": "stdout",
     "output_type": "stream",
     "text": [
      "['fique', 'atento', 'na', 'compra', 'ainda', 'está', 'com', 'problema', 'no', 'download', 'conforme', 'já', 'reportado', 'há', 'um', 'mês', 'por', 'um', 'outro', 'usuário', 'talvez', 'a', 'tradução', 'antiga', 'tivesse', 'um', 'pouco', 'mais', 'de', 'charme', 'e', 'musicalidade', 'o', 'que', 'conferia', 'uma', 'certa', 'elegância', 'ao', 'livro', 'sinto', 'que', 'isso', 'infelizmente', 'não', 'foi', 'mantido', 'nessa', 'edição', 'do', 'ebook', 'sinceramente', 'também', 'estou', 'tentando', 'entender', 'como', 'podem', 'colocar', 'um', 'livro', 'digital', 'por', 'um', 'preço', 'absurdo', 'destes', 'comprei', 'um', 'kindle', 'recentemente', 'e', 'adoraria', 'ter', 'esta', 'obra', 'nele', 'mas', 'por', 'um', 'preço', 'abusivo', 'destes', 'não', 'compro', 'nem', 'aqui', 'nem', 'na', 'china', 'e', 'só', 'dei', 'uma', 'estrela', 'porque', 'não', 'é', 'possível', 'dar', '', 'recebi', 'o', 'produto', 'avariado', 'no', 'mesmo', 'dia', 'reclamei', 'e', 'a', 'alfa', 'livro', 'trata', 'com', 'descaso', 'a', 'situação', 'querendo', 'que', 'eu', 'arce', 'com', 'o', 'custo', 'de', 'envio', 'do', 'livro', 'avariado', 'e', 'se', 'quer', 'postou', 'outro', 'livro', 'o', 'que', 'era', 'um', 'presente', 'para', 'minha', 'esposa', 'virou', 'um', 'martilho', 'a', 'edição', 'está', 'meio', 'confusa', 'e', 'mal', 'diagramada', 'arrependime', 'de', 'adquirila', 'e', 'acredito', 'que', 'há', 'opções', 'melhores', 'da', 'mesma', 'obra', 'chegou', 'com', 'o', 'canto', 'amassado', 'a', 'menos', 'que', 'queira', 'uma', 'versão', 'pocket', 'não', 'compre', 'na', 'descrição', 'do', 'produto', 'não', 'diz', 'nada', 'a', 'devolução', 'irá', 'custar', '', 'reais', 'para', 'mim', 'ou', 'seja', 'foram', 'desonestos', 'e', 'me', 'prejudicaram', 'no', 'submarino', 'os', 'vendedores', 'são', 'mais', 'honestos', 'informam', 'se', 'a', 'versão', 'é', 'pocket', 'ou', 'não', 'meu', 'box', 'chegou', 'com', 'alguma', 'bolhas', 'nas', 'capas', 'de', 'alguns', 'livros', 'e', 'a', 'orelha', 'de', 'um', 'dos', 'livros', 'está', 'bem', 'surrada', 'eu', 'estava', 'querendo', 'reler', 'esse', 'livro', 'mas', 'ao', 'me', 'deparar', 'com', 'o', 'preço', 'é', 'brincadeira', 'amazon', 'mais', 'de', 'r', '', 'num', 'ebook', 'a', 'obra', 'vale', 'mil', 'estrelas', 'mas', 'eu', 'dou', 'uma', 'estrela', 'para', 'a', 'amazon', 'em', 'virtude', 'do', 'preço', 'abusivo', 'gostaria', 'apenas', 'de', 'enfatizar', 'que', 'a', 'nota', 'dada', 'nesta', 'avaliação', 'não', 'diz', 'respeito', 'ao', 'livro', 'mas', 'ao', 'preço', 'praticado', 'não', 'há', 'justificativa', 'para', 'que', 'um', 'livro', 'digital', 'seja', 'vendido', 'ao', 'mesmo', 'preço', 'do', 'impresso', 'considero', 'que', 'alguns', 'propósitos', 'da', 'venda', 'de', 'livros', 'digitais', 'estejam', 'sendo', 'distorcidos', 'aqui', 'o', 'ebook', 'esta', 'bem', 'mais', 'caro', 'que', 'o', 'livro', 'físico', 'muito', 'sem', 'noção', 'não', 'vou', 'comprar', 'não', 'esperar', 'até', 'chegar', 'nos', '', 'e', 'olhe', 'lá', 'eu', 'estava', 'disposto', 'a', 'comprar', 'este', 'livro', 'mas', 'sem', 'um', 'posicionamento', 'oficial', 'da', 'amazon', 'quanto', 'às', 'denúncias', 'indicando', 'que', 'este', 'ebook', 'é', 'uma', 'versão', 'pirata', 'que', 'sequer', 'foi', 'traduzida', 'pelo', 'jorge', 'candeias', 'não', 'se', 'pode', 'fazer', 'nada', 'não', 'estou', 'disposto', 'a', 'jogar', 'meu', 'dinheiro', 'fora', 'em', 'um', 'material', 'de', 'baixa', 'qualidade', 'me', 'decepciona', 'a', 'possibilidade', 'de', 'isto', 'estar', 'acontecendo', 'na', 'loja', 'da', 'amazon', 'aqui', 'no', 'brasil', 'está', 'parecendo', 'descuido', 'descaso', 'falta', 'de', 'seriedade', 'com', 'os', 'consumidores', 'brasileiros', 'não', 'gostei', 'porquê', 'a', 'capa', 'veio', 'com', 'um', 'rasgo', 'o', 'que', 'para', 'edição', 'de', 'colecionador', 'é', 'péssimo', 'espero', 'que', 'das', 'próximas', 'vezes', 'que', 'eu', 'comprar', 'não', 'venham', 'novamente', 'com', 'defeitos', 'ou', 'algo', 'do', 'tipo', 'há', 'alguns', 'dias', 'atrás', 'adquiri', 'um', 'produto', 'na', 'amazon', 'box', 'sherlock', 'holmes', 'da', 'editora', 'harper', 'collins', 'fiquei', 'feliz', 'pois', 'tamanha', 'era', 'a', 'acessibilidade', 'do', 'preço', 'um', 'dos', 'mais', 'baratos', 'se', 'comparado', 'a', 'outras', 'lojas', 'entretanto', 'hoje', 'ao', 'receber', 'meu', 'box', 'me', 'deparei', 'com', 'uma', 'caixa', 'bastante', 'estreita', 'surpreendendome', 'por', 'não', 'vir', 'com', 'se', 'quer', 'uma', 'espuma', 'ou', 'plástico', 'bolha', 'afinal', 'livros', 'são', 'materiais', 'bastante', 'sensíveis', 'após', 'a', 'retirada', 'da', 'caixa', 'que', 'estava', 'também', 'amassada', 'vi', 'que', 'o', 'box', 'estava', 'amassado', 'em', 'quase', 'todas', 'as', 'bordaso', 'que', 'me', 'pareceu', 'pancadas', 'muito', 'fortes', 'com', 'muitos', 'arranhões', 'e', 'riscos', 'certo', 'que', 'a', 'transportadora', 'encarregada', 'tem', 'boa', 'parte', 'da', 'culpa', 'mas', 'o', 'que', 'custa', 'colocar', 'em', 'uma', 'embalagem', 'maior', 'e', 'mais', 'aconchegante', 'para', 'o', 'produto', 'creio', 'que', 'não', 'irei', 'dar', 'entrada', 'no', 'processo', 'de', 'troca', 'pois', 'a', 'burocracia', 'e', 'a', 'demora', 'para', 'avaliar', 'e', 'reentregar', 'o', 'produto', 'não', 'valeriam', 'a', 'pena', 'minha', 'única', 'felicidade', 'é', 'que', 'os', 'livros', 'apesar', 'da', 'capa', 'ter', 'vindo', 'um', 'pouco', 'amassada', 'também', 'não', 'foram', 'comprometidos', 'em', 'sua', 'parte', 'mais', 'importante', 'que', 'é', 'a', 'leitura', 'porém', 'o', 'produto', 'perdeu', 'todo', 'seu', 'requinte', 'que', 'é', 'o', 'que', 'mais', 'chama', 'a', 'atenção', 'do', 'consumidor', 'na', 'hora', 'da', 'compra', 'esta', 'foi', 'a', 'primeira', 'vez', 'que', 'comprei', 'na', 'amazon', 'porém', 'acho', 'que', 'será', 'a', 'última', 'visto', 'que', 'o', 'custo', 'acessível', 'não', 'vale', 'apena', 'tendo', 'em', 'vista', 'o', 'descuido', 'na', 'entrega', 'do', 'mesmo', 'fiz', 'a', 'compra', 'do', 'produto', 'e', 'chegou', 'tudo', 'certo', 'conforme', 'o', 'prazo', 'no', 'entanto', 'a', 'embalagem', 'do', 'plastico', 'já', 'estava', 'aberta', 'e', 'o', 'livro', 'número', '', 'da', 'série', 'chegou', 'rasgado', 'conforme', 'as', 'fotos', 'irei', 'devolver', 'o', 'produto', 'e', 'já', 'fiz', 'uma', 'nova', 'compra', 'dele', 'caso', 'nessa', 'nova', 'compra', 'o', 'produto', 'chegue', 'danificado', 'novamente', 'irei', 'devolver', 'também', 'infelizmente', 'não', 'poderei', 'prazentear', 'minha', 'namorada', 'no', 'natal', 'a', 'tempo', 'uma', 'vez', 'que', 'a', 'nova', 'compra', 'somente', 'chegará', 'dia', '', 'não', 'há', 'justificativa', 'para', 'o', 'preço', 'absurdo', 'deste', 'ebook', 'se', 'bobear', 'você', 'acha', 'mais', 'barato', 'o', 'livro', 'impresso', 'do', 'que', 'essa', 'versão', 'digital', 'uma', 'pena', 'gostaria', 'muito', 'de', 'ter', 'o', 'ebook', 'nunca', 'tive', 'problemas', 'com', 'a', 'amazon', 'e', 'agora', 'depois', 'de', 'um', 'tempo', 'de', 'efetuar', 'a', 'compra', 'percebi', 'que', 'o', 'livro', 'não', 'esta', 'em', 'bom', 'estado', 'amassado', 'e', 'com', 'o', 'plástico', 'descolando', 'uma', 'surpresa', 'nada', 'agradável', 'esse', 'preço', 'não', 'existe', 'não', 'tem', 'o', 'menor', 'cabimento', 'é', 'melhor', 'assistir', 'novela', 'mesmo', 'qual', 'a', 'desculpa', 'da', 'editora', 'pra', 'vender', 'o', 'livro', 'por', 'esse', 'preço', 'por', 'ser', 'versão', 'pocket', 'se', 'espera', 'uma', 'qualidade', 'inferior', 'mas', 'mesmo', 'assim', 'decepcionou', 'as', 'folhas', 'são', 'brancas', 'e', 'transparentes', 'da', 'para', 'ver', 'o', 'verso', 'por', 'ser', 'pequeno', 'e', 'com', 'grande', 'número', 'de', 'páginas', 'a', 'leitura', 'se', 'torna', 'desconfortável', 'não', 'tem', 'como', 'segurar', 'o', 'livro', 'direito', 'mas', 'claro', 'pra', 'quem', 'quer', 'economizar', 'e', 'é', 'persistente', 'a', 'leitura', 'é', 'possível', 'é', 'uma', 'revista', 'diagramado', 'como', 'revista', 'grampeado', 'sem', 'texto', 'corrido', 'um', 'engano', 'chamar', 'd', 'lê', 'livro', 'além', 'disso', 'conteúdo', 'bobo', 'sem', 'pé', 'nem', 'cabeça', 'a', 'formatação', 'no', 'kindle', 'é', 'ridícula', 'problema', 'antigo', 'que', 'não', 'foi', 'resolvido', 'até', 'quando', 'amazon', 'seus', 'clientes', 'esperam', 'um', 'produto', 'melhor', 'tive', 'que', 'devolver', 'a', 'coleção', 'pois', 'o', 'livro', 'ordem', 'de', 'fênix', 'veio', 'faltando', '', 'páginas', 'da', 'página', '', 'a', '', 'umberto', 'eco', 'e', 'esta', 'sua', 'obra', 'já', 'foram', 'muito', 'bem', 'descritos', 'pelo', 'conjunto', 'de', 'resenhas', 'aqui', 'publicadas', 'minha', 'fala', 'se', 'restringirá', 'à', 'edição', 'de', 'bolso', 'iniciei', 'a', 'releitura', 'motivada', 'pela', 'revisão', 'do', 'autor', 'e', 'o', 'acréscimo', 'do', 'texto', 'apostilas', 'tentei', 'mas', 'não', 'consegui', 'ir', 'adiantes', 'apesar', 'do', 'conteúdo', 'folha', 'branca', 'margens', 'estreitas', 'espaços', 'mais', 'do', 'que', 'simples', 'letras', 'miúdas', 'nao', 'há', 'espaço', 'para', 'escrevermos', 'as', 'traduções', 'dos', 'trechos', 'em', 'latim', 'para', 'interpretação', 'das', 'palavras', 'mais', 'rebuscadas', 'e', 'registroa', 'das', 'impressoes', 'de', 'leitura', 'este', 'texto', 'requer', 'interação', 'do', 'leitore', 'a', 'versão', 'de', 'bolso', 'impede', 'por', 'seu', 'apertamento', 'sugiro', 'à', 'editora', 're', 'lançar', 'em', 'capa', 'dura', 'papel', 'creme', 'com', 'fontes', 'e', 'tudo', 'o', 'mais', 'que', 'venha', 'a', 'deixar', 'a', 'leitura', 'confortável', 'obs', 'na', 'imagem', 'inicial', 'com', 'o', 'mapa', 'da', 'abadia', 'suspeito', 'que', 'faltam', 'dados', 'ha', 'divergência', 'entre', 'o', 'desenho', 'e', 'a', 'legenda', 'acabo', 'de', 'ver', 'a', 'trilogia', 'impressa', 'por', '', 'amazon', 'está', 'sendo', 'ridícula', 'com', 'esse', 'preço', 'pensava', 'seriamente', 'em', 'comprar', 'a', 'edição', 'kindle', 'mas', 'vou', 'ficar', 'com', 'os', 'que', 'tenho', 'mesmo', 'inviável', 'então', 'estava', 'muito', 'interessado', 'nesta', 'edição', 'mas', 'aí', 'ao', 'olhar', 'mais', 'atenção', 'percebi', 'que', 'as', 'páginas', 'de', 'dentro', 'são', 'impressas', 'em', 'papel', 'couchette', 'quem', 'teve', 'essa', 'brilhante', 'idéia', 'pois', 'para', 'mim', 'acabou', 'o', 'interesse', 'blah', 'meu', 'box', 'veio', 'todo', 'detonado', 'fiquei', 'triste', 'porque', 'nunca', 'tive', 'problemas', 'com', 'a', 'amazon', 'uma', 'pena', 'demorei', 'tanto', 'pra', 'me', 'decidir', 'comprar', 'esse', 'box', 'e', 'quando', 'compro', 'vem', 'assim', 'é', 'com', 'muita', 'tristeza', 'que', 'venho', 'redigir', 'essa', 'resenha', 'mas', 'infelizmente', 'a', 'amazon', 'pecou', 'na', 'venda', 'desse', 'box', 'a', 'fotografia', 'do', 'box', 'aparece', 'livros', 'pretos', 'com', 'acabamento', 'dourados', 'mas', 'recebi', 'livros', 'preto', 'com', 'um', 'péssimo', 'acabamento', 'prata', 'o', 'livro', 'veio', 'com', 'defeito', 'de', 'fábrica', 'com', 'cola', 'grudada', 'em', '', 'livros', 'e', 'capa', 'descascando', 'em', '', 'não', 'foi', 'especificada', 'em', 'momento', 'algum', 'da', 'compra', 'que', 'as', 'folhas', 'eram', 'brancas', 'e', 'sem', 'orelha', 'essa', 'compra', 'se', 'justifica', 'numa', 'máxima', 'popular', 'o', 'barato', 'sai', 'caro', 'claro', 'que', 'as', 'estrelas', 'não', 'são', 'par', 'a', 'obra', 'mas', 'para', 'a', 'amazon', 'no', 'quesito', 'proteção', 'do', 'produto', 'o', 'livro', 'veio', 'com', 'um', 'lado', 'da', 'capa', 'amassado', 'decepção', 'os', 'livros', 'e', 'suas', 'capas', 'estão', 'ótimos', 'bonitos', 'e', 'sem', 'problemas', 'agora', 'o', 'box', 'que', 'guarda', 'os', 'livros', 'infelizmente', 'veio', 'rasgado', 'minha', 'avaliação', 'é', 'zero', 'comprei', 'o', 'livro', 'achando', 'que', 'era', 'físico', 'depois', 'tentei', 'cancelar', 'o', 'virtual', 'pra', 'comprar', 'o', 'físico', 'e', 'não', 'consegui', 'em', 'lugar', 'nenhum', 'aparece', 'uma', 'opção', 'de', 'devolver', 'ou', 'cancelar', 'a', 'compra', 'já', 'debitaram', 'em', 'minha', 'conta', 'e', 'não', 'veio', 'o', 'download', 'pra', 'que', 'eu', 'pudesse', 'baixar', 'o', 'livro', 'e', 'também', 'não', 'me', 'estornaram', 'o', 'valor', 'esta', 'é', 'minha', 'primeira', 'e', 'última', 'compra', 'neste', 'site', 'essa', 'versão', 'combo', 'ebook', 'de', 'as', 'crônicas', 'de', 'gelo', 'e', 'fogo', 'possui', 'inúmero', 'erros', 'de', 'português', 'de', 'ortografia', 'e', 'concordâncias', 'nominal', 'e', 'verbal', 'além', 'de', 'ter', 'diversas', 'palavras', 'grudadas', 'umas', 'nas', 'outras', 'já', 'entrei', 'em', 'contato', 'com', 'o', 'sac', 'da', 'editora', 'leya', 'e', 'ele', 'dizem', 'que', 'vão', 'corrigir', 'mas', 'não', 'o', 'fazem', 'já', 'faz', 'mais', 'de', 'um', 'mês', 'e', 'nada', 'foi', 'feito', 'agora', 'nem', 'respondem', 'mais', 'os', 'meus', 'emails', 'o', 'volume', '', 'esta', 'com', 'erro', 'tem', 'impressão', 'tem', 'paginas', 'duplicada', 'e', 'outras', 'faltando', 'entrei', 'num', 'endereço', 'sobre', 'o', 'ganho', 'de', 'um', 'livro', 'em', 'kindle', 'no', 'dia', '', 'escolho', 'o', 'livro', 'e', 'imediatamente', 'ao', 'fazer', 'meu', 'login', 'o', 'valor', 'eh', 'debitado', 'do', 'meu', 'cartão', 'um', 'absurdo', 'não', 'queria', 'comprar', 'o', 'livro', 'solicito', 'uma', 'devolução', 'imediata', 'do', 'valor', 'pedi', 'o', 'livro', 'baseado', 'na', 'promoção', 'q', 'era', 'de', 'graça', 'não', 'autorizo', 'está', 'compra', 'ajustem', 'o', 'site', 'de', 'vcs', 'para', 'evitar', 'tais', 'desconfortos', 'dória', 'tem', 'razão', 'e', 'vcs', 'não', 'cumpriram', 'com', 'a', 'palavra', 'não', 'aceito', 'pagar', '', 'por', 'este', 'livro', 'pois', 'estava', 'informando', 'q', 'era', 'gratuito', 'comprei', 'achando', 'que', 'era', 'vantagem', 'pelo', 'preço', 'atrativo', 'minha', 'filha', 'quando', 'abriu', 'um', 'dos', 'livros', 'a', 'primeira', 'vez', 'as', 'folhas', 'se', 'soltaram', 'eu', 'tenho', 'um', 'livro', 'da', 'coleção', 'harry', 'potter', 'que', 'comprei', 'a', 'mais', 'de', '', 'anos', 'e', 'está', 'em', 'perfeito', 'estado', 'de', 'conservação', 'não', 'entendi', 'a', 'baixíssima', 'qualidade', 'desse', 'produto', 'a', 'obra', 'de', 'arthur', 'conan', 'doyale', 'é', 'simplesmente', 'excepcional', 'está', 'edição', 'esta', 'impecável', 'recebi', 'a', 'encomenda', 'antes', 'do', 'prazo', 'previsto', 'porém', 'a', 'caixa', 'box', 'onde', 'os', 'livros', 'vem', 'está', 'com', 'a', 'lateral', 'totalmente', 'amaçada', 'um', 'descuido', 'que', 'poderia', 'ter', 'sido', 'evitado', 'com', 'uma', 'melhor', 'embalagem', 'sempre', 'compro', 'livros', 'no', 'amazon', 'porém', 'desta', 'vez', 'fiquei', 'decepcionada', 'uma', 'das', 'maiores', 'histórias', 'já', 'contadas', 'uma', 'decepção', 'aqui', 'é', 'triste', 'ver', 'o', 'preço', 'deste', 'ebook', 'mais', 'triste', 'ainda', 'é', 'pensar', 'que', 'há', 'gente', 'que', 'paga', 'por', 'isso', 'alguns', 'livros', 'vieram', 'com', 'cola', 'na', 'capa', 'além', 'de', 'não', 'informar', 'que', 'esta', 'é', 'a', 'versão', 'compactadapocket', 'a', 'unica', 'descrição', 'é', 'a', 'imagem', 'ilustrativa', 'impossível', 'ler', 'já', 'pedi', 'várias', 'vezes', 'não', 'sei', 'mais', 'o', 'que', 'fazer', 'para', 'receber', 'o', 'livro', 'lamentável', 'lamentável', 'lamentável', 'lamentável', 'comprei', 'a', 'versão', 'kindle', 'e', 'depois', 'me', 'confundi', 'e', 'comprei', 'novamente', 'a', 'mesma', 'versão', 'do', 'livro', 'em', 'formato', 'kindle', 'pois', 'a', 'amazon', 'faturou', 'os', 'dois', 'pedidos', 'feitos', 'no', 'mesmo', 'dia', 'e', 'permite', 'compras', 'kindle', 'duplicadas', 'isto', 'não', 'pode', 'continuar', 'principalmente', 'se', 'tratando', 'de', 'conteúdo', 'digital', 'mantive', 'ele', 'por', 'um', 'tempo', 'na', 'caixa', 'ainda', 'embalado', 'e', 'em', 'local', 'adequado', 'e', 'mesmo', 'assim', 'ao', 'ler', 'os', 'livros', 'todos', 'estão', 'soltando', 'a', 'brochura', 'das', 'capas', 'péssima', 'qualidade', 'de', 'acabamento', 'e', 'por', 'uma', 'questão', 'de', 'prazos', 'não', 'tenho', 'como', 'reclamar', 'fiz', 'a', 'compra', 'errada', 'era', 'pra', 'comprar', 'o', 'livro', 'e', 'acabei', 'comprando', 'esse', 'kindle', 'quero', 'cancelar', 'a', 'compra', 'do', 'kindle', 'o', 'segredo', 'da', 'mente', 'milionária', 'obrigada', 'karla', 'o', 'pedido', 'chegou', 'atrasado', '', 'dias', 'e', 'quando', 'recebi', 'a', 'caixa', 'veio', 'rasgada', 'nos', 'dois', 'lados', 'é', 'um', 'absurdo', 'fazer', 'uma', 'compra', 'cara', 'para', 'obter', 'um', 'produto', 'danificado', 'o', 'sentimento', 'de', 'frustração', 'é', 'grande', 'apesar', 'de', 'terem', 'resolvido', 'comigo', 'um', 'valor', 'de', 'reembolso', 'baixíssimo', 'pelo', 'dano', 'não', 'repara', 'o', 'desagrado', 'jamais', 'é', 'uma', 'pena', 'que', 'os', 'produtos', 'comprados', 'não', 'tenham', 'o', 'cuidado', 'devido', 'e', 'nem', 'uma', 'fiscalização', 'para', 'perceber', 'o', 'dano', 'antes', 'de', 'chegar', 'nas', 'mãos', 'do', 'cliente', 'sem', 'duvidas', 'não', 'recomendarei', 'a', 'compra', 'online', 'pela', 'amazon', 'para', 'ninguém', 'principalmente', 'se', 'for', 'coleccionador', 'comprei', 'esse', 'livro', 'todo', 'seu', 'paguei', 'a', 'fatura', 'e', 'até', 'hoje', 'o', 'livro', 'não', 'chegouquero', 'meu', 'livrooooo', 'estou', 'no', 'aguarde', 'a', 'mais', 'de', 'sete', 'meses', 'um', 'dos', 'meus', 'livros', 'veio', 'todo', 'amassado', 'porque', 'não', 'estão', 'vendendo', 'a', 'versão', 'em', 'ebook', 'kindle', 'do', 'volume', '', 'e', 'do', 'restante', 'da', 'série', 'qual', 'a', 'dificuldade', 'incrível', 'como', 'um', 'ebook', 'que', 'custa', '', 'na', 'amazon', 'internacional', 'venha', 'custando', '', 'não', 'entendo', 'como', 'conseguem', 'vender', 'com', 'preços', 'tão', 'abusivos', 'revoltada', 'por', 'não', 'conseguir', 'devolver', 'este', 'box', 'chegou', 'com', '', 'dias', 'de', 'atraso', 'e', 'quando', 'solicitei', 'o', 'cancelamento', '', 'dia', 'depois', 'do', 'atraso', 'foi', 'um', 'verdadeiro', 'descaso', 'não', 'me', 'retornam', 'não', 'consigo', 'pegar', 'o', 'meu', 'reembolso', 'e', 'nem', 'devolver', 'o', 'produto', 'olar', 'frequentemente', 'tendo', 'sua', 'marca', 'merecidamente', 'mencionada', 'em', 'cases', 'de', 'sucessos', 'que', 'vão', 'desde', 'referências', 'bibliográficas', 'de', 'tccs', 'até', 'complexas', 'análises', 'de', 'modelos', 'de', 'design', 'de', 'negócios', 'e', 'serviços', 'que', 'geram', 'encantamento', 'por', 'meio', 'do', 'relacionamento', 'com', 'clientes', 'experienciei', 'e', 'compartilho', 'um', 'espantoso', 'de', 'case', 'de', 'insucesso', 'da', 'empresa', 'fiz', 'em', '', 'um', 'pedido', 'deste', 'livro', 'it', 'a', 'coisa', 'e', 'de', 'outro', 'livro', 'e', 'a', 'previsão', 'de', 'entrega', 'era', 'algo', 'em', 'torno', 'de', '', 'dias', 'o', 'outro', 'livro', 'do', 'mesmo', 'pedido', 'mesmo', 'endereço', 'etc', 'etc', 'foi', 'entregue', 'sem', 'problemas', 'mas', 'para', 'o', 'livro', 'it', 'a', 'coisa', 'a', 'transportadora', 'insistia', 'que', 'o', 'endereço', 'era', 'incorreto', 'oi', 'eu', 'moro', 'aqui', 'em', '', 'pedi', 'ajuda', 'via', 'chat', 'no', 'site', 'e', 'recebi', 'um', 'atendimento', 'incrível', 'mas', 'inversamente', 'proporcional', 'em', 'eficácia', 'naquele', 'atendimento', 'já', 'havia', 'descrito', 'rotas', 'para', 'chegar', 'aqui', 'pontos', 'de', 'referência', 'meios', 'de', 'contato', 'e', 'até', 'mesmo', 'me', 'disponibilizei', 'a', 'buscar', 'o', 'livro', 'em', 'algum', 'lugar', 'pois', 'o', 'mesmo', 'era', 'muito', 'importante', 'para', 'presentear', 'uma', 'pessoa', 'especial', 'e', 'tal', 'nada', 'no', 'início', 'de', 'dezembro', 'enviei', 'um', 'email', 'pedindo', 'ajuda', 'e', 'reiterando', 'tudo', 'aquilo', 'apresentado', 'no', 'atendimento', 'via', 'chat', 'e', 'no', 'dia', 'seguinte', 'recebi', 'um', 'email', 'daqueles', 'ctrl', 'c', 'ctrl', 'v', 'da', 'amazon', 'se', 'desculpando', 'e', 'perguntando', 'se', 'eu', 'gostaria', 'de', 'ser', 'reembolsado', 'e', 'eu', 'prontamente', 'respondi', 'que', 'entendo', 'que', 'm', 'acontece', 'e', 'que', 'eu', 'mais', 'que', 'desejar', 'precisava', 'receber', 'o', 'livro', 'novamente', 'compartilhei', 'rotas', 'pontos', 'de', 'referências', 'autorizei', 'passar', 'meu', 'telefone', 'celular', 'para', 'quem', 'quer', 'que', 'fosse', 'incluindo', 'me', 'ligar', 'a', 'cobrar', 'se', 'necessário', 'fosse', 'e', 'repeti', 'a', 'alternativa', 'para', 'eu', 'buscar', 'em', 'algum', 'lugar', 'em', 'moro', 'em', 'são', 'paulo', 'gente', 'não', 'em', 'alguma', 'cidade', 'de', 'difícil', 'acesso', 'alguns', 'dias', 'se', 'passaram', 'nessas', 'milongas', 'e', 'enfim', 'no', 'dia', '', '', 'dias', 'após', 'realizado', 'o', 'pedido', 'recebi', 'a', 'solução', 'compulsória', 'da', 'amazon', 'confirmação', 'de', 'reembolso', 'o', 'seu', 'reembolso', 'será', 'creditado', 'em', '', 'faturas', 'caso', 'seja', 'cartão', 'de', 'crédito', 'e', 'em', 'até', '', 'dias', 'úteis', 'na', 'sua', 'conta', 'corrente', 'para', 'cartões', 'de', 'débito', 'e', 'boletos', 'estamos', 'de', 'olho', 'amazon', '<a', 'class=alinknormal', 'datahook=productlinklinked', '', 'harry', 'potter', 'edição', 'premium', 'exclusiva', 'amazon<a>', 'cuidado', 'com', 'o', 'anúncio', 'o', 'box', 'não', 'é', 'premium', 'o', 'meu', 'box', 'apesar', 'de', 'vir', 'todo', 'emplastificado', 'ele', 'chegou', 'com', 'um', 'pouco', 'de', 'poeira', 'dentro', 'do', 'plástico', 'e', 'algumas', 'capas', 'estavam', 'raladas', 'com', 'leves', 'ranhuras', 'muito', 'estranho', 'parece', 'que', 'antes', 'de', 'colocar', 'no', 'box', 'na', 'hora', 'da', 'fabricação', 'os', 'livros', 'sofreram', 'um', 'pouco', 'e', 'foram', 'maltratados', 'e', 'embalados', 'de', 'qualquer', 'jeito', 'eu', 'comprei', 'numa', 'promoção', 'por', '', 'e', 'não', 'recomendo', 'comprar', 'se', 'estiver', 'mais', 'caro', 'que', 'isso', 'pois', 'o', 'papel', 'é', 'muito', 'fino', 'e', 'transparente', 'dá', 'medo', 'de', 'manusear', 'e', 'rasgar', 'algumas', 'capas', 'aparentam', 'estar', 'mal', 'coladas', 'apenas', '', 'páginas', 'separam', 'a', 'capa', 'da', 'história', 'em', 'si', 'e', 'nada', 'separa', 'a', 'última', 'folha', 'de', 'história', 'da', 'capa', 'de', 'trás', 'então', 'não', 'espere', 'conteúdo', 'extra', 'sumário', 'e', 'etc', 'pois', 'o', 'livro', 'é', 'somente', 'a', 'história', 'e', 'acabou', 'eu', 'esperava', 'ser', 'um', 'pouco', 'mais', 'fiel', 'a', 'versão', 'britânica', 'mas', 'de', 'igual', 'só', 'tem', 'mesmo', 'a', 'capa', 'o', 'resto', 'é', 'só', 'mais', 'uma', 'impressão', 'qualquer', 'sem', 'fazer', 'o', 'devido', 'material', 'premium', 'fiquei', 'decepcionado', 'porque', 'criei', 'muita', 'expectativas', 'e', 'no', 'final', 'a', 'qualidade', 'é', 'bem', 'baixa', 'mesmo', 'o', 'único', 'ponto', 'positivo', 'é', 'só', 'as', 'capas', 'que', 'são', 'lindas', 'mas', 'por', 'dentro', 'é', 'bem', 'pobrezinho', 'boa', 'sorte', 'a', 'todos', 'a', 'entrega', 'foi', 'no', 'prazo', 'porém', 'a', 'edição', 'é', 'muito', 'mal', 'feita', 'as', 'páginas', 'e', 'a', 'impressão', 'são', 'desalinhadas', 'além', 'disso', 'a', 'lombada', 'está', 'com', 'cola', 'a', 'caixa', 'veio', 'estragada', 'queria', 'deixar', 'ela', 'a', 'mostra', 'como', 'produto', 'decorativo', 'agora', 'não', 'poderei', 'mais', 'muito', 'obrigada', 'pelo', 'pessimo', 'produto', 'o', 'box', 'premium', 'é', 'lindo', 'porém', 'a', 'caixa', 'veio', 'rasgada', 'fiquei', 'com', 'desgosto', 'e', 'quero', 'trocar', 'apenas', 'esse', 'box', 'os', 'outros', 'livros', 'vieram', 'de', 'forma', 'adequada', 'comecei', 'a', 'leitura', 'hoje', 'e', 'estou', 'abismado', 'com', 'a', 'tradução', 'sinto', 'mesmo', 'que', 'estou', 'lendo', 'algo', 'traduzido', 'por', 'um', 'computador', 'recomendo', 'a', 'compra', 'em', 'inglês', 'infelizmente', 'veio', 'com', 'a', 'caixa', 'toda', 'detonada', 'o', 'box', 'veio', 'amassado', 'e', 'com', 'uma', 'das', 'laterais', 'rasgada', 'quase', 'saindo', 'os', 'livros', 'vieram', 'com', 'um', 'pouco', 'de', 'cola', 'na', 'parte', 'superior', 'e', 'ao', 'puxar', 'rasgaram', 'o', 'box', 'e', 'para', 'piorar', 'o', 'quinto', 'livro', 'veio', 'com', 'umas', 'oito', 'páginas', 'em', 'branco', 'pior', 'experiencia', 'revoltada', 'por', 'não', 'conseguir', 'devolver', 'este', 'box', 'chegou', 'com', '', 'dias', 'de', 'atraso', 'e', 'quando', 'solicitei', 'o', 'cancelamento', '', 'dia', 'depois', 'do', 'atraso', 'foi', 'um', 'verdadeiro', 'descaso', 'não', 'me', 'retornam', 'não', 'consigo', 'pegar', 'o', 'meu', 'reembolso', 'e', 'nem', 'devolver', 'o', 'produto', 'tenho', 'um', 'muito', 'semelhante', 'pelas', 'fotos', 'creio', 'que', 'o', 'material', 'dos', 'livros', 'sejam', 'os', 'mesmos', 'esses', 'livros', 'são', 'só', 'para', 'estante', 'mas', 'logo', 'essa', 'capa', 'irá', 'se', 'atrofiar', 'e', 'as', 'páginas', 'logo', 'se', 'sujarão', 'mesmo', 'eu', 'tendo', 'todo', 'cuidado', 'ao', 'manusear', 'os', 'livros', 'então', 'é', 'certo', 'de', 'que', 'apesar', 'de', 'ser', 'um', 'livro', 'pocket', 'que', 'seu', 'objetiva', 'seria', 'de', 'ser', 'mais', 'fácil', 'e', 'prático', 'o', 'manuseio', 'o', 'material', 'do', 'livro', 'não', 'compensa', 'p', 'esses', 'quesitos', 'os', 'mapas', 'estão', 'em', 'péssima', 'qualidade', 'e', 'os', 'capítulos', 'estão', 'formatados', 'errados', 'eg', 'posição', '', 'como', 'pode', 'um', 'livro', 'digital', 'conter', 'erros', 'de', 'formtação', 'isso', 'é', 'texto', 'nenhum', 'mega', 'problema', 'com', 'css', 'ou', 'outra', 'linguagem', 'texto', 'que', 'sistema', 'horrível', 'de', 'vocês', 'eu', 'não', 'comprei', 'nada', 'eu', 'só', 'clique', 'pra', 'ver', 'melhor', 'eu', 'queria', 'esses', 'livros', 'físicos', 'e', 'não', 'ebook', 'eu', 'só', 'queria', 'ver', 'cancele', 'essa', 'comprar', 'obrigada', 'stela', 'maris', 'o', 'pedido', 'veio', 'rápido', 'os', 'livros', 'são', 'maravilhosos', 'porém', 'o', 'box', 'veio', 'em', 'péssimas', 'condições', 'parece', 'que', 'caiu', 'água', 'nele', 'e', 'estufou', 'todo', 'o', 'material', 'como', 'mostram', 'as', 'imagens', 'as', 'pontas', 'estão', 'destruídas', 'com', 'certeza', 'caiu', 'no', 'chão', 'em', 'algum', 'momento', 'estou', 'frustrada', 'com', 'a', 'minha', 'primeira', 'aquisição', 'na', 'amazon', 'como', 'pode', 'esse', 'livro', 'está', 'esse', 'preço', 'para', 'o', 'kindle', 'isso', 'é', 'um', 'absurdo', 'além', 'de', 'ser', 'um', 'pedido', 'para', 'não', 'comprarmos', 'muito', 'ruim', 'paginas', 'extremamente', 'finas', 'quase', 'transparentes', 'letra', 'miúda', 'parece', 'mais', 'uma', 'bíblia', 'apesar', 'de', 'bem', 'barato', 'o', 'produto', 'final', 'decepciona', 'o', 'texto', 'inteirinho', 'são', 'só', 'emails', 'talvez', 'agrade', 'pessoas', 'jovens', 'a', 'leitura', 'é', 'cansativa', 'extremamente', 'superficial', 'o', 'preço', 'é', 'alto', 'e', 'não', 'vale', 'a', 'pena', 'a', 'caixa', 'veio', 'em', 'um', 'péssimo', 'estado', 'parte', 'de', 'baixo', 'rasgada', 'além', 'de', 'alguns', 'amassados', 'os', 'livros', 'são', 'muito', 'pequenos', 'e', 'sensíveis', 'folhas', 'brancas', 'que', 'atrapalham', 'a', 'leitura', 'e', 'também', 'não', 'vieram', 'em', 'um', 'estado', 'muito', 'bom', 'parecia', 'que', 'estava', 'comprando', 'um', 'livro', 'usado', 'não', 'recomendo', 'a', 'compra', 'só', 'não', 'devolvo', 'pois', 'paguei', 'um', 'preço', 'muito', 'baixo', 'em', 'uma', 'promoção', 'e', 'teria', 'que', 'pagar', 'pelo', 'frete', 'vai', 'ficar', 'encalhado', 'na', 'minha', 'estante', 'recomendo', 'muito', 'mais', 'comprar', 'os', '', 'livros', 'originais', 'que', 'se', 'encontram', 'em', 'promoção', 'em', 'diversos', 'sites', 'pelo', 'mesmo', 'valor', 'desde', 'que', 'harry', 'potter', 'foi', 'lançado', 'escuto', 'reclamarem', 'da', 'editora', 'rocco', 'nos', 'livros', 'ou', 'porque', 'o', 'papel', 'branco', 'suja', 'muito', 'ou', 'as', 'letras', 'douradas', 'saíam', 'facilmente', 'a', 'total', 'inconsistência', 'nas', 'fontes', 'e', 'formatações', 'nos', 'livros', 'uns', 'livros', 'com', 'sumário', 'outros', 'sem', 'etc', 'parece', 'que', 'o', 'pottermore', 'seguiu', 'fielmente', 'a', 'cartilha', 'rocco', 'de', 'como', 'não', 'publicar', 'um', 'livro', 'dessa', 'vez', 'na', 'edição', 'digital', 'parece', 'que', 'pegaram', 'o', 'primeiro', 'pdf', 'que', 'encontraram', 'na', 'internet', 'e', 'converteram', 'com', 'a', 'ferramenta', 'de', 'email', 'da', 'própria', 'amazon', 'a', 'tradução', 'tem', 'pequenas', 'diferenças', 'como', 'o', 'original', 'impresso', 'os', 'nomes', 'dos', 'fundadores', 'das', 'casas', 'foram', 'mantidos', 'no', 'original', 'em', 'inglês', 'ao', 'invés', 'das', 'traduções', 'dos', 'nomes', 'que', 'foram', 'publicados', 'como', 'godrico', 'grifinória', 'e', 'salazar', 'sonserina', 'o', 'que', 'não', 'é', 'de', 'todo', 'ruim', 'mas', 'as', 'várias', 'palavras', 'com', 'erros', 'eg', 'chamála', 'tocála', 'e', 'semelhantes', 'por', 'diversas', 'vezes', 'perdem', 'a', 'acentuação', 'e', 'hífen', 'ficando', 'chamala', 'e', 'tocala', 'muitas', 'palavras', 'que', 'obviamente', 'tinham', 'sido', 'hifenizadas', 'num', 'texto', 'impresso', 'aparecem', 'cortadas', 'no', 'texto', 'corrido', 'além', 'de', 'em', 'dois', 'livros', 'enigma', 'do', 'príncipe', 'e', 'câmara', 'secreta', 'o', 'texto', 'não', 'vir', 'justificado', 'mas', 'alinhado', 'à', 'esquerda', 'simplesmente', 'inaceitável', 'ao', 'comparar', 'com', 'as', 'publicações', 'dos', 'livros', 'do', 'pottermore', 'em', 'inglês', 'a', 'situação', 'fica', 'ainda', 'pior', 'lá', 'a', 'formatação', 'é', 'absolutamente', 'impecável', 'o', 'que', 'deveria', 'ter', 'sido', 'feito', 'também', 'aqui', 'se', 'não', 'fosse', 'de', 'graça', 'com', 'o', 'unlimited', 'teria', 'sido', 'realmente', 'um', 'dinheiro', 'muito', 'mal', 'gasto', 'felizmente', 'os', 'demais', 'livros', 'que', 'li', 'com', 'o', 'preço', 'da', 'assinatura', 'justificaram', 'o', 'valor', 'do', 'mês', 'boa', 'noite', 'não', 'gostei', 'da', 'qualidade', 'das', 'folhas', 'super', 'finasse', 'consegue', 'ver', 'as', 'letras', 'da', 'outra', 'paginamias', 'pelo', 'custo', 'coloquei', '', 'estrelas', 'mais', 'não', 'compraria', 'novamentedevido', 'a', 'qualidade', 'das', 'folhas', 'como', 'havia', 'informado', 'a', 'caixa', 'veio', 'rasgada', 'e', 'amassada', 'gostaria', 'de', 'uma', 'caixa', 'nova', 'se', 'possivel', 'mas', 'os', 'livros', 'estão', 'em', 'otimo', 'estado', 'não', 'consigo', 'ler', 'está', 'muito', 'confuso', 'este', 'site', 'não', 'consigo', 'contato', 'com', 'ninguém', 'para', 'ajuda', 'complicado', 'o', 'amazon', 'espero', 'conseguir', 'ler', 'ou', 'o', 'estorno', 'não', 'gostei', 'a', 'capa', 'diz', 'mais', 'do', 'que', 'o', 'conteúdo', 'do', 'livro', 'a', 'entrega', 'foi', 'super', 'rápida', 'mas', 'o', 'produto', 'veio', 'rasgado', 'e', 'todo', 'surrado', 'a', 'caixa', 'box', 'que', 'guarda', 'os', 'livros', 'veio', 'toda', 'destruída', 'e', 'pelo', 'que', 'leio', 'nos', 'comentários', 'isso', 'anda', 'acontecendo', 'bastante', 'livros', 'e', 'caixa', 'vieram', 'danificados', 'parte', 'externa', 'dos', 'livros', 'dobras', 'vieram', 'com', 'cola', 'caixa', 'amassada', 'e', 'rasgada', 'ainda', 'vou', 'ter', 'o', 'trabalho', 'de', 'ir', 'ao', 'correio', 'e', 'pagar', 'para', 'devolver', 'o', 'produto', 'dizem', 'que', 'reembolsam', 'o', 'frete', 'depois', 'veremos', 'seguem', 'as', 'fotos', 'o', 'produto', 'é', 'muito', 'bom', 'porém', 'veio', 'com', 'rasgos', 'e', 'bolhas', 'na', 'box', 'comprei', 'com', 'receio', 'por', 'conta', 'de', 'algumas', 'avaliações', 'de', 'compradores', 'da', 'amazon', 'com', 'a', 'popularização', 'dos', 'ebook', 'houve', 'uma', 'falsa', 'ideia', 'de', 'baratear', 'o', 'preço', 'das', 'obras', 'digitais', 'visto', 'que', 'a', 'grande', 'maioria', 'dos', 'livros', 'a', 'venda', 'aqui', 'encontramse', 'mais', 'caros', 'do', 'que', 'sua', 'versão', 'em', 'papel', 'ledo', 'engano', 'em', 'pensar', 'que', 'eu', 'substituiria', 'meus', 'livros', 'tradicionais', 'por', 'ebook', 'continuarei', 'comprando', 'meus', 'livros', 'e', 'usufruindo', 'os', 'ebook', 'de', 'até', '', 'reais', 'que', 'julgo', 'um', 'preço', 'justo', 'no', 'dia', 'que', 'era', 'para', 'meu', 'livro', 'chegar', 'recebo', 'um', 'email', 'da', 'amazon', 'avisando', 'que', 'eles', 'haviam', 'errado', 'e', 'o', 'livro', 'demoraria', 'mais', 'para', 'chegar', 'quando', 'ele', 'chegou', 'fui', 'abrir', 'e', 'dois', 'dos', 'exemplares', 'vieram', 'com', 'a', 'capa', 'amaçada', 'e', 'com', 'sugeria', 'em', 'todas', 'as', 'capas', 'das', '', 'edições', 'provável', 'que', 'seja', 'de', 'cola', 'além', 'disso', 'a', 'caixa', 'que', 'vem', 'para', 'guardar', 'os', 'exemplares', 'serem', 'estava', 'rasgada', 'e', 'tive', 'que', 'jogar', 'fora', 'surreal', 'este', 'preço', 'depois', 'reclamam', 'que', 'ebook', 'não', 'vende', 'no', 'brasil', 'ridículo', 'ainda', 'mais', 'quando', 'se', 'compara', 'com', 'o', 'preço', 'dos', 'eua', 'sem', 'chance', 'essa', 'encomenda', 'não', 'veio', 'pelos', 'correios', 'e', 'chegou', 'tanto', 'os', 'livros', 'como', 'a', 'cauxa', 'do', 'box', 'amassadas', 'a', 'caixa', 'veio', 'rasgada', 'como', 'fazia', 'mais', 'de', 'sete', 'dias', 'que', 'havia', 'comprado', 'e', 'não', 'havia', 'aberto', 'fiquei', 'no', 'prejuízo', 'triste', 'o', 'conteúdo', 'é', 'muito', 'bom', 'uma', 'forma', 'diferente', 'de', 'reconhecer', 'fatos', 'e', 'personagens', 'históricos', 'mas', 'o', 'que', 'deveria', 'ser', 'uma', 'experiência', 'agradável', 'e', 'divertida', 'tornase', 'extremamente', 'penosa', 'em', 'razão', 'da', 'formatação', 'da', 'obra', 'algumas', 'páginas', 'ficam', 'com', 'fundo', 'preto', 'há', 'princípio', 'achei', 'que', 'fosse', 'algum', 'defeito', 'do', 'meu', 'kindle', 'mas', 'após', 'ler', 'outras', 'postagens', 'verifiquei', 'que', 'tratavase', 'de', 'problema', 'do', 'ebook', 'o', 'conteúdo', 'é', 'truncado', 'havendo', 'constantes', 'trocas', 'de', 'páginas', 'e', 'as', 'notas', 'que', 'na', 'versão', 'impressa', 'deveriam', 'enriquecer', 'o', 'texto', 'no', 'ebook', 'tornam', 'a', 'compreensão', 'penosa', 'e', 'confusa', 'estou', 'extremamente', 'decepcionado', 'com', 'o', 'resultado', 'e', 'mais', 'ainda', 'com', 'a', 'amazon', 'por', 'após', 'tantas', 'críticas', 'ao', 'material', 'manter', 'o', 'produto', 'à', 'venda', 'em', 'sua', 'loja', 'sem', 'as', 'devidas', 'e', 'necessárias', 'correções', 'nada', 'mais', 'justo', 'seria', 'se', 'a', 'empresa', 'interrompesse', 'a', 'comercialização', 'do', 'livro', 'até', 'efetuar', 'as', 'correções', 'desta', 'forma', 'começo', 'a', 'me', 'arrepender', 'de', 'ter', 'adquirido', 'o', 'kindle', 'pois', 'não', 'vejo', 'muito', 'futuro', 'para', 'a', 'amazon', 'no', 'brasil', 'seguindo', 'como', 'esta', 'com', 'o', 'box', 'harry', 'potter', 'edição', 'especial', 'da', 'amazon', 'mas', 'veio', 'com', 'defeito', 'no', 'livro', '', 'nas', 'letras', 'douradas', 'que', 'está', 'descascada', 'solicitei', 'a', 'troca', 'e', 'recebi', 'um', 'segundo', 'produto', 'mas', 'este', 'também', 'estava', 'com', 'defeito', 'na', 'capa', 'no', 'livro', '', 'solicitei', 'a', 'troca', 'uma', 'terceira', 'vez', 'e', 'ainda', 'veio', 'com', 'problema', 'como', 'era', 'em', 'um', 'livro', 'diferente', 'consegui', 'trocar', 'pelo', 'livro', 'do', 'outro', 'box', 'que', 'estava', 'comigo', 'mas', 'fiquei', 'decepcionada', 'com', 'a', 'qualidade', 'do', 'produto', 'venderam', 'um', 'produto', 'que', 'não', 'tinham', 'para', 'entrega', 'me', 'deu', 'muita', 'força', 'de', 'cabeça', 'para', 'fazer', 'estorno', 'no', 'meu', 'cartão', 'de', 'crédito', 'simples', 'assim', 'a', 'formatação', 'está', 'tão', 'ruim', 'que', 'perdi', 'a', 'vontade', 'de', 'ler', 'o', 'livro', 'o', 'texto', 'fica', 'todo', 'no', 'lado', 'esquerdo', 'ocupando', 'apenas', 'metade', 'da', 'página', 'cada', 'pagina', 'acaba', 'tendo', 'poucas', 'frases', 'na', 'época', 'que', 'estourou', 'eu', 'paguei', '', 'na', 'edição', 'especial', 'por', 'que', 'motivo', 'pagaria', '', 'em', 'uma', 'edição', 'ebook', 'sem', 'cor', 'e', 'desenho', 'algum', 'preço', 'abusivo', 'espero', 'que', 'ninguém', 'o', 'compre', 'primeiramente', 'meu', 'pedido', 'nem', 'veiomas', 'me', 'reembolsaram', 'péssima', 'folha', 'muito', 'fina', 'a', 'ponto', 'de', 'ver', 'o', 'que', 'há', 'por', 'trás', 'se', 'fosse', 'só', 'isso', 'pelo', 'preço', 'o', 'comprador', 'até', 'entenderia', 'no', 'entanto', 'é', 'inadmissível', 'que', 'as', 'folhas', 'estejam', 'rasgadas', 'comidas', 'e', 'cortadas', 'a', 'impressão', 'do', 'texto', 'chega', 'no', 'fim', 'da', 'página', 'literalmente', 'no', 'fim', 'da', 'página', 'a', 'ponto', 'de', 'cortar', 'pedaços', 'das', 'letras', 'depois', 'volta', 'à', 'diagramação', 'medíocre', 'e', 'quando', 'pensamos', 'que', 'está', 'tudo', 'bem', 'aparece', 'as', 'palavras', 'comidas', 'novamente', 'sem', 'contar', 'também', 'o', 'horrível', 'estado', 'da', 'caixa', 'e', 'dos', 'livros', 'amassados', 'e', 'feridos', 'este', 'pode', 'ter', 'sido', 'devido', 'ao', 'transporte', 'seria', 'melhor', 'não', 'colocar', 'o', 'box', 'neste', 'preço', 'se', 'significar', 'o', 'trabalho', 'porco', 'da', 'editora', 'leya', 'queria', 'entender', 'o', 'porque', 'não', 'chegou', 'ainda', 'esse', 'livro', 'em', 'minha', 'casa', 'fui', 'até', 'o', 'correio', 'daqui', 'pra', 'ver', 'a', 'estava', 'lá', 'mas', 'eles', 'disseram', 'que', 'a', 'entrega', 'de', 'vocês', 'não', 'usam', 'o', 'correio', 'da', 'minha', 'cidade', 'é', 'algo', 'próprio', 'de', 'vocês', 'comprei', 'esse', 'livro', 'a', 'tempos', 'mas', 'nada', 'dele', 'chegar', 'obrigada', 'a', 'coleção', 'é', 'maravilhosa', 'sir', 'arthur', 'conan', 'doyle', 'um', 'mestre', 'mas', 'o', 'produto', 'em', 'si', 'deixa', 'a', 'desejar', 'a', 'caixa', 'onde', 'vem', 'o', 'produto', 'se', 'rasga', 'ou', 'descola', 'fácil', 'pedi', 'a', 'substituição', 'do', 'produto', 'é', 'a', 'amazon', 'disse', 'que', 'demoraria', '', 'mês', 'para', 'enviar', 'o', 'danificado', 'e', 'só', 'aí', 'iria', 'mandar', 'um', 'novo', 'ridículo', 'como', 'se', 'eu', 'tivesse', 'culpa', 'do', 'envio', 'descuidado', 'deles', 'pessoal', 'vocês', 'poderiam', 'ajustar', 'a', 'fonte', 'para', 'justificada', 'após', 'a', 'alteração', 'aumento', 'as', 'estrelas', 'nada', 'contra', 'a', 'série', 'acho', 'a', 'excelente', 'a', 'história', 'comprei', 'o', 'livro', 'e', 'ele', 'não', 'baixou', 'gostaria', 'de', 'saber', 'se', 'vai', 'baixar', 'quero', 'lê', 'lo', 'muito', 'grata', 'pela', 'atenção', 'o', 'box', 'é', 'bonito', 'mas', 'a', 'qualidade', 'do', 'material', 'dos', 'livros', 'é', 'bem', 'baixa', 'folhas', 'finas', 'fica', 'a', 'sombra', 'das', 'letras', 'da', 'página', 'de', 'trás', 'que', 'atrapalha', 'a', 'leituracapa', 'também', 'é', 'fina', 'se', 'você', 'liga', 'pra', 'qualidade', 'não', 'recomendo', 'mas', 'se', 'liga', 'mais', 'pro', 'preço', 'vale', 'a', 'pena', 'bom', 'livro', 'e', 'história', 'envolvente', 'porém', 'o', 'leitor', 'terá', 'que', 'conviver', 'com', 'uma', 'péssima', 'edição', 'há', 'diversos', 'erros', 'de', 'português', 'mapas', 'em', 'baixa', 'resolução', 'formatação', 'desigual', 'com', 'mudança', 'do', 'tipo', 'de', 'letra', 'dentro', 'do', 'capítulo', 'capítulos', 'inseridos', 'dentro', 'de', 'outros', 'por', 'ser', 'produto', 'não', 'do', 'meu', 'interesse', 'e', 'recebi', 'como', 'bônus', 'na', 'compra', 'de', 'kindle', 'poderia', 'ter', 'oportunidade', 'de', 'escolher', 'o', 'livro', 'da', 'minha', 'preferência', 'compreendo', 'o', 'atraso', 'enorme', 'de', 'quase', 'duas', 'semanas', 'por', 'causa', 'da', 'greve', 'dos', 'caminhoneiros', 'mas', 'isso', 'não', 'justifica', 'depois', 'de', 'tudo', 'isso', 'o', 'livro', 'chegar', 'com', 'a', 'capa', 'amassada', 'e', 'duas', 'folhas', 'amassadas', 'sinceramente', 'esperava', 'mais', 'comprei', 'livro', 'e', 'recebi', 'uma', 'amostra', 'digital', 'que', 'me', 'fez', 'cancelar', 'a', 'compra', 'haverá', 'quem', 'se', 'identifique', 'não', 'está', 'na', 'lista', 'dos', 'mais', 'vendidos', 'a', 'toa', 'é', 'bom', 'saber', 'do', 'que', 'se', 'trata', 'reflexões', 'de', 'uma', 'mulher', 'sobre', 'os', 'próprios', 'sentimentos', 'nada', 'que', 'extrapole', 'para', 'uma', 'experiência', 'mais', 'universal', 'ou', 'mais', 'profunda', 'as', 'ideias', 'giram', 'todas', 'em', 'volta', 'da', 'frustração', 'em', 'não', 'acertar', 'com', 'um', 'homem', 'auto', 'vitimizaçao', 'e', 'a', 'eterna', 'preocupação', 'de', 'que', 'não', 'estão', 'lhe', 'prestando', 'a', 'devida', 'atenção', 'fingi', 'gozar', 'e', 'você', 'nem', 'percebeu', 'etecetera', 'a', 'autora', 'parece', 'ter', 'sido', 'estuprada', 'o', 'tema', 'do', 'estupro', 'volta', 'sempre', 'assim', 'como', 'o', 'problema', 'em', 'se', 'relacionar', 'com', 'o', 'pai', 'autocentrada', 'e', 'superficial', 'é', 'um', 'livro', 'que', 'só', 'deve', 'interessar', 'quem', 'se', 'identifique', 'com', 'a', 'cabeça', 'dessa', 'moça', 'como', 'disse', 'não', 'toca', 'nenhuma', 'corda', 'que', 'extrapole', 'para', 'o', 'universal', 'fiquei', 'satisfeita', 'com', 'a', 'velocidade', 'da', 'entrega', 'e', 'o', 'valor', 'do', 'frete', 'porém', 'eu', 'comprei', 'esse', 'produto', 'como', 'presente', 'de', 'aniversário', 'paguei', 'pelo', 'cartão', 'de', 'presente', 'e', 'embrulho', 'e', 'ele', 'vei', 'embalado', 'de', 'maneira', 'normal', 'a', 'caixa', 'do', 'box', 'chegou', 'danificada', 'e', 'rasgada', 'nas', 'laterais', 'assim', 'como', 'o', 'primeiro', 'volume', 'estava', 'com', 'uma', 'orelha', 'gigante', 'na', 'contracapa', 'como', 'se', 'houvesse', 'sido', 'dobrada', 'de', 'maneira', 'proposital', 'havia', 'cola', 'na', 'lombada', 'do', 'volume', '', 'e', 'o', 'volume', '', 'estava', 'com', 'as', 'laterais', 'das', 'capas', 'amaçadas', 'ou', 'seja', 'os', 'produtos', 'chegaram', 'seriamente', 'danificados', 'estou', 'muito', 'desapontada', 'com', 'isso', 'com', 'a', 'falta', 'de', 'respeito', 'com', 'o', 'cliente', 'se', 'você', 'paga', 'por', 'um', 'produto', 'e', 'serviço', 'deseja', 'que', 'ele', 'chega', 'em', 'excelentes', 'condições', 'a', 'sua', 'mão', 'eu', 'iria', 'fazer', 'a', 'devolução', 'mas', 'a', 'pessoa', 'a', 'quem', 'eu', 'presenteei', 'muito', 'tranquilamente', 'aceito', 'o', 'produto', 'danificado', 'o', 'livro', 'é', 'nota', '', 'mas', 'o', 'preço', 'que', 'a', 'amazon', 'está', 'cobrando', 'do', 'ebook', 'é', 'nota', '', 'por', 'essa', 'e', 'outras', 'razões', 'que', 'os', 'livros', 'digitais', 'no', 'brasil', 'ainda', 'não', 'engrenaram', 'como', 'poderiam', 'o', 'conteúdo', 'é', 'interessante', 'mas', 'está', 'parecendo', 'que', 'a', 'tradução', 'foi', 'feita', 'com', 'muito', 'descuido', 'além', 'de', 'a', 'linguagem', 'ser', 'quase', 'infantil', 'tem', 'erros', 'na', 'formação', 'e', 'descontinuidade', 'nas', 'frases', 'parece', 'mal', 'revisado', 'realmente', 'tem', 'de', 'ser', 'um', 'para', 'gastar', 'tanto', 'dinheiro', 'num', 'livro', 'dessa', 'qualidadeum', 'apanhado', 'de', 'repetições', 'e', 'clichês', 'de', 'um', 'filósoso', 'que', 'nem', 'é', 'filósofo', 'de', 'verdade', 'infelizmente', 'os', 'livros', 'não', 'chegaram', 'fiz', 'o', 'pedido', 'no', 'começo', 'de', 'dezembro', 'com', 'entrega', 'prevista', 'para', '', 'infelizmente', 'não', 'chegou', 'feito', 'reclamação', 'foi', 'estipulado', 'novo', 'prazo', 'até', 'dia', '', 'novamente', 'sem', 'sucesso', 'feito', 'reclamação', 'na', 'empresa', 'planeta', 'livros', 'a', 'mesma', 'disse', 'que', 'o', 'responsável', 'pela', 'entrega', 'era', 'amazon', 'que', 'rebatia', 'o', 'contrario', 'uma', 'falta', 'de', 'respeito', 'ao', 'cliente', 'tive', 'que', 'optar', 'pelo', 'reembolso', 'e', 'vou', 'tentar', 'comprar', 'por', 'outro', 'site', 'no', 'ato', 'da', 'minha', 'compra', 'na', 'descrição', 'do', 'produto', 'não', 'constava', 'que', 'o', 'mesmo', 'era', 'um', 'livro', 'de', 'bolso', 'muito', 'pelo', 'contrário', 'as', 'dimensões', 'do', 'produto', 'eram', 'outras', 'se', 'eu', 'estivesse', 'no', 'endereço', 'quando', 'o', 'produto', 'foi', 'entregue', 'teria', 'devolvido', 'o', 'mesmo', 'sem', 'pestanejar', 'infelizmente', 'estava', 'de', 'férias', 'e', 'acabei', 'perdendo', 'o', 'prazo', 'de', 'devolução', 'outra', 'observação', 'que', 'tenho', 'a', 'fazer', 'é', 'em', 'relação', 'ao', 'zelo', 'pelos', 'produtos', 'embalados', 'os', 'funcionários', 'da', 'amazon', 'pesaram', 'a', 'mão', 'nas', 'minhas', 'últimas', 'entregas', 'pois', 'praticamente', 'todos', 'os', 'livros', 'contêm', 'leves', 'amassados', 'em', 'suas', 'bordas', 'fica', 'aqui', 'a', 'minha', 'indignação', 'com', 'a', 'amazon', 'minha', 'experiência', 'com', 'ebook', 'foi', 'frustrante', 'no', 'kindle', 'o', 'livro', 'não', 'tem', 'cor', 'agradável', 'o', 'que', 'desestimula', 'a', 'leitura', 'parece', 'uma', 'xerox', 'não', 'é', 'possível', 'vi', 'nárnia', 'agora', 'e', 'a', 'amazon', 'esta', 'cobrando', 'quase', '', 'senhor', 'dos', 'anéis', 'a', 'quase', '', 'nada', 'pode', 'justificar', 'estes', 'valores', 'as', 'obras', 'são', 'sem', 'dúvida', 'incríveis', 'mas', 'os', 'preços', 'ço', 'são', 'uma', 'afronta', 'quando', 'vi', 'o', 'lançamento', 'pensei', 'que', 'finalmente', 'poderia', 'me', 'livrar', 'dos', 'ebook', 'distribuídos', 'pela', 'net', 'de', 'graça', 'quando', 'vi', 'o', 'preço', 'mudei', 'de', 'ideia', 'espero', 'que', 'ninguém', 'compre', 'queremos', 'livros', 'digitais', 'e', 'democráticos', 'com', 'preços', 'acessíveis', 'não', 'somos', 'trampolim', 'para', 'a', 'riqueza', 'um', 'livro', 'digital', 'não', 'utiliza', 'tinta', 'ou', 'papel', 'não', 'precisa', 'de', 'distribuição', 'física', 'e', 'dispensa', 'muita', 'mão', 'de', 'obra', 'tudo', 'isso', 'deveria', 'contribuir', 'para', 'que', 'o', 'valor', 'fosse', 'mais', 'acessível', 'essa', 'editora', 'copia', 'e', 'cola', 'os', 'livros', 'de', 'outra', 'editora', 'chamada', 'centaur', 'que', 'por', 'sua', 'vez', 'lança', 'os', 'livros', 'do', 'dostoiévski', 'em', 'traduções', 'arcaicas', 'do', 'século', 'xix', 'geralmente', 'traduções', 'do', 'francês', 'infelizmente', 'no', 'brasil', 'a', 'única', 'editora', 'que', 'traduz', 'os', 'livros', 'do', 'dostoiévski', 'direto', 'do', 'russo', 'a', 'editora', '', 'não', 'lança', 'esses', 'livros', 'em', 'formato', 'kindle', 'o', 'que', 'foi', 'isto', 'que', 'recebi', 'aqui', 'em', 'casa', 'mas', 'digo', 'de', 'antemão', 'a', 'culpa', 'foi', 'minha', 'a', 'edição', 'desse', 'livro', 'que', 'não', 'está', 'tão', 'barata', 'assim', 'julguei', 'que', 'era', 'a', 'normal', 'pasmem', 'é', 'de', 'bolso', 'pra', 'quem', 'já', 'possui', 'o', 'livro', 'por', 'que', 'ler', 'os', 'clássicos', 'do', 'italo', 'calvino', 'é', 'praticamente', 'do', 'mesmo', 'tamanho', 'mas', 'a', 'diagramação', 'é', 'terrível', 'e', 'a', 'folha', 'é', 'branca', 'preciso', 'saber', 'se', 'essa', 'compra', 'é', 'do', 'livro', 'físico', 'pq', 'não', 'quero', 'digital', 'acho', 'que', 'não', 'entendi', 'a', 'propaganda', 'desculpa', 'msm', 'fui', 'no', 'impulso', 'se', 'não', 'for', 'físico', 'quero', 'cancelar', 'a', 'compra', 'eu', 'nao', 'ia', 'comprar', 'essa', 'edição', 'pelo', 'fato', 'de', 'a', 'maioria', 'dos', 'comentarios', 'serem', 'negativos', 'mas', 'la', 'fui', 'eu', 'me', 'aventurar', 'e', 'comprei', 'chegou', 'agora', 'o', 'box', 'aqui', 'em', 'minha', 'casa', 'recém', 'chegou', 'com', 'página', 'rasgadas', 'o', 'livro', 'em', 'sí', 'veio', 'todo', 'sujo', 'e', 'arranhado', 'principalmente', 'as', 'lombadas', 'mas', 'isso', 'tudo', 'bem', 'eu', 'ia', 'ficar', 'eai', 'dois', 'dos', 'livros', 'com', 'paginas', 'rasgadas', 'que', 'isso', 'amazon', 'vc', 'ta', 'fazendo', 'um', 'jogo', 'comigo', 'o', 'livro', '', 'e', 'o', '', 'estao', 'com', 'as', 'últimas', 'páginas', 'descoladas', 'e', 'rasgadas', 'isso', 'é', 'um', 'absurdo', 'ja', 'pedi', 'meu', 'reembolsoe', 'aconselho', 'a', 'vcs', 'que', 'estao', 'em', 'duvidas', 'de', 'nao', 'comprarem', 'olhem', 'as', 'fotos', 'e', 'tirem', 'suas', 'próprias', 'conclusões', 'depois', 'de', 'fazer', 'o', 'pedido', 'que', 'vi', 'que', 'era', 'pocket', 'e', 'pelos', 'comentários', 'espero', 'sinceramente', 'que', 'eu', 'consiga', 'cancelar', 'decepcionada', 'mesmo', 'pelo', 'amor', 'de', 'deus', 'que', 'preço', 'é', 'estesó', 'mesmo', 'no', 'brasil', 'e', 'é', 'porque', 'livro', 'ainda', 'é', 'imune', 'de', 'impostos', 'promoção', 'do', 'black', 'friday', 'que', 'na', 'verdade', 'não', 'era', 'preço', 'inclusive', 'reduziu', 'além', 'de', 'estar', 'acima', 'de', 'outros', 'sites', 'como', 'submarino', 'não', 'tinha', 'a', 'info', 'de', 'que', 'era', 'pocket', 'chegou', 'com', 'a', 'embalagem', 'rasgada', 'burocracia', 'para', 'retorno', 'e', 'nenhum', 'tipo', 'de', 'compensação', 'pelos', 'transtornos', 'comprei', 'o', 'ebook', 'apenas', 'me', 'fiando', 'no', 'título', 'e', 'no', 'autor', 'dei', 'com', 'os', 'burros', 'nágua', 'o', 'livro', 'é', 'um', 'apanhado', 'de', 'crônicas', 'não', 'necessariamente', 'bem', 'concatenadas', 'compiladas', 'por', 'um', 'admirador', 'de', 'olavo', 'de', 'carvalho', 'os', 'artigos', 'são', 'bons', 'sem', 'dúvida', 'que', 'sim', 'afinal', 'quem', 'os', 'escreveu', 'foi', 'o', 'autor', 'mas', 'a', 'forma', 'como', 'foram', 'compilados', 'e', 'a', 'não', 'indicação', 'na', 'capa', 'de', 'que', 'se', 'trata', 'de', 'uma', 'compilação', 'de', 'artigos', 'gênero', 'que', 'eu', 'particularmente', 'desgosto', 'porque', 'me', 'parece', 'reciclagem', 'para', 'fazer', 'mais', 'dinheiro', 'realmente', 'me', 'desagradaram', 'não', 'recomendo', 'e', 'sim', 'recomendo', 'que', 'antes', 'de', 'comprálo', 'no', 'formato', 'ebook', 'folheieo', 'para', 'ver', 'se', 'é', 'isso', 'mesmoq', 'que', 'você', 'esperava', 'conceitos', 'interessantes', 'mas', 'a', 'forma', 'de', 'apresentação', 'é', 'muito', 'ruim', 'comprei', '', 'dos', '', 'livros', 'da', 'série', 'editados', 'pela', 'leya', 'e', 'esta', 'edição', 'foi', 'a', 'de', 'menor', 'qualidade', 'páginas', 'impressas', 'em', 'papel', 'de', 'pior', 'qualidade', 'com', 'folhas', 'ásperas', 'e', 'cheiro', 'desagradável', 'o', 'livro', 'esta', 'faltando', 'dois', 'capítulosgostaria', 'que', 'trocassem', 'por', 'outro', 'pois', 'o', 'livro', 'é', 'ótimo', 'mas', 'como', 'posso', 'terminar', 'de', 'ler', 'se', 'falta', 'dois', 'capítulos', 'as', 'ilustrações', 'não', 'corresponderam', 'minhas', 'espectativas', 'descritas', 'tendo', 'aparencia', 'pequena', 'em', 'preto', 'e', 'branco', 'no', 'cantinho', 'no', 'inicio', 'dos', 'capitulos', 'achei', 'horriveis', 'sinceramente', 'comprei', 'pelas', 'ilustrações', 'mas', 'fiquei', 'frustrada', 'já', 'tenho', 'uma', 'coleção', 'harry', 'potter', 'em', 'capa', 'dura', 'prefiro', 'reler', 'a', 'coleção', 'q', 'já', 'tenho', 'a', 'entrega', 'foi', 'rápida', 'e', 'sem', 'dano', 'de', 'entrega', 'porem', 'não', 'tem', 'como', 'rastrearisso', 'é', 'um', 'erro', 'da', 'empresa', 'que', 'faz', 'entrega', 'e', 'não', 'permite', 'rastreamento', 'o', 'item', 'chegou', 'com', 'defeito', 'na', 'caixa', 'que', 'faz', 'parte', 'de', 'tudo', 'e', 'isso', 'me', 'desapontou', 'como', 'é', 'um', 'presente', 'não', 'abri', 'a', 'caixa', 'ainda', 'para', 'ver', 'se', 'ha', 'mais', 'defeitos', 'e', 'nem', 'tenho', 'tempo', 'de', 'trocalojá', 'que', 'não', 'ha', 'nenhuma', 'forma', 'de', 'reclamar', 'para', 'uma', 'troca', 'rápida', 'apenas', 'devolver', 'o', 'produto', 'vou', 'ter', 'que', 'entregar', 'o', 'presente', 'assim', 'e', 'aguardar', 'o', 'que', 'achamespero', 'que', 'não', 'tenha', 'outros', 'defeitos', 'mas', 'fiquei', 'muito', 'desapontado', 'pois', 'o', 'produto', 'esta', 'danificado', 'dentro', 'do', 'plastico', 'não', 'foi', 'um', 'erro', 'de', 'entrega', 'ele', 'simplesmente', 'já', 'veio', 'assim', 'falta', 'um', 'controle', 'de', 'qualidade', 'no', 'envio', 'para', 'que', 'nem', 'saia', 'de', 'la', 'um', 'produto', 'com', 'defeito', 'e', 'alguma', 'forma', 'de', 'contato', 'rápido', 'com', 'a', 'empresa', 'para', 'casos', 'de', 'produtos', 'danificados', 'infelizmente', 'o', 'livreiro', 'observou', 'a', 'entrega', 'do', 'endereço', 'anterior', 'qe', 'foi', 'entregue', 'pelo', 'correio', 'a', 'uma', 'pessoa', 'que', 'não', 'foi', 'identificada', 'assim', 'não', 'recebi', 'o', 'livro', 'e', 'não', 'sei', 'onde', 'foi', 'parar', 'acho', 'um', 'descaso', 'o', 'que', 'aconteceu', 'infelizmente', 'minha', 'irmã', 'não', 'recebeu', 'o', 'livro', 'desde', 'o', 'início', 'de', 'maio', 'espero', 'que', 'amazon', 'possa', 'fazer', 'algo', 'tentei', 'fazer', 'o', 'download', 'desse', 'ebook', 'pela', 'promoção', 'amamossp', 'recebi', 'a', 'mensagem', 'de', 'que', 'minha', 'conta', 'não', 'era', 'elegível', 'para', 'participar', 'no', 'entanto', 'qual', 'não', 'foi', 'minha', 'surpresa', 'ao', 'ver', 'que', 'eu', 'estava', 'sendo', 'cobrado', 'por', 'esse', 'produto', 'minha', 'sorte', 'foi', 'que', 'meu', 'cartão', 'de', 'crédito', 'já', 'estava', 'expirado', 'pegadinha', 'do', 'amazonnão', 'era', 'possível', 'baixar', 'o', 'livro', 'era', 'só', 'pra', 'entrar', 'no', 'sitemarketing', 'negativo', 'mais', 'um', 'ponto', 'pra', 'vocês', 'não', 'recebi', 'o', 'livro', 'falta', 'de', 'respeito', 'com', 'o', 'cliente', 'e', 'não', 'obtive', 'resposta', 'do', 'vendedor', 'quero', 'meu', 'dinheiro', 'de', 'volta', 'adquiri', 'a', 'edição', 'comemorativa', 'na', 'verdade', 'uma', 'edição', 'econômica', 'extremamente', 'mal', 'feita', '', 'edição', '', 'papel', 'de', 'baixa', 'gramatura', 'péssima', 'encadernação', 'as', 'folhas', 'estão', 'desalinhadas', 'há', 'cola', 'na', 'lombada', 'e', 'a', 'fonte', 'utilizada', 'bem', 'a', 'fonte', 'utlizada', 'é', 'um', 'total', 'desrespeito', 'ao', 'leitor', 'muito', 'pequena', 'torna', 'a', 'leitura', 'um', 'esforço', 'ao', 'colocar', 'esse', 'produto', 'no', 'mercado', 'a', 'editora', 'leya', 'comete', 'abuso', 'um', 'desrespeito', 'aos', 'leitores', 'e', 'à', 'obra', 'em', 'si', 'lamentável', 'vergonhoso', 'não', 'é', 'o', 'primeiro', 'livro', 'da', 'record', 'que', 'oxida', 'em', 'menos', 'de', 'três', 'meses', 'e', 'olha', 'que', 'meus', 'livros', 'são', 'bem', 'guardados', 'e', 'conservados', 'o', 'papel', 'da', 'maioria', 'das', 'edições', 'da', 'record', 'é', 'desse', 'jeito', 'fica', 'amarelo', 'em', 'pouco', 'tempo', 'é', 'triste', 'totalmente', 'insatisfeita', 'com', 'a', 'entrega', 'amazon', 'terceira', 'vez', 'que', 'tenho', 'atraso', 'nas', 'estrelas', 'de', 'livros', 'e', 'as', 'crônicas', 'que', 'era', 'pra', 'ter', 'recebido', 'dia', '', 'não', 'foram', 'entregues', 'baixei', 'uma', 'amostra', 'e', 'achei', 'interessante', 'e', 'devo', 'admirar', 'como', 'escritor', 'teve', 'coragem', 'e', 'falta', 'de', 'consideração', 'com', 'o', 'leitor', 'ao', 'apresentar', 'um', 'serviço', 'tão', 'porco', 'de', 'formatação', 'sabem', 'qdo', 'comprarei', 'o', 'livro', 'todo', 'nunca', 'conseguir', 'ler', 'um', 'pouco', 'do', 'livro', 'e', 'nesse', 'pouco', 'se', 'vê', 'outros', 'ângulos', 'de', 'verdades', 'históricas', 'ao', 'qual', 'estudamos', 'na', 'escola', 'e', 'muitas', 'concepções', 'sobre', 'a', 'america', 'latina', 'foram', 'mudadas', 'após', 'o', 'livro', 'mas', 'como', 'disse', 'consegui', 'ler', 'um', 'pouco', 'a', 'diagramação', 'está', 'tão', 'ruim', 'bagunçada', 'disforme', 'que', 'foi', 'ao', 'menos', 'no', 'meu', 'caso', 'continuar', 'a', 'leitura', 'pior', 'que', 'o', 'livro', 'se', 'encontra', 'perdido', 'meses', 'e', 'a', 'loja', 'não', 'corrige', 'o', 'problema', 'o', 'que', 'teoricamente', 'é', 'muito', 'fácil', 'de', 'se', 'fazer', 'bastava', 'uma', 'atualização', 'minha', 'única', 'estrela', 'não', 'é', 'referente', 'ao', 'conteúdo', 'do', 'livro', 'e', 'sim', 'sobre', 'este', 'problema', 'relatado', 'e', 'é', 'dado', 'no', 'intuito', 'de', 'que', 'a', 'loja', 'veja', 'e', 'corrija', 'o', 'problema', 'olá', 'recebi', 'uma', 'notificação', 'por', 'email', 'que', 'não', 'foi', 'possível', 'entregar', 'meu', 'pedido', 'solicitava', 'também', 'fazer', 'alguma', 'alteração', 'no', 'endereço', 'o', 'link', 'não', 'direcionava', 'para', 'o', 'campo', 'correto', 'tive', 'que', 'adivinhar', 'o', 'que', 'fazer', 'eu', 'a', 'fiz', 'após', 'isso', 'a', 'amazon', 'esta', 'retornando', 'o', 'pedido', 'e', 'me', 'dará', 'o', 'crédito', 'eu', 'ainda', 'quero', 'o', 'livro', 'adicionei', '', 'outros', 'endereços', 'onde', 'poderiam', 'me', 'enviar', 'outro', 'problema', 'não', 'encontro', 'onde', 'posso', 'fazer', 'essa', 'reclamação', 'no', 'site', 'ou', 'quem', 'pode', 'me', 'ajudar', 'bom', 'quanto', 'a', 'qualidade', 'dos', 'livros', 'estão', 'em', 'perfeito', 'estado', 'porém', 'a', 'caixa', 'dos', '', 'livros', 'veio', 'danificada', 'com', 'um', 'rasgo', 'como', 'se', 'alguém', 'a', 'tivesse', 'tentado', 'abrir', 'como', 'veio', 'dentro', 'de', 'uma', 'caixa', 'de', 'papelão', 'a', 'recepcionista', 'não', 'tinha', 'como', 'observar', 'este', 'defeito', 'podem', 'me', 'explicar', 'do', 'porquê', 'deste', 'preço', 'pra', 'versão', 'digital', 'quase', 'o', 'mesmo', 'preço', 'da', 'versão', 'física', 'e', 'mais', 'cara', 'que', 'a', 'versão', 'pocket', 'qual', 'a', 'jutificativa', 'pra', 'tal', 'abuso', 'transporte', 'não', 'é', 'nem', 'o', 'papinho', 'de', 'manutenção', 'de', 'software', 'pq', 'isso', 'vc', 'paga', 'uma', 'vez', 'por', 'ano', 'é', 'só', 'uma', 'cópia', 'do', 'que', 'já', 'tem', 'impresso', 'wtf', 'desde', 'que', 'harry', 'potter', 'foi', 'lançado', 'escuto', 'reclamarem', 'da', 'editora', 'rocco', 'nos', 'livros', 'ou', 'porque', 'o', 'papel', 'branco', 'suja', 'muito', 'ou', 'as', 'letras', 'douradas', 'saíam', 'facilmente', 'a', 'total', 'inconsistência', 'nas', 'fontes', 'e', 'formatações', 'nos', 'livros', 'uns', 'livros', 'com', 'sumário', 'outros', 'sem', 'etc', 'parece', 'que', 'o', 'pottermore', 'seguiu', 'fielmente', 'a', 'cartilha', 'rocco', 'de', 'como', 'não', 'publicar', 'um', 'livro', 'dessa', 'vez', 'na', 'edição', 'digital', 'parece', 'que', 'pegaram', 'o', 'primeiro', 'pdf', 'que', 'encontraram', 'na', 'internet', 'e', 'converteram', 'com', 'a', 'ferramenta', 'de', 'email', 'da', 'própria', 'amazon', 'a', 'tradução', 'tem', 'pequenas', 'diferenças', 'como', 'o', 'original', 'impresso', 'os', 'nomes', 'dos', 'fundadores', 'das', 'casas', 'foram', 'mantidos', 'no', 'original', 'em', 'inglês', 'ao', 'invés', 'das', 'traduções', 'dos', 'nomes', 'que', 'foram', 'publicados', 'como', 'godrico', 'grifinória', 'e', 'salazar', 'sonserina', 'o', 'que', 'não', 'é', 'de', 'todo', 'ruim', 'mas', 'as', 'várias', 'palavras', 'com', 'erros', 'eg', 'chamála', 'tocála', 'e', 'semelhantes', 'por', 'diversas', 'vezes', 'perdem', 'a', 'acentuação', 'e', 'hífen', 'ficando', 'chamala', 'e', 'tocala', 'muitas', 'palavras', 'que', 'obviamente', 'tinham', 'sido', 'hifenizadas', 'num', 'texto', 'impresso', 'aparecem', 'cortadas', 'no', 'texto', 'corrido', 'além', 'de', 'em', 'dois', 'livros', 'enigma', 'do', 'príncipe', 'e', 'câmara', 'secreta', 'o', 'texto', 'não', 'vir', 'justificado', 'mas', 'alinhado', 'à', 'esquerda', 'simplesmente', 'inaceitável', 'ao', 'comparar', 'com', 'as', 'publicações', 'dos', 'livros', 'do', 'pottermore', 'em', 'inglês', 'a', 'situação', 'fica', 'ainda', 'pior', 'lá', 'a', 'formatação', 'é', 'absolutamente', 'impecável', 'o', 'que', 'deveria', 'ter', 'sido', 'feito', 'também', 'aqui', 'se', 'não', 'fosse', 'de', 'graça', 'com', 'o', 'unlimited', 'teria', 'sido', 'realmente', 'um', 'dinheiro', 'muito', 'mal', 'gasto', 'felizmente', 'os', 'demais', 'livros', 'que', 'li', 'com', 'o', 'preço', 'da', 'assinatura', 'justificaram', 'o', 'valor', 'do', 'mês', 'péssimo', 'qualidade', 'horrível', 'do', 'papel', 'tamanho', 'de', 'letra', 'quase', 'ilegível', 'e', 'sem', 'nenhuma', 'ilustração', 'não', 'compre', 'fiquei', 'decepcionado', 'especialmente', 'porque', 'pelo', 'preço', 'parecia', 'que', 'o', 'produto', 'seria', 'minimamente', 'aceitável', 'quatro', 'páginas', 'coladas', 'mal', 'cortadas', 'e', 'sobre', 'saindo', 'o', 'livro', 'e', 'com', 'orelha', 'flop', 'justo', 'o', 'que', 'queria', 'mais', 'ler', 'triste', 'fiquei', 'indignado', 'ao', 'saber', 'que', 'a', 'edição', 'digital', 'está', 'diferente', 'da', 'versão', 'impressa', 'conforme', 'informado', 'pelo', 'leitor', 'ricardo', 'como', 'consequência', 'devolvi', 'o', 'ebook', 'com', 'a', 'solicitação', 'da', 'devolução', 'do', 'quantia', 'paga', 'lamentável', 'olá', 'abaixo', 'cópia', 'da', 'mensagem', 'enviada', 'à', 'editora', 'lamppm', 'responsável', 'pelo', 'lançamento', 'do', 'sapiens', 'no', 'brasil', 'e', 'referese', 'exclusivamente', 'à', 'versão', 'kindle', 'estou', 'lendo', 'e', 'adorando', 'o', 'sapiens', 'de', 'yuval', 'noah', 'harari', 'no', 'entanto', 'como', 'estou', 'utilizando', 'o', 'kindle', 'para', 'fazêlo', 'estou', 'sendo', 'obrigado', 'a', 'enfrentar', 'um', 'problema', 'enorme', 'a', 'divisão', 'silábica', 'aleatória', 'pela', 'primeira', 'vez', 'num', 'livro', 'em', 'português', 'me', 'deparei', 'com', 'esse', 'aparente', 'defeito', 'na', 'conversão', 'do', 'livro', 'para', 'o', 'formato', 'da', 'amazon', 'falo', 'isso', 'porque', 'não', 'é', 'o', 'primeiro', 'título', 'em', 'português', 'que', 'leio', 'nesse', 'formato', 'e', 'posso', 'atestar', 'que', 'isso', 'nunca', 'me', 'aconteceu', 'antes', 'fico', 'então', 'obrigado', 'a', 'conviver', 'com', 'bizarrices', 'do', 'tipo', 'mulheres', 'cerimônias', 'sacrifício', 'particular', 'moderno', 'desconhecidos', 'e', 'muito', 'muito', 'mais', 'detalhe', 'alterando', 'o', 'tamanho', 'da', 'fonte', 'não', 'resolve', 'o', 'problema', 'apenas', 'o', 'desloca', 'para', 'outros', 'pontos', 'do', 'texto', 'em', 'inglês', 'isso', 'não', 'é', 'uma', 'surpresa', 'pois', 'não', 'há', 'regra', 'quanto', 'a', 'isso', 'o', 'que', 'posso', 'notar', 'porém', 'é', 'que', 'tanto', 'em', 'inglês', 'quanto', 'em', 'português', 'os', 'livros', 'que', 'li', 'até', 'agora', 'no', 'kindle', 'evitavam', 'ao', 'máximo', 'a', 'separação', 'silábica', 'através', 'de', 'uma', 'simples', 'edição', 'da', 'página', 'de', 'acordo', 'com', 'o', 'tamanho', 'da', 'fonte', 'utilizado', 'no', 'momento', 'a', 'separação', 'se', 'dá', 'apenas', 'eventualmente', 'infelizmente', 'o', 'mesmo', 'não', 'ocorre', 'agora', 'com', 'o', 'sapiens', 'a', 'divisão', 'é', 'constante', 'e', 'em', 'inúmeros', 'e', 'irritantes', 'casos', 'completamente', 'errada', 'na', 'realidade', 'o', 'prazer', 'da', 'leitura', 'vai', 'sendo', 'minado', 'pelo', 'desprazer', 'dessa', 'lamentável', 'falha', 'chegando', 'quase', 'a', 'comprometêlo', 'por', 'completo', 'pergunta', 'teria', 'havido', 'algum', 'problema', 'na', 'conversão', 'desse', 'específico', 'livro', 'para', 'a', 'versão', 'kindle', 'estaria', 'ocorrendo', 'algum', 'conflito', 'de', 'versões', 'já', 'que', 'recentemente', 'tivemos', 'um', 'update', 'do', 'kindle', 'alguém', 'mais', 'trouxe', 'o', 'mesmo', 'problema', 'até', 'vocês', 'informo', 'que', 'estou', 'encaminhando', 'a', 'mesma', 'mensagem', 'para', 'a', 'amazon', 'caso', 'a', 'origem', 'do', 'defeito', 'aqui', 'relatado', 'seja', 'de', 'competência', 'daquela', 'empresa', 'no', 'mais', 'parabéns', 'por', 'editar', 'no', 'brasil', 'um', 'livro', 'tão', 'especial', 'atenciosamente', 'subscrevome', 'na', 'esperança', 'de', 'ter', 'alguma', 'solução', 'para', 'este', 'lamentável', 'contratempo', 'nelson', 'meirelles', 'ola', 'estava', 'ao', 'final', 'da', 'leitura', 'qdo', 'vi', 'que', 'cerca', 'de', '', 'paginas', 'estavam', 'fora', 'de', 'ordem', 'da', '', 'a', '', 'como', 'podemos', 'resolver', 'este', 'problema', 'as', 'ilustrações', 'da', 'capa', 'dos', 'livros', 'são', 'de', 'fato', 'bonitas', 'assim', 'como', 'o', 'box', 'todavia', 'o', 'material', 'é', 'horrível', 'a', 'capa', 'descola', 'facilmente', 'é', 'isso', 'mesmo', 'descola', 'como', 'uma', 'espécie', 'de', 'adesivo', 'as', 'folhas', 'são', 'muito', 'frágeis', 'por', 'descuido', 'deixei', 'cair', 'um', 'pouquinho', 'de', 'água', 'na', 'lateral', 'de', 'um', 'dos', 'livros', 'e', 'as', 'folhas', 'incharam', 'reação', 'que', 'esperamos', 'de', 'um', 'papelão', 'não', 'de', 'papel', 'fiquei', 'extremamente', 'chateado', 'com', 'a', 'falta', 'de', 'qualidade', 'dos', 'materiais', 'com', 'exceção', 'apenas', 'do', 'box', 'se', 'você', 'pensa', 'em', 'obter', 'a', 'coleção', 'completa', 'de', 'hp', 'procure', 'outra', 'opção', 'não', 'incentive', 'a', 'baixa', 'qualidade', 'desta', 'editora', 'um', 'abraço', 'veio', 'com', 'um', 'problema', 'na', 'imagem', 'da', 'capa', 'e', 'vendo', 'as', 'outras', 'críticas', 'isso', 'parece', 'ocorrer', 'com', 'frequência', 'não', 'o', 'recomendo', 'para', 'ninguém', 'o', 'livro', 'é', 'um', 'obra', 'prima', 'mesmo', 'para', 'quem', 'não', 'é', 'fã', 'de', 'fantasia', 'a', 'trama', 'te', 'prende', 'do', 'inicio', 'ao', 'fim', 'mas', 'o', 'preço', 'não', 'ajuda', 'paguei', '', 'na', 'versão', 'física', 'espero', 'que', 'a', 'amazon', 'reveja', 'esses', 'preços', 'não', 'consigo', 'baixar', 'livro', 'para', 'lernão', 'consigo', 'adicionar', 'o', 'livro', 'a', 'minha', 'biblioteca', 'já', 'tentei', 'de', 'várias', 'maneiras', 'e', 'não', 'consegui', 'fazer', 'péssima', 'tradução', 'do', 'livro', 'ou', 'partes', 'do', 'livro', 'estão', 'faltando', 'quando', 'comprado', 'no', 'kindlefrases', 'sem', 'sentido', 'eou', 'claramente', 'com', 'partes', 'faltantes', 'talvez', 'no', 'livro', 'em', 'papel', 'isso', 'não', 'tenha', 'acontecido', 'mas', 'no', 'online', 'sim', 'está', 'em', 'minhas', 'mãos', 'a', 'comédia', 'publicada', 'pela', 'clássicos', 'jackson', 'em', 'dois', 'volumes', 'data', 'de', '', 'fiquei', 'feliz', 'ao', 'descobrir', 'que', 'a', 'tradução', 'de', 'xavier', 'pinheiro', 'foi', 'novamente', 'editada', 'no', 'entanto', 'ao', 'observar', 'os', 'comentários', 'e', 'o', 'número', 'de', 'páginas', 'descubro', 'para', 'a', 'minha', 'surpresa', 'que', 'a', 'nova', 'edição', 'tem', 'pouco', 'mais', 'de', 'quinhentas', 'páginas', 'ora', 'os', 'dois', 'tomos', 'de', '', 'juntos', 'somam', 'quase', 'oitocentas', 'páginas', 'ou', 'seja', 'os', 'comentários', 'foram', 'deixados', 'fora', 'da', 'nova', 'edição', 'cada', 'canto', 'tem', 'no', 'mínimo', 'duas', 'páginas', 'de', 'comentários', 'em', 'letras', 'bem', 'pequenas', 'caso', 'fosse', 'feita', 'uma', 'edição', 'adequada', 'corrigindo', 'o', 'tamanho', 'da', 'letra', 'com', 'gravuras', 'inseridas', 'na', 'obra', 'com', 'tamanho', 'adequado', 'espaçamento', 'penso', 'que', 'se', 'chegariam', 'a', 'mil', 'páginas', 'não', 'vou', 'comprar', 'essa', 'nova', 'edição', 'continuarei', 'com', 'a', 'minha', 'de', '', 'velha', 'mas', 'com', 'conteúdo', 'integral', 'ao', 'ler', 'os', 'livros', 'até', 'então', 'eu', 'não', 'havia', 'encontrado', 'nenhum', 'erro', 'revisão', 'nem', 'tradução', 'porém', 'no', 'livro', '', 'harry', 'potter', 'e', 'a', 'ordem', 'da', 'fênix', 'encontrei', 'um', 'grave', 'erro', 'pelo', 'menos', 'na', 'edição', 'em', 'que', 'comprei', 'e', 'chega', 'a', 'impedir', 'o', 'leitor', 'de', 'continuar', 'a', 'leitura', 'não', 'garantindo', 'uma', 'boa', 'experiência', 'impedindoo', 'de', 'terminar', 'o', 'livro', 'e', 'a', 'história', 'o', 'erro', 'em', 'questão', 'está', 'no', 'capítulo', 'trinta', 'e', 'um', 'noms', 'o', 'capítulo', 'inicia', 'e', 'segue', 'normalmente', 'por', 'algumas', 'páginas', 'até', 'chegar', 'à', 'página', '', 'e', 'então', 'onde', 'deveria', 'haver', 'a', 'próxima', 'página', '', 'há', 'em', 'seu', 'lugar', 'a', 'página', '', 'e', 'assim', 'segue', 'até', 'chegar', 'novamente', 'à', 'outra', 'uma', 'nova', 'página', '', 'e', 'onde', 'novamente', 'deveria', 'haver', 'uma', 'página', '', 'na', 'próxima', 'página', 'há', 'a', 'página', '', 'pulando', 'assim', '', 'capítulos', 'da', 'história', 'do', 'livro', 'o', 'box', 'é', 'resistente', 'bonito', 'de', 'boa', 'qualidade', 'e', 'não', 'há', 'aquele', 'problema', 'onde', 'não', 'cabem', 'os', 'livros', 'os', 'livros', 'possuem', 'excelente', 'capas', 'bonitas', 'assim', 'como', 'o', 'box', 'a', 'fonte', 'é', 'um', 'pouco', 'menor', 'mas', 'nada', 'que', 'atrapalhe', 'na', 'leitura', 'páginas', 'de', 'ótimo', 'material', 'o', 'box', 'chegou', 'com', 'nenhum', 'problema', 'o', 'transporte', 'foi', 'ótimo', 'eu', 'também', 'cheguei', 'a', 'entrar', 'na', 'página', 'para', 'comprar', 'o', 'livro', 'em', 'questão', 'porém', 'com', 'avaliações', 'como', 'estas', 'desisti', 'da', 'compra', 'acho', 'um', 'absurdo', 'uma', 'empresa', 'como', 'a', 'amazon', 'estar', 'envolvida', 'com', 'pirataria', 'ou', 'mesmo', 'comercializando', 'um', 'material', 'incorreto', 'fraudulento', 'e', 'por', 'sua', 'vez', 'desrespeitando', 'o', 'consumidor', 'absurdo', 'não', 'comprem', 'valor', 'abusivo', 'para', 'ebook', 'amazon', 'cobra', 'o', 'dobro', 'do', 'que', 'é', 'cobrado', 'nos', 'eua', 'estamos', 'financiando', 'a', 'sua', 'crise', 'recebi', 'o', 'produto', 'todo', 'amassado', 'e', 'com', 'páginas', 'dobradas', 'e', 'marcadas', 'não', 'valeu', 'a', 'pena', 'foi', 'de', 'péssima', 'qualidade', 'o', 'serviço', 'já', 'resolvi', 'o', 'problema', 'com', 'a', 'amazon', 'pelo', 'que', 'sou', 'grata', 'porém', 'tenho', 'que', 'comentálo', 'já', 'havia', 'lido', 'em', 'algum', 'comentário', 'aqui', 'que', 'a', 'pessoa', 'recebeu', 'um', 'livro', 'com', 'páginas', 'trocadas', 'e', 'eu', 'tive', 'o', 'mesmo', 'problema', 'da', 'página', '', 'o', 'livro', 'pula', 'para', 'a', '', 'chagando', 'na', '', 'repetemse', 'as', 'páginas', 'desde', 'a', '', 'poxa', 'esse', 'livro', 'não', 'me', 'serve', 'para', 'nada', 'além', 'do', 'fato', 'de', 'o', 'papel', 'pólen', 'do', 'miolo', 'do', 'livro', 'é', 'de', 'baixa', 'qualidade', 'parecendo', 'um', 'papel', 'de', 'jornal', 'como', 'aconteceu', 'também', 'com', 'o', 'segundo', 'livro', 'da', 'mesma', 'série', 'que', 'inclusive', 'tinha', 'até', 'páginas', 'bem', 'apagadas', 'no', 'meio', 'os', 'demais', 'livros', 'da', 'série', 'que', 'comprei', 'são', 'em', 'papel', 'de', 'melhor', 'qualidade', 'disparados', 'ainda', 'o', 'papel', 'de', 'capa', 'é', 'fininho', 'e', 'a', 'diagramação', 'letras', 'bem', 'pequenas', 'espaçamento', 'entre', 'linhas', 'apertado', 'isso', 'tudo', 'que', 'faz', 'desta', 'versão', 'comemorativa', 'nada', 'mais', 'do', 'que', 'uma', 'versão', 'econômica', 'estou', 'aguardando', 'posição', 'para', 'resolver', 'o', 'meu', 'problema', 'o', 'livro', 'é', 'para', 'uma', 'criança', 'que', 'esta', 'doente', 'no', 'hospital', 'e', 'fez', 'aniversario', 'nest', 'eultimo', 'domingo', 'o', 'livro', 'é', 'ótimo', 'mas', 'quando', 'vi', 'que', 'o', 'livro', 'físico', 'na', 'própria', 'amazon', 'é', 'mais', 'barato', 'que', 'o', 'ebook', 'me', 'senti', 'enganado', 'bom', 'livro', 'baseado', 'em', 'um', 'só', 'tema', 'mas', 'parece', 'um', 'resumo', 'o', 'valor', 'é', 'proporcional', 'ao', 'conteúdo', 'e', 'o', 'pior', 'ter', 'que', 'completar', 'os', 'caracteres', 'nesta', 'avaliação']\n"
     ]
    }
   ],
   "source": [
    "palavras_relevantes = []             #Lista com as palvras de feedbacks relevantes.\n",
    "palavras_irrelevantes = []         #Lista com as palvras de feedbacks irrelevantes.\n",
    "\n",
    "train_relevantes = train.loc[train.Target == 'Relevante', :]        #base de dados relevante\n",
    "train_irrelevantes = train.loc[train.Target == 'Irrelevante', :]        #base de dados irrelevantes\n",
    "\n",
    "for i in range(len(train_relevantes)):\n",
    "    palavras_relevantes += cleanup(remove_emojis(train_relevantes.iloc[i, 0].lower())).split()\n",
    "\n",
    "for i in range(len(train_irrelevantes)):\n",
    "    palavras_irrelevantes += cleanup(remove_emojis(train_irrelevantes.iloc[i, 0].lower())).split()\n",
    "\n",
    "#Tirando númreros das listas de palavras.\n",
    "\n",
    "for i in range(len(palavras_relevantes)):\n",
    "    for caractere in palavras_relevantes[i]:\n",
    "        if caractere.isdigit():\n",
    "            palavras_relevantes[i] = ''\n",
    "    \n",
    "for i in range(len(palavras_irrelevantes)):\n",
    "    for caractere in palavras_irrelevantes[i]:\n",
    "        if caractere.isdigit():\n",
    "            palavras_irrelevantes[i] = ''\n",
    "\n",
    "#Criando lista com todas as palavras\n",
    "total_palavras = palavras_relevantes + palavras_irrelevantes\n",
    "\n",
    "print(palavras_relevantes)\n"
   ]
  },
  {
   "attachments": {},
   "cell_type": "markdown",
   "metadata": {},
   "source": [
    "#### 3 - Criando pd.series para cada Target"
   ]
  },
  {
   "cell_type": "code",
   "execution_count": 23,
   "metadata": {},
   "outputs": [],
   "source": [
    "#Criando Série para palavras relevantes\n",
    "serie_relevantes = pd.Series(palavras_relevantes)\n",
    "\n",
    "#Criando Série para palavras não relevantes\n",
    "serie_irrelevantes = pd.Series(palavras_irrelevantes)\n",
    "\n",
    "#Criando série para todas as palavras:\n",
    "serie_total = pd.Series(total_palavras)"
   ]
  },
  {
   "attachments": {},
   "cell_type": "markdown",
   "metadata": {},
   "source": [
    "#### 4 - Gerando tabela de frequências para as Séries"
   ]
  },
  {
   "cell_type": "code",
   "execution_count": 24,
   "metadata": {},
   "outputs": [],
   "source": [
    "#Tabela de frequência de palavras relevantes\n",
    "tabela_relevante = serie_relevantes.value_counts()\n",
    "\n",
    "#Tabela de frequência de palavras não relevantes\n",
    "tabela_irrelevante = serie_irrelevantes.value_counts()\n",
    "\n",
    "#Tabela de frequência de todas as palavras\n",
    "tabela_total = serie_total.value_counts()\n"
   ]
  },
  {
   "cell_type": "markdown",
   "metadata": {},
   "source": [
    "___\n",
    "### Verificando a performance do Classificador\n",
    "\n",
    "Agora você deve testar o seu classificador com a base de Testes."
   ]
  },
  {
   "cell_type": "code",
   "execution_count": null,
   "metadata": {},
   "outputs": [],
   "source": []
  },
  {
   "cell_type": "code",
   "execution_count": null,
   "metadata": {},
   "outputs": [],
   "source": []
  },
  {
   "cell_type": "code",
   "execution_count": null,
   "metadata": {},
   "outputs": [],
   "source": []
  },
  {
   "cell_type": "markdown",
   "metadata": {},
   "source": [
    "___\n",
    "### Concluindo"
   ]
  },
  {
   "cell_type": "code",
   "execution_count": null,
   "metadata": {},
   "outputs": [],
   "source": []
  },
  {
   "cell_type": "code",
   "execution_count": null,
   "metadata": {},
   "outputs": [],
   "source": []
  },
  {
   "cell_type": "code",
   "execution_count": null,
   "metadata": {},
   "outputs": [],
   "source": []
  },
  {
   "cell_type": "markdown",
   "metadata": {},
   "source": [
    "___\n",
    "### Qualidade do Classificador a partir de novas separações dos tweets entre Treinamento e Teste\n",
    "\n",
    "Caso for fazer esse item do Projeto"
   ]
  },
  {
   "cell_type": "code",
   "execution_count": null,
   "metadata": {},
   "outputs": [],
   "source": []
  },
  {
   "cell_type": "code",
   "execution_count": null,
   "metadata": {},
   "outputs": [],
   "source": []
  },
  {
   "cell_type": "code",
   "execution_count": null,
   "metadata": {},
   "outputs": [],
   "source": []
  },
  {
   "cell_type": "markdown",
   "metadata": {},
   "source": [
    "___\n",
    "## Aperfeiçoamento:\n",
    "\n",
    "Trabalhos que conseguirem pelo menos conceito B vão evoluir em conceito dependendo da quantidade de itens avançados:\n",
    "\n",
    "* IMPLEMENTOU outras limpezas e transformações que não afetem a qualidade da informação contida nos tweets. Ex: stemming, lemmatization, stopwords\n",
    "* CONSIDEROU mais de duas categorias na variável Target e INCREMENTOU a quantidade de notícias, mantendo pelo menos 250 notícias por categoria (OBRIGATÓRIO PARA TRIOS, sem contar como item avançado)\n",
    "* Para Target com duas categorias: CRIOU pelo menos quatro categorias intermediárias de relevância baseadas na probabilidade: ex.: muito relevante, relevante, neutro, irrelevante, muito irrelevante\n",
    "* EXPLICOU porquê não pode usar o próprio classificador para gerar mais amostras de treinamento\n",
    "* PROPÔS diferentes cenários para Naïve Bayes fora do contexto do projeto (pelo menos dois cenários, exceto aqueles já apresentados em sala pelos professores: por exemplo, filtro de spam)\n",
    "* SUGERIU e EXPLICOU melhorias reais com indicações concretas de como implementar (indicar como fazer e indicar material de pesquisa)\n",
    "* FEZ o item Qualidade do Classificador a partir de novas separações das Notícias entre Treinamento e Teste descrito no enunciado do projeto (OBRIGATÓRIO para conceitos A ou A+)"
   ]
  },
  {
   "cell_type": "markdown",
   "metadata": {},
   "source": [
    "___\n",
    "## Referências"
   ]
  },
  {
   "cell_type": "markdown",
   "metadata": {},
   "source": [
    "[Naive Bayes and Text Classification](https://arxiv.org/pdf/1410.5329.pdf)  **Mais completo**\n",
    "\n",
    "[A practical explanation of a Naive Bayes Classifier](https://monkeylearn.com/blog/practical-explanation-naive-bayes-classifier/) **Mais simples**"
   ]
  },
  {
   "cell_type": "code",
   "execution_count": null,
   "metadata": {},
   "outputs": [],
   "source": []
  }
 ],
 "metadata": {
  "kernelspec": {
   "display_name": "base",
   "language": "python",
   "name": "python3"
  },
  "language_info": {
   "codemirror_mode": {
    "name": "ipython",
    "version": 3
   },
   "file_extension": ".py",
   "mimetype": "text/x-python",
   "name": "python",
   "nbconvert_exporter": "python",
   "pygments_lexer": "ipython3",
   "version": "3.9.13"
  },
  "vscode": {
   "interpreter": {
    "hash": "5e519a5cf2e8f0955561b2ee7ea69bac76367187692ae83f9e046badc6f67ca5"
   }
  }
 },
 "nbformat": 4,
 "nbformat_minor": 4
}
